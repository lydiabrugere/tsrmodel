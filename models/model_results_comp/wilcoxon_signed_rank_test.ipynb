{
 "cells": [
  {
   "cell_type": "code",
   "execution_count": 1,
   "metadata": {},
   "outputs": [],
   "source": [
    "from sqlalchemy import create_engine\n",
    "import sys\n",
    "import pandas as pd\n",
    "import matplotlib.pyplot as plt"
   ]
  },
  {
   "cell_type": "code",
   "execution_count": 2,
   "metadata": {},
   "outputs": [],
   "source": [
    "localhost = {'user': 'postgres', 'password': 'postgres', 'host': 'localhost', 'port': 5432, 'db': 'fiadb'}\n",
    "params = 'postgresql://{0}:{1}@{2}:{3}/{4}'\n",
    "engine = create_engine(params.format(localhost['user'], localhost['password'], localhost['host'], localhost['port'], localhost['db']))\n",
    "select_query = \"\"\"\n",
    "select a.tsr, a.tsr_predicted as glm_pred,\n",
    "b.tsr_predicted as rf_pred,\n",
    "c.tsr_predicted as grnn_pred,\n",
    "d.tsr_predicted as ffnn_pred\n",
    "FROM predictor.lasso_glm a, predictor.random_forest b, predictor.grnn c, predictor.ffnn d\n",
    "where a.grid_id = b.grid_id\n",
    "and a.grid_id = c.grid_id\n",
    "and a.grid_id = d.grid_id\n",
    "\"\"\"\n",
    "pred_results = pd.read_sql(select_query, engine)"
   ]
  },
  {
   "cell_type": "code",
   "execution_count": 3,
   "metadata": {},
   "outputs": [
    {
     "data": {
      "text/html": [
       "<div>\n",
       "<style scoped>\n",
       "    .dataframe tbody tr th:only-of-type {\n",
       "        vertical-align: middle;\n",
       "    }\n",
       "\n",
       "    .dataframe tbody tr th {\n",
       "        vertical-align: top;\n",
       "    }\n",
       "\n",
       "    .dataframe thead th {\n",
       "        text-align: right;\n",
       "    }\n",
       "</style>\n",
       "<table border=\"1\" class=\"dataframe\">\n",
       "  <thead>\n",
       "    <tr style=\"text-align: right;\">\n",
       "      <th></th>\n",
       "      <th>tsr</th>\n",
       "      <th>glm_pred</th>\n",
       "      <th>rf_pred</th>\n",
       "      <th>grnn_pred</th>\n",
       "      <th>ffnn_pred</th>\n",
       "    </tr>\n",
       "  </thead>\n",
       "  <tbody>\n",
       "    <tr>\n",
       "      <th>0</th>\n",
       "      <td>4.0</td>\n",
       "      <td>7.248847</td>\n",
       "      <td>2.944604</td>\n",
       "      <td>3.276433</td>\n",
       "      <td>1.84324</td>\n",
       "    </tr>\n",
       "    <tr>\n",
       "      <th>1</th>\n",
       "      <td>2.0</td>\n",
       "      <td>7.243437</td>\n",
       "      <td>2.626410</td>\n",
       "      <td>2.000123</td>\n",
       "      <td>2.25253</td>\n",
       "    </tr>\n",
       "    <tr>\n",
       "      <th>2</th>\n",
       "      <td>5.0</td>\n",
       "      <td>7.086875</td>\n",
       "      <td>3.855186</td>\n",
       "      <td>4.994345</td>\n",
       "      <td>4.10530</td>\n",
       "    </tr>\n",
       "    <tr>\n",
       "      <th>3</th>\n",
       "      <td>1.0</td>\n",
       "      <td>6.216415</td>\n",
       "      <td>1.820770</td>\n",
       "      <td>2.803938</td>\n",
       "      <td>1.72234</td>\n",
       "    </tr>\n",
       "    <tr>\n",
       "      <th>4</th>\n",
       "      <td>1.0</td>\n",
       "      <td>6.471408</td>\n",
       "      <td>2.102745</td>\n",
       "      <td>2.795763</td>\n",
       "      <td>1.84148</td>\n",
       "    </tr>\n",
       "  </tbody>\n",
       "</table>\n",
       "</div>"
      ],
      "text/plain": [
       "   tsr  glm_pred   rf_pred  grnn_pred  ffnn_pred\n",
       "0  4.0  7.248847  2.944604   3.276433    1.84324\n",
       "1  2.0  7.243437  2.626410   2.000123    2.25253\n",
       "2  5.0  7.086875  3.855186   4.994345    4.10530\n",
       "3  1.0  6.216415  1.820770   2.803938    1.72234\n",
       "4  1.0  6.471408  2.102745   2.795763    1.84148"
      ]
     },
     "execution_count": 3,
     "metadata": {},
     "output_type": "execute_result"
    }
   ],
   "source": [
    "pred_results.head()"
   ]
  },
  {
   "cell_type": "code",
   "execution_count": 31,
   "metadata": {},
   "outputs": [
    {
     "data": {
      "text/plain": [
       "(15310, 5)"
      ]
     },
     "execution_count": 31,
     "metadata": {},
     "output_type": "execute_result"
    }
   ],
   "source": [
    "pred_results.shape"
   ]
  },
  {
   "cell_type": "code",
   "execution_count": 25,
   "metadata": {},
   "outputs": [],
   "source": [
    "from scipy.stats import wilcoxon\n",
    "from statistics import median"
   ]
  },
  {
   "cell_type": "code",
   "execution_count": 21,
   "metadata": {},
   "outputs": [
    {
     "data": {
      "text/plain": [
       "(56665718.0, 0.00039688720450696893)"
      ]
     },
     "execution_count": 21,
     "metadata": {},
     "output_type": "execute_result"
    }
   ],
   "source": [
    "glm_w, glm_p = wilcoxon(pred_results['tsr'].tolist(), pred_results['glm_pred'].tolist())"
   ]
  },
  {
   "cell_type": "code",
   "execution_count": 22,
   "metadata": {},
   "outputs": [
    {
     "data": {
      "text/plain": [
       "(57574340.0, 0.06001473650742681)"
      ]
     },
     "execution_count": 22,
     "metadata": {},
     "output_type": "execute_result"
    }
   ],
   "source": [
    "rf_w, rf_p = wilcoxon(pred_results['tsr'].tolist(), pred_results['rf_pred'].tolist())"
   ]
  },
  {
   "cell_type": "code",
   "execution_count": 23,
   "metadata": {},
   "outputs": [
    {
     "data": {
      "text/plain": [
       "(57483148.0, 0.0406154561673107)"
      ]
     },
     "execution_count": 23,
     "metadata": {},
     "output_type": "execute_result"
    }
   ],
   "source": [
    "grnn_w, grnn_p = wilcoxon(pred_results['tsr'].tolist(), pred_results['grnn_pred'].tolist())"
   ]
  },
  {
   "cell_type": "code",
   "execution_count": 24,
   "metadata": {},
   "outputs": [
    {
     "data": {
      "text/plain": [
       "(55302952.5, 1.5992205163465825e-09)"
      ]
     },
     "execution_count": 24,
     "metadata": {},
     "output_type": "execute_result"
    }
   ],
   "source": [
    "ffnn_w, ffnn_p = wilcoxon(pred_results['tsr'].tolist(), pred_results['ffnn_pred'].tolist())"
   ]
  },
  {
   "cell_type": "code",
   "execution_count": 28,
   "metadata": {},
   "outputs": [
    {
     "name": "stdout",
     "output_type": "stream",
     "text": [
      "12.0 13.5228224656636 12.5873510233424 12.71703548197955 12.381\n"
     ]
    }
   ],
   "source": [
    "print(median(pred_results['tsr'].tolist()), median(pred_results['glm_pred'].tolist()),\n",
    "     median(pred_results['rf_pred'].tolist()), median(pred_results['grnn_pred'].tolist()),\n",
    "     median(pred_results['ffnn_pred'].tolist()))"
   ]
  },
  {
   "cell_type": "code",
   "execution_count": 29,
   "metadata": {},
   "outputs": [
    {
     "name": "stdout",
     "output_type": "stream",
     "text": [
      "56665718.0 57574340.0 57483148.0 55302952.5\n"
     ]
    }
   ],
   "source": [
    "print(glm_w, rf_w, grnn_w, ffnn_w)"
   ]
  },
  {
   "cell_type": "code",
   "execution_count": 30,
   "metadata": {},
   "outputs": [
    {
     "name": "stdout",
     "output_type": "stream",
     "text": [
      "0.00039688720450696893 0.06001473650742681 0.0406154561673107 1.5992205163465825e-09\n"
     ]
    }
   ],
   "source": [
    "print(glm_p, rf_p, grnn_p, ffnn_p)"
   ]
  },
  {
   "cell_type": "code",
   "execution_count": null,
   "metadata": {},
   "outputs": [],
   "source": []
  }
 ],
 "metadata": {
  "kernelspec": {
   "display_name": "Python 3",
   "language": "python",
   "name": "python3"
  },
  "language_info": {
   "codemirror_mode": {
    "name": "ipython",
    "version": 3
   },
   "file_extension": ".py",
   "mimetype": "text/x-python",
   "name": "python",
   "nbconvert_exporter": "python",
   "pygments_lexer": "ipython3",
   "version": "3.7.6"
  }
 },
 "nbformat": 4,
 "nbformat_minor": 4
}
