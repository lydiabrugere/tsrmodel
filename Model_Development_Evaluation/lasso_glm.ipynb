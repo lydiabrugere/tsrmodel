{
 "cells": [
  {
   "cell_type": "code",
   "execution_count": 1,
   "metadata": {},
   "outputs": [],
   "source": [
    "# Jupyter setup to expand cell display to 100% width on your screen (optional)\n",
    "# Import relevant modules and setup for calling glmnet\n",
    "%reset -f\n",
    "%matplotlib inline\n",
    "\n",
    "from sqlalchemy import create_engine\n",
    "import sys\n",
    "import pandas as pd\n",
    "import numpy as np\n",
    "import scipy, importlib, pprint, matplotlib.pyplot as plt, warnings\n",
    "from sklearn.model_selection import train_test_split\n",
    "from sklearn.preprocessing import StandardScaler\n",
    "\n",
    "from sklearn.impute import KNNImputer\n",
    "\n",
    "import statsmodels.api as sm\n",
    "import statsmodels.genmod as genmod\n",
    "from statsmodels.stats.outliers_influence import variance_inflation_factor\n",
    "from sklearn.metrics import mean_absolute_error\n",
    "\n",
    "from sklearn.base import BaseEstimator, RegressorMixin\n",
    "from sklearn.model_selection import cross_val_score\n",
    "import sklearn.model_selection as ms\n",
    "\n",
    "import warnings\n",
    "warnings.filterwarnings('ignore')"
   ]
  },
  {
   "cell_type": "markdown",
   "metadata": {},
   "source": [
    "## Load TSR and attributes data from DB"
   ]
  },
  {
   "cell_type": "code",
   "execution_count": 2,
   "metadata": {},
   "outputs": [],
   "source": [
    "localhost = {'user': 'postgres', 'password': 'postgres', 'host': 'localhost', 'port': 5432, 'db': 'fiadb'}\n",
    "params = 'postgresql://{0}:{1}@{2}:{3}/{4}'\n",
    "engine = create_engine(params.format(localhost['user'], localhost['password'], localhost['host'], localhost['port'], localhost['db']))\n",
    "# geom_sql = \"\"\"select distinct grid_id, grid_geom from fs_fiadb.pergrid\"\"\"\n",
    "pergrid_base = \"\"\"select distinct * from predictor.pergrid_base\"\"\"\n",
    "pergrid_base_df = pd.read_sql(pergrid_base, engine)"
   ]
  },
  {
   "cell_type": "code",
   "execution_count": 3,
   "metadata": {},
   "outputs": [
    {
     "data": {
      "text/plain": [
       "Index(['grid_id', 'aet', 'ai', 'art', 'ewd', 'fa', 'map', 'mat', 'mpdq',\n",
       "       'mtcq', 'pet', 'psn', 'ra', 'rmap', 'rmat', 'tsn', 'mfdf', 'alt', 'shg',\n",
       "       'mtwq', 'wkb_geometry', 'tsr', 'wa'],\n",
       "      dtype='object')"
      ]
     },
     "execution_count": 3,
     "metadata": {},
     "output_type": "execute_result"
    }
   ],
   "source": [
    "pergrid_base_df.columns"
   ]
  },
  {
   "cell_type": "markdown",
   "metadata": {},
   "source": [
    "## Process TSR predictor and outcome varaibles"
   ]
  },
  {
   "cell_type": "markdown",
   "metadata": {},
   "source": [
    "### only use lasso-selected variables "
   ]
  },
  {
   "cell_type": "code",
   "execution_count": 4,
   "metadata": {},
   "outputs": [],
   "source": [
    "y = pergrid_base_df['tsr']\n",
    "grid_id = pergrid_base_df['grid_id']\n",
    "lasso_var= ['aet', 'ai', 'art', 'ewd', 'fa', 'map', 'mat', 'mpdq',\n",
    "       'mtcq', 'pet', 'psn', 'ra', 'rmap', 'rmat', 'tsn', 'mfdf', 'alt', 'shg',\n",
    "       'mtwq', 'wa']\n",
    "pergrid_base_selected_df = pergrid_base_df[lasso_var]"
   ]
  },
  {
   "cell_type": "markdown",
   "metadata": {},
   "source": [
    "### fill in no-data grid with value from neighboring grids"
   ]
  },
  {
   "cell_type": "code",
   "execution_count": 5,
   "metadata": {},
   "outputs": [],
   "source": [
    "imputer = KNNImputer(n_neighbors=5)\n",
    "pergrid_base_selected_filled = imputer.fit_transform(pergrid_base_selected_df)\n",
    "pergrid_base_df = pd.DataFrame(pergrid_base_selected_filled)"
   ]
  },
  {
   "cell_type": "code",
   "execution_count": 6,
   "metadata": {},
   "outputs": [
    {
     "data": {
      "text/html": [
       "<div>\n",
       "<style scoped>\n",
       "    .dataframe tbody tr th:only-of-type {\n",
       "        vertical-align: middle;\n",
       "    }\n",
       "\n",
       "    .dataframe tbody tr th {\n",
       "        vertical-align: top;\n",
       "    }\n",
       "\n",
       "    .dataframe thead th {\n",
       "        text-align: right;\n",
       "    }\n",
       "</style>\n",
       "<table border=\"1\" class=\"dataframe\">\n",
       "  <thead>\n",
       "    <tr style=\"text-align: right;\">\n",
       "      <th></th>\n",
       "      <th>0</th>\n",
       "      <th>1</th>\n",
       "      <th>2</th>\n",
       "      <th>3</th>\n",
       "      <th>4</th>\n",
       "      <th>5</th>\n",
       "      <th>6</th>\n",
       "      <th>7</th>\n",
       "      <th>8</th>\n",
       "      <th>9</th>\n",
       "      <th>10</th>\n",
       "      <th>11</th>\n",
       "      <th>12</th>\n",
       "      <th>13</th>\n",
       "      <th>14</th>\n",
       "      <th>15</th>\n",
       "      <th>16</th>\n",
       "      <th>17</th>\n",
       "      <th>18</th>\n",
       "      <th>19</th>\n",
       "    </tr>\n",
       "  </thead>\n",
       "  <tbody>\n",
       "    <tr>\n",
       "      <th>0</th>\n",
       "      <td>6000.0</td>\n",
       "      <td>0.36750</td>\n",
       "      <td>21.191667</td>\n",
       "      <td>-2.523666e+06</td>\n",
       "      <td>7.7058</td>\n",
       "      <td>681.0</td>\n",
       "      <td>20.036236</td>\n",
       "      <td>87.0</td>\n",
       "      <td>16.299375</td>\n",
       "      <td>1826.768199</td>\n",
       "      <td>50.411522</td>\n",
       "      <td>16.0</td>\n",
       "      <td>2.833333</td>\n",
       "      <td>0.604166</td>\n",
       "      <td>444.860212</td>\n",
       "      <td>2.270</td>\n",
       "      <td>11.597701</td>\n",
       "      <td>5.8</td>\n",
       "      <td>28.792500</td>\n",
       "      <td>4.1166</td>\n",
       "    </tr>\n",
       "    <tr>\n",
       "      <th>1</th>\n",
       "      <td>65535.0</td>\n",
       "      <td>0.38290</td>\n",
       "      <td>20.233612</td>\n",
       "      <td>-2.537902e+06</td>\n",
       "      <td>14.1498</td>\n",
       "      <td>699.0</td>\n",
       "      <td>20.298634</td>\n",
       "      <td>92.0</td>\n",
       "      <td>16.340292</td>\n",
       "      <td>1811.927757</td>\n",
       "      <td>49.797996</td>\n",
       "      <td>14.0</td>\n",
       "      <td>2.000000</td>\n",
       "      <td>0.620833</td>\n",
       "      <td>444.259982</td>\n",
       "      <td>2.100</td>\n",
       "      <td>5.982890</td>\n",
       "      <td>5.0</td>\n",
       "      <td>28.717458</td>\n",
       "      <td>11.8152</td>\n",
       "    </tr>\n",
       "    <tr>\n",
       "      <th>2</th>\n",
       "      <td>65535.0</td>\n",
       "      <td>1.30362</td>\n",
       "      <td>0.164286</td>\n",
       "      <td>-5.247088e+02</td>\n",
       "      <td>0.0711</td>\n",
       "      <td>1148.5</td>\n",
       "      <td>0.309987</td>\n",
       "      <td>131.5</td>\n",
       "      <td>21.304167</td>\n",
       "      <td>1918.111111</td>\n",
       "      <td>0.713689</td>\n",
       "      <td>1.0</td>\n",
       "      <td>1.833333</td>\n",
       "      <td>0.241667</td>\n",
       "      <td>3.698817</td>\n",
       "      <td>6.524</td>\n",
       "      <td>0.011696</td>\n",
       "      <td>2.0</td>\n",
       "      <td>28.626191</td>\n",
       "      <td>302.9049</td>\n",
       "    </tr>\n",
       "    <tr>\n",
       "      <th>3</th>\n",
       "      <td>5135.0</td>\n",
       "      <td>0.28980</td>\n",
       "      <td>23.950167</td>\n",
       "      <td>-2.941595e+06</td>\n",
       "      <td>3.0042</td>\n",
       "      <td>565.0</td>\n",
       "      <td>20.193576</td>\n",
       "      <td>76.0</td>\n",
       "      <td>15.517042</td>\n",
       "      <td>1972.128352</td>\n",
       "      <td>43.001180</td>\n",
       "      <td>108.0</td>\n",
       "      <td>2.333333</td>\n",
       "      <td>0.391667</td>\n",
       "      <td>492.281141</td>\n",
       "      <td>2.120</td>\n",
       "      <td>61.886973</td>\n",
       "      <td>5.4</td>\n",
       "      <td>29.458834</td>\n",
       "      <td>1.2528</td>\n",
       "    </tr>\n",
       "    <tr>\n",
       "      <th>4</th>\n",
       "      <td>5645.0</td>\n",
       "      <td>0.30170</td>\n",
       "      <td>23.526261</td>\n",
       "      <td>-2.959517e+06</td>\n",
       "      <td>10.0350</td>\n",
       "      <td>580.0</td>\n",
       "      <td>20.710174</td>\n",
       "      <td>80.0</td>\n",
       "      <td>15.754000</td>\n",
       "      <td>1928.968811</td>\n",
       "      <td>44.328019</td>\n",
       "      <td>34.0</td>\n",
       "      <td>3.416667</td>\n",
       "      <td>0.620833</td>\n",
       "      <td>489.587254</td>\n",
       "      <td>2.120</td>\n",
       "      <td>32.270955</td>\n",
       "      <td>5.0</td>\n",
       "      <td>29.300416</td>\n",
       "      <td>4.2480</td>\n",
       "    </tr>\n",
       "  </tbody>\n",
       "</table>\n",
       "</div>"
      ],
      "text/plain": [
       "         0        1          2             3        4       5          6  \\\n",
       "0   6000.0  0.36750  21.191667 -2.523666e+06   7.7058   681.0  20.036236   \n",
       "1  65535.0  0.38290  20.233612 -2.537902e+06  14.1498   699.0  20.298634   \n",
       "2  65535.0  1.30362   0.164286 -5.247088e+02   0.0711  1148.5   0.309987   \n",
       "3   5135.0  0.28980  23.950167 -2.941595e+06   3.0042   565.0  20.193576   \n",
       "4   5645.0  0.30170  23.526261 -2.959517e+06  10.0350   580.0  20.710174   \n",
       "\n",
       "       7          8            9         10     11        12        13  \\\n",
       "0   87.0  16.299375  1826.768199  50.411522   16.0  2.833333  0.604166   \n",
       "1   92.0  16.340292  1811.927757  49.797996   14.0  2.000000  0.620833   \n",
       "2  131.5  21.304167  1918.111111   0.713689    1.0  1.833333  0.241667   \n",
       "3   76.0  15.517042  1972.128352  43.001180  108.0  2.333333  0.391667   \n",
       "4   80.0  15.754000  1928.968811  44.328019   34.0  3.416667  0.620833   \n",
       "\n",
       "           14     15         16   17         18        19  \n",
       "0  444.860212  2.270  11.597701  5.8  28.792500    4.1166  \n",
       "1  444.259982  2.100   5.982890  5.0  28.717458   11.8152  \n",
       "2    3.698817  6.524   0.011696  2.0  28.626191  302.9049  \n",
       "3  492.281141  2.120  61.886973  5.4  29.458834    1.2528  \n",
       "4  489.587254  2.120  32.270955  5.0  29.300416    4.2480  "
      ]
     },
     "execution_count": 6,
     "metadata": {},
     "output_type": "execute_result"
    }
   ],
   "source": [
    "pergrid_base_df.head()"
   ]
  },
  {
   "cell_type": "code",
   "execution_count": 16,
   "metadata": {},
   "outputs": [],
   "source": [
    "from sklearn.preprocessing import MinMaxScaler\n",
    "\n",
    "ss = MinMaxScaler()\n",
    "X_std = ss.fit_transform(pergrid_base_df)\n",
    "\n",
    "Xstd=pd.DataFrame(data=X_std[0:,0:],\n",
    "                index=pergrid_base_df.index,\n",
    "                columns=lasso_var)"
   ]
  },
  {
   "cell_type": "code",
   "execution_count": 8,
   "metadata": {},
   "outputs": [],
   "source": [
    "x_train, x_test, y_train, y_test = train_test_split(Xstd, y, test_size=0.2, random_state=12345)"
   ]
  },
  {
   "cell_type": "markdown",
   "metadata": {},
   "source": [
    "## Calculate VIF"
   ]
  },
  {
   "cell_type": "code",
   "execution_count": 19,
   "metadata": {},
   "outputs": [
    {
     "data": {
      "text/plain": [
       "aet        2.099093\n",
       "ai        48.545420\n",
       "art     1543.590152\n",
       "ewd      240.599854\n",
       "fa         5.583221\n",
       "map       92.286433\n",
       "mat      425.471442\n",
       "mpdq      47.314070\n",
       "mtcq     655.984657\n",
       "pet      182.075913\n",
       "psn       21.420803\n",
       "ra        39.271648\n",
       "rmap       5.040411\n",
       "rmat      28.442990\n",
       "tsn     1254.755912\n",
       "mfdf      87.922182\n",
       "alt       28.171383\n",
       "shg        4.822418\n",
       "mtwq     517.123907\n",
       "wa         2.254314\n",
       "dtype: float64"
      ]
     },
     "execution_count": 19,
     "metadata": {},
     "output_type": "execute_result"
    }
   ],
   "source": [
    "# if the VIF is between 5-10, multicolinearity is likely present and you should consider dropping the variable.\n",
    "pd.Series([variance_inflation_factor(Xstd.values, i) \n",
    "               for i in range(Xstd.shape[1])], \n",
    "              index=Xstd.columns)"
   ]
  },
  {
   "cell_type": "markdown",
   "metadata": {},
   "source": [
    "## Build GLM Model"
   ]
  },
  {
   "cell_type": "code",
   "execution_count": 21,
   "metadata": {},
   "outputs": [],
   "source": [
    "poisson_model = sm.GLM(y_train, x_train, family=sm.families.Poisson())"
   ]
  },
  {
   "cell_type": "code",
   "execution_count": 22,
   "metadata": {},
   "outputs": [],
   "source": [
    "poisson_results = poisson_model.fit()"
   ]
  },
  {
   "cell_type": "code",
   "execution_count": 23,
   "metadata": {},
   "outputs": [
    {
     "name": "stdout",
     "output_type": "stream",
     "text": [
      "                 Generalized Linear Model Regression Results                  \n",
      "==============================================================================\n",
      "Dep. Variable:                    tsr   No. Observations:                12248\n",
      "Model:                            GLM   Df Residuals:                    12228\n",
      "Model Family:                 Poisson   Df Model:                           19\n",
      "Link Function:                    log   Scale:                          1.0000\n",
      "Method:                          IRLS   Log-Likelihood:                -38804.\n",
      "Date:                Fri, 07 Aug 2020   Deviance:                       26275.\n",
      "Time:                        06:54:51   Pearson chi2:                 2.58e+04\n",
      "No. Iterations:                     6                                         \n",
      "Covariance Type:            nonrobust                                         \n",
      "==============================================================================\n",
      "                 coef    std err          z      P>|z|      [0.025      0.975]\n",
      "------------------------------------------------------------------------------\n",
      "aet           -0.0549      0.015     -3.591      0.000      -0.085      -0.025\n",
      "ai            -2.6019      0.095    -27.393      0.000      -2.788      -2.416\n",
      "art            4.6643      0.187     24.938      0.000       4.298       5.031\n",
      "ewd            1.5762      0.059     26.645      0.000       1.460       1.692\n",
      "fa             1.1738      0.013     93.172      0.000       1.149       1.198\n",
      "map            2.5385      0.084     30.091      0.000       2.373       2.704\n",
      "mat            0.2561      0.112      2.285      0.022       0.036       0.476\n",
      "mpdq           0.1755      0.047      3.713      0.000       0.083       0.268\n",
      "mtcq          -0.0884      0.148     -0.595      0.552      -0.379       0.203\n",
      "pet           -1.8902      0.119    -15.834      0.000      -2.124      -1.656\n",
      "psn           -0.5816      0.035    -16.535      0.000      -0.650      -0.513\n",
      "ra            -1.3082      0.108    -12.151      0.000      -1.519      -1.097\n",
      "rmap          -0.2910      0.053     -5.487      0.000      -0.395      -0.187\n",
      "rmat           2.3793      0.101     23.481      0.000       2.181       2.578\n",
      "tsn           -2.8926      0.207    -13.951      0.000      -3.299      -2.486\n",
      "mfdf          -0.3216      0.044     -7.361      0.000      -0.407      -0.236\n",
      "alt           -1.4613      0.056    -25.912      0.000      -1.572      -1.351\n",
      "shg           -0.0630      0.007     -8.533      0.000      -0.078      -0.049\n",
      "mtwq           1.0164      0.120      8.469      0.000       0.781       1.252\n",
      "wa             0.0684      0.034      2.005      0.045       0.002       0.135\n",
      "==============================================================================\n"
     ]
    }
   ],
   "source": [
    "print(poisson_results.summary())"
   ]
  },
  {
   "cell_type": "code",
   "execution_count": 24,
   "metadata": {},
   "outputs": [
    {
     "name": "stdout",
     "output_type": "stream",
     "text": [
      "P values of predictors: \n",
      "fa       0.000000e+00\n",
      "map     6.392115e-199\n",
      "ai      3.307000e-165\n",
      "ewd     2.070648e-156\n",
      "alt     4.834023e-148\n",
      "art     2.898304e-137\n",
      "rmat    6.382324e-122\n",
      "psn      2.045880e-61\n",
      "pet      1.817505e-56\n",
      "tsn      3.088192e-44\n",
      "ra       5.692087e-34\n",
      "shg      1.426522e-17\n",
      "mtwq     2.476689e-17\n",
      "mfdf     1.828794e-13\n",
      "rmap     4.082301e-08\n",
      "mpdq     2.050089e-04\n",
      "aet      3.298309e-04\n",
      "mat      2.233036e-02\n",
      "wa       4.495572e-02\n",
      "mtcq     5.517467e-01\n",
      "dtype: float64\n"
     ]
    }
   ],
   "source": [
    "# null hypothesis: predictors have no effect; A low p-value (< 0.05) indicates that the null hypothesis can be rejected\n",
    "print(\"P values of predictors: \")\n",
    "print(poisson_results.pvalues.sort_values(ascending=True))"
   ]
  },
  {
   "cell_type": "code",
   "execution_count": 25,
   "metadata": {},
   "outputs": [
    {
     "name": "stdout",
     "output_type": "stream",
     "text": [
      "Predictors which are not statistically significant:\n",
      "mtcq    0.551747\n",
      "dtype: float64\n"
     ]
    }
   ],
   "source": [
    "print(\"Predictors which are not statistically significant:\")\n",
    "print(poisson_results.pvalues[poisson_results.pvalues > 0.05])"
   ]
  },
  {
   "cell_type": "markdown",
   "metadata": {},
   "source": [
    "## Build Cross-validation GLM Model"
   ]
  },
  {
   "cell_type": "code",
   "execution_count": 26,
   "metadata": {},
   "outputs": [],
   "source": [
    "class SMWrapper(BaseEstimator, RegressorMixin):\n",
    "    \"\"\" A universal sklearn-style wrapper for statsmodels GLM w/ Possion \"\"\"\n",
    "    def __init__(self, model_class, fit_intercept=True):\n",
    "        self.model_class = model_class\n",
    "        self.fit_intercept = fit_intercept\n",
    "    def fit(self, X, y):\n",
    "        if self.fit_intercept:\n",
    "            X = sm.add_constant(X)\n",
    "        self.model_ = self.model_class(y, X, sm.families.Poisson())\n",
    "        self.results_ = self.model_.fit()\n",
    "    def predict(self, X):\n",
    "        if self.fit_intercept:\n",
    "            X = sm.add_constant(X)\n",
    "        return self.results_.predict(X)"
   ]
  },
  {
   "cell_type": "code",
   "execution_count": 27,
   "metadata": {},
   "outputs": [],
   "source": [
    "wrapped_possion_glm = SMWrapper(sm.GLM)"
   ]
  },
  {
   "cell_type": "code",
   "execution_count": 31,
   "metadata": {},
   "outputs": [],
   "source": [
    "wrapped_possion_glm.fit(Xstd,y)"
   ]
  },
  {
   "cell_type": "markdown",
   "metadata": {},
   "source": [
    "## Model Evaluation"
   ]
  },
  {
   "cell_type": "code",
   "execution_count": 32,
   "metadata": {},
   "outputs": [],
   "source": [
    "import statistics\n",
    "from sklearn.metrics import mean_absolute_error\n",
    "from sklearn.metrics import r2_score"
   ]
  },
  {
   "cell_type": "code",
   "execution_count": 33,
   "metadata": {},
   "outputs": [
    {
     "name": "stdout",
     "output_type": "stream",
     "text": [
      "Cross-validated R2: \n"
     ]
    },
    {
     "data": {
      "text/plain": [
       "0.8058423037888429"
      ]
     },
     "execution_count": 33,
     "metadata": {},
     "output_type": "execute_result"
    }
   ],
   "source": [
    "r2_cross_val = cross_val_score(wrapped_possion_glm, Xstd, y, scoring='r2', cv = ms.StratifiedKFold(shuffle = True))\n",
    "print(\"Cross-validated R2: \",)\n",
    "statistics.mean(r2_cross_val.tolist())"
   ]
  },
  {
   "cell_type": "code",
   "execution_count": 34,
   "metadata": {},
   "outputs": [
    {
     "name": "stdout",
     "output_type": "stream",
     "text": [
      "Cross-validated MAE: \n"
     ]
    },
    {
     "data": {
      "text/plain": [
       "4.311706953897733"
      ]
     },
     "execution_count": 34,
     "metadata": {},
     "output_type": "execute_result"
    }
   ],
   "source": [
    "mae_cross_val = cross_val_score(wrapped_possion_glm, Xstd, y, scoring='neg_mean_absolute_error', cv = ms.StratifiedKFold(shuffle = True))\n",
    "print(\"Cross-validated MAE: \",)\n",
    "statistics.mean(mae_cross_val.tolist())* -1"
   ]
  },
  {
   "cell_type": "code",
   "execution_count": 35,
   "metadata": {},
   "outputs": [
    {
     "name": "stdout",
     "output_type": "stream",
     "text": [
      "train MAE 4.315572123086133\n",
      "train r2 0.8052040946243777\n"
     ]
    }
   ],
   "source": [
    "y_train_pred = wrapped_possion_glm.predict(x_train)\n",
    "print('train MAE', mean_absolute_error(y_train_pred, y_train))\n",
    "print('train r2', r2_score(y_train, y_train_pred))"
   ]
  },
  {
   "cell_type": "code",
   "execution_count": 36,
   "metadata": {},
   "outputs": [
    {
     "name": "stdout",
     "output_type": "stream",
     "text": [
      "test MAE 4.258236870898238\n",
      "test r2 0.8116288786404352\n"
     ]
    }
   ],
   "source": [
    "y_test_pred = wrapped_possion_glm.predict(x_test)\n",
    "print('test MAE', mean_absolute_error(y_test_pred, y_test))\n",
    "print('test r2', r2_score(y_test, y_test_pred))"
   ]
  },
  {
   "cell_type": "code",
   "execution_count": 37,
   "metadata": {},
   "outputs": [],
   "source": [
    "glm_y_test = pd.DataFrame(\n",
    "    {'tsr': y_test,\n",
    "     'tsr_predicted': y_test_pred})\n",
    "glm_y_test.to_sql(name='glm_y_test', con=engine, schema='predictor', if_exists='replace', index=False)"
   ]
  },
  {
   "cell_type": "code",
   "execution_count": 38,
   "metadata": {},
   "outputs": [
    {
     "data": {
      "text/plain": [
       "(3062, 2)"
      ]
     },
     "execution_count": 38,
     "metadata": {},
     "output_type": "execute_result"
    }
   ],
   "source": [
    "glm_y_test.shape"
   ]
  },
  {
   "cell_type": "markdown",
   "metadata": {},
   "source": [
    "## Model Prediction"
   ]
  },
  {
   "cell_type": "code",
   "execution_count": 39,
   "metadata": {},
   "outputs": [],
   "source": [
    "Y_pred = wrapped_possion_glm.predict(Xstd)"
   ]
  },
  {
   "cell_type": "code",
   "execution_count": 41,
   "metadata": {},
   "outputs": [],
   "source": [
    "pergrid_all_predicted = pd.DataFrame(\n",
    "    {'grid_id': grid_id,\n",
    "     'tsr': y,\n",
    "     'tsr_predicted': Y_pred.tolist()})"
   ]
  },
  {
   "cell_type": "code",
   "execution_count": 42,
   "metadata": {},
   "outputs": [
    {
     "data": {
      "text/html": [
       "<div>\n",
       "<style scoped>\n",
       "    .dataframe tbody tr th:only-of-type {\n",
       "        vertical-align: middle;\n",
       "    }\n",
       "\n",
       "    .dataframe tbody tr th {\n",
       "        vertical-align: top;\n",
       "    }\n",
       "\n",
       "    .dataframe thead th {\n",
       "        text-align: right;\n",
       "    }\n",
       "</style>\n",
       "<table border=\"1\" class=\"dataframe\">\n",
       "  <thead>\n",
       "    <tr style=\"text-align: right;\">\n",
       "      <th></th>\n",
       "      <th>grid_id</th>\n",
       "      <th>tsr</th>\n",
       "      <th>tsr_predicted</th>\n",
       "    </tr>\n",
       "  </thead>\n",
       "  <tbody>\n",
       "    <tr>\n",
       "      <th>0</th>\n",
       "      <td>110</td>\n",
       "      <td>4.0</td>\n",
       "      <td>6.236435</td>\n",
       "    </tr>\n",
       "    <tr>\n",
       "      <th>1</th>\n",
       "      <td>111</td>\n",
       "      <td>2.0</td>\n",
       "      <td>5.930308</td>\n",
       "    </tr>\n",
       "    <tr>\n",
       "      <th>2</th>\n",
       "      <td>195</td>\n",
       "      <td>5.0</td>\n",
       "      <td>4.747933</td>\n",
       "    </tr>\n",
       "    <tr>\n",
       "      <th>3</th>\n",
       "      <td>337</td>\n",
       "      <td>1.0</td>\n",
       "      <td>5.229746</td>\n",
       "    </tr>\n",
       "    <tr>\n",
       "      <th>4</th>\n",
       "      <td>338</td>\n",
       "      <td>1.0</td>\n",
       "      <td>5.672630</td>\n",
       "    </tr>\n",
       "  </tbody>\n",
       "</table>\n",
       "</div>"
      ],
      "text/plain": [
       "   grid_id  tsr  tsr_predicted\n",
       "0      110  4.0       6.236435\n",
       "1      111  2.0       5.930308\n",
       "2      195  5.0       4.747933\n",
       "3      337  1.0       5.229746\n",
       "4      338  1.0       5.672630"
      ]
     },
     "execution_count": 42,
     "metadata": {},
     "output_type": "execute_result"
    }
   ],
   "source": [
    "pergrid_all_predicted.head()"
   ]
  },
  {
   "cell_type": "code",
   "execution_count": 43,
   "metadata": {},
   "outputs": [],
   "source": [
    "pergrid_all_predicted.to_sql(name='lasso_glm', con=engine, schema='predictor', if_exists='replace', index=False)"
   ]
  },
  {
   "cell_type": "code",
   "execution_count": 44,
   "metadata": {},
   "outputs": [],
   "source": [
    "update_geom = \"\"\"\n",
    "alter table predictor.lasso_glm add column if not exists wkb_geometry geometry(Polygon,4269);\n",
    "update predictor.lasso_glm A SET wkb_geometry = B.wkb_geometry\n",
    "FROM predictor.pergrid_base B\n",
    "WHERE A.grid_id = B.grid_id\n",
    "\"\"\""
   ]
  },
  {
   "cell_type": "code",
   "execution_count": 45,
   "metadata": {},
   "outputs": [
    {
     "data": {
      "text/plain": [
       "<sqlalchemy.engine.result.ResultProxy at 0x7fe7cee43150>"
      ]
     },
     "execution_count": 45,
     "metadata": {},
     "output_type": "execute_result"
    }
   ],
   "source": [
    "connection = engine.connect()\n",
    "connection.execute(update_geom)"
   ]
  },
  {
   "cell_type": "code",
   "execution_count": 46,
   "metadata": {},
   "outputs": [],
   "source": [
    "update_residual = \"\"\"\n",
    "alter table predictor.lasso_glm add column residual double precision;\n",
    "update predictor.lasso_glm set residual = (tsr_predicted-tsr);\n",
    "\"\"\""
   ]
  },
  {
   "cell_type": "code",
   "execution_count": 47,
   "metadata": {},
   "outputs": [
    {
     "data": {
      "text/plain": [
       "<sqlalchemy.engine.result.ResultProxy at 0x7fe7d419c5d0>"
      ]
     },
     "execution_count": 47,
     "metadata": {},
     "output_type": "execute_result"
    }
   ],
   "source": [
    "connection = engine.connect()\n",
    "connection.execute(update_residual)"
   ]
  },
  {
   "cell_type": "code",
   "execution_count": null,
   "metadata": {},
   "outputs": [],
   "source": []
  },
  {
   "cell_type": "code",
   "execution_count": null,
   "metadata": {},
   "outputs": [],
   "source": []
  },
  {
   "cell_type": "code",
   "execution_count": null,
   "metadata": {},
   "outputs": [],
   "source": []
  }
 ],
 "metadata": {
  "kernelspec": {
   "display_name": "Python 3",
   "language": "python",
   "name": "python3"
  },
  "language_info": {
   "codemirror_mode": {
    "name": "ipython",
    "version": 3
   },
   "file_extension": ".py",
   "mimetype": "text/x-python",
   "name": "python",
   "nbconvert_exporter": "python",
   "pygments_lexer": "ipython3",
   "version": "3.7.6"
  }
 },
 "nbformat": 4,
 "nbformat_minor": 2
}
