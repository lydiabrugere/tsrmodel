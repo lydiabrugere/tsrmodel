{
 "cells": [
  {
   "cell_type": "code",
   "execution_count": 11,
   "metadata": {},
   "outputs": [],
   "source": [
    "from sqlalchemy import create_engine\n",
    "from numpy import arange\n",
    "import pandas as pd\n",
    "import numpy as np\n",
    "from sklearn.model_selection import train_test_split\n",
    "from sklearn.metrics import r2_score\n",
    "from sklearn.preprocessing import MinMaxScaler\n",
    "from sklearn.impute import KNNImputer\n",
    "\n",
    "from neupy import algorithms\n",
    "\n",
    "import warnings\n",
    "warnings.filterwarnings('ignore')\n",
    "\n",
    "import sys\n",
    "sys.executable\n",
    "\n",
    "from sklearn.metrics import mean_absolute_error\n",
    "from sklearn.metrics import r2_score"
   ]
  },
  {
   "cell_type": "code",
   "execution_count": 3,
   "metadata": {},
   "outputs": [],
   "source": [
    "localhost = {'user': 'postgres', 'password': 'postgres', 'host': 'localhost', 'port': 5432, 'db': 'fiadb'}\n",
    "params = 'postgresql://{0}:{1}@{2}:{3}/{4}'\n",
    "engine = create_engine(params.format(localhost['user'], localhost['password'], localhost['host'], localhost['port'], localhost['db']))\n",
    "pergrid_base = \"\"\"select distinct * from predictor.pergrid_base\"\"\"\n",
    "pergrid_base_df = pd.read_sql(pergrid_base, engine)"
   ]
  },
  {
   "cell_type": "code",
   "execution_count": 4,
   "metadata": {},
   "outputs": [
    {
     "data": {
      "text/plain": [
       "Index(['grid_id', 'aet', 'ai', 'art', 'ewd', 'fa', 'map', 'mat', 'mpdq',\n",
       "       'mtcq', 'pet', 'psn', 'ra', 'rmap', 'rmat', 'tsn', 'mfdf', 'alt', 'shg',\n",
       "       'mtwq', 'wkb_geometry', 'tsr', 'wa'],\n",
       "      dtype='object')"
      ]
     },
     "execution_count": 4,
     "metadata": {},
     "output_type": "execute_result"
    }
   ],
   "source": [
    "pergrid_base_df.columns"
   ]
  },
  {
   "cell_type": "code",
   "execution_count": 5,
   "metadata": {},
   "outputs": [],
   "source": [
    "# separate predictor variables from outcome varaible\n",
    "y = pergrid_base_df['tsr']\n",
    "grid_id = pergrid_base_df['grid_id']\n",
    "var= ['aet', 'ai', 'art', 'ewd', 'fa', 'map', 'mat', 'mpdq',\n",
    "       'mtcq', 'pet', 'psn', 'ra', 'rmap', 'rmat', 'tsn', 'mfdf', 'alt','shg','mtwq', 'wa']\n",
    "pergrid_base_df = pergrid_base_df[var]"
   ]
  },
  {
   "cell_type": "code",
   "execution_count": 6,
   "metadata": {},
   "outputs": [],
   "source": [
    "# encode categorical variable\n",
    "# pergrid_base_df_encoded=pd.get_dummies(pergrid_base_df, columns=[\"shg\"])"
   ]
  },
  {
   "cell_type": "code",
   "execution_count": 7,
   "metadata": {},
   "outputs": [
    {
     "data": {
      "text/html": [
       "<div>\n",
       "<style scoped>\n",
       "    .dataframe tbody tr th:only-of-type {\n",
       "        vertical-align: middle;\n",
       "    }\n",
       "\n",
       "    .dataframe tbody tr th {\n",
       "        vertical-align: top;\n",
       "    }\n",
       "\n",
       "    .dataframe thead th {\n",
       "        text-align: right;\n",
       "    }\n",
       "</style>\n",
       "<table border=\"1\" class=\"dataframe\">\n",
       "  <thead>\n",
       "    <tr style=\"text-align: right;\">\n",
       "      <th></th>\n",
       "      <th>0</th>\n",
       "      <th>1</th>\n",
       "      <th>2</th>\n",
       "      <th>3</th>\n",
       "      <th>4</th>\n",
       "      <th>5</th>\n",
       "      <th>6</th>\n",
       "      <th>7</th>\n",
       "      <th>8</th>\n",
       "      <th>9</th>\n",
       "      <th>10</th>\n",
       "      <th>11</th>\n",
       "      <th>12</th>\n",
       "      <th>13</th>\n",
       "      <th>14</th>\n",
       "      <th>15</th>\n",
       "      <th>16</th>\n",
       "      <th>17</th>\n",
       "      <th>18</th>\n",
       "      <th>19</th>\n",
       "    </tr>\n",
       "  </thead>\n",
       "  <tbody>\n",
       "    <tr>\n",
       "      <th>0</th>\n",
       "      <td>6000.0</td>\n",
       "      <td>0.36750</td>\n",
       "      <td>21.191667</td>\n",
       "      <td>-2.523666e+06</td>\n",
       "      <td>7.7058</td>\n",
       "      <td>681.0</td>\n",
       "      <td>20.036236</td>\n",
       "      <td>87.0</td>\n",
       "      <td>16.299375</td>\n",
       "      <td>1826.768199</td>\n",
       "      <td>50.411522</td>\n",
       "      <td>16.0</td>\n",
       "      <td>2.833333</td>\n",
       "      <td>0.604166</td>\n",
       "      <td>444.860212</td>\n",
       "      <td>2.270</td>\n",
       "      <td>11.597701</td>\n",
       "      <td>5.8</td>\n",
       "      <td>28.792500</td>\n",
       "      <td>4.1166</td>\n",
       "    </tr>\n",
       "    <tr>\n",
       "      <th>1</th>\n",
       "      <td>65535.0</td>\n",
       "      <td>0.38290</td>\n",
       "      <td>20.233612</td>\n",
       "      <td>-2.537902e+06</td>\n",
       "      <td>14.1498</td>\n",
       "      <td>699.0</td>\n",
       "      <td>20.298634</td>\n",
       "      <td>92.0</td>\n",
       "      <td>16.340292</td>\n",
       "      <td>1811.927757</td>\n",
       "      <td>49.797996</td>\n",
       "      <td>14.0</td>\n",
       "      <td>2.000000</td>\n",
       "      <td>0.620833</td>\n",
       "      <td>444.259982</td>\n",
       "      <td>2.100</td>\n",
       "      <td>5.982890</td>\n",
       "      <td>5.0</td>\n",
       "      <td>28.717458</td>\n",
       "      <td>11.8152</td>\n",
       "    </tr>\n",
       "    <tr>\n",
       "      <th>2</th>\n",
       "      <td>65535.0</td>\n",
       "      <td>1.30362</td>\n",
       "      <td>0.164286</td>\n",
       "      <td>-5.247088e+02</td>\n",
       "      <td>0.0711</td>\n",
       "      <td>1148.5</td>\n",
       "      <td>0.309987</td>\n",
       "      <td>131.5</td>\n",
       "      <td>21.304167</td>\n",
       "      <td>1918.111111</td>\n",
       "      <td>0.713689</td>\n",
       "      <td>1.0</td>\n",
       "      <td>1.833333</td>\n",
       "      <td>0.241667</td>\n",
       "      <td>3.698817</td>\n",
       "      <td>6.524</td>\n",
       "      <td>0.011696</td>\n",
       "      <td>2.0</td>\n",
       "      <td>28.626191</td>\n",
       "      <td>302.9049</td>\n",
       "    </tr>\n",
       "    <tr>\n",
       "      <th>3</th>\n",
       "      <td>5135.0</td>\n",
       "      <td>0.28980</td>\n",
       "      <td>23.950167</td>\n",
       "      <td>-2.941595e+06</td>\n",
       "      <td>3.0042</td>\n",
       "      <td>565.0</td>\n",
       "      <td>20.193576</td>\n",
       "      <td>76.0</td>\n",
       "      <td>15.517042</td>\n",
       "      <td>1972.128352</td>\n",
       "      <td>43.001180</td>\n",
       "      <td>108.0</td>\n",
       "      <td>2.333333</td>\n",
       "      <td>0.391667</td>\n",
       "      <td>492.281141</td>\n",
       "      <td>2.120</td>\n",
       "      <td>61.886973</td>\n",
       "      <td>5.4</td>\n",
       "      <td>29.458834</td>\n",
       "      <td>1.2528</td>\n",
       "    </tr>\n",
       "    <tr>\n",
       "      <th>4</th>\n",
       "      <td>5645.0</td>\n",
       "      <td>0.30170</td>\n",
       "      <td>23.526261</td>\n",
       "      <td>-2.959517e+06</td>\n",
       "      <td>10.0350</td>\n",
       "      <td>580.0</td>\n",
       "      <td>20.710174</td>\n",
       "      <td>80.0</td>\n",
       "      <td>15.754000</td>\n",
       "      <td>1928.968811</td>\n",
       "      <td>44.328019</td>\n",
       "      <td>34.0</td>\n",
       "      <td>3.416667</td>\n",
       "      <td>0.620833</td>\n",
       "      <td>489.587254</td>\n",
       "      <td>2.120</td>\n",
       "      <td>32.270955</td>\n",
       "      <td>5.0</td>\n",
       "      <td>29.300416</td>\n",
       "      <td>4.2480</td>\n",
       "    </tr>\n",
       "  </tbody>\n",
       "</table>\n",
       "</div>"
      ],
      "text/plain": [
       "         0        1          2             3        4       5          6  \\\n",
       "0   6000.0  0.36750  21.191667 -2.523666e+06   7.7058   681.0  20.036236   \n",
       "1  65535.0  0.38290  20.233612 -2.537902e+06  14.1498   699.0  20.298634   \n",
       "2  65535.0  1.30362   0.164286 -5.247088e+02   0.0711  1148.5   0.309987   \n",
       "3   5135.0  0.28980  23.950167 -2.941595e+06   3.0042   565.0  20.193576   \n",
       "4   5645.0  0.30170  23.526261 -2.959517e+06  10.0350   580.0  20.710174   \n",
       "\n",
       "       7          8            9         10     11        12        13  \\\n",
       "0   87.0  16.299375  1826.768199  50.411522   16.0  2.833333  0.604166   \n",
       "1   92.0  16.340292  1811.927757  49.797996   14.0  2.000000  0.620833   \n",
       "2  131.5  21.304167  1918.111111   0.713689    1.0  1.833333  0.241667   \n",
       "3   76.0  15.517042  1972.128352  43.001180  108.0  2.333333  0.391667   \n",
       "4   80.0  15.754000  1928.968811  44.328019   34.0  3.416667  0.620833   \n",
       "\n",
       "           14     15         16   17         18        19  \n",
       "0  444.860212  2.270  11.597701  5.8  28.792500    4.1166  \n",
       "1  444.259982  2.100   5.982890  5.0  28.717458   11.8152  \n",
       "2    3.698817  6.524   0.011696  2.0  28.626191  302.9049  \n",
       "3  492.281141  2.120  61.886973  5.4  29.458834    1.2528  \n",
       "4  489.587254  2.120  32.270955  5.0  29.300416    4.2480  "
      ]
     },
     "execution_count": 7,
     "metadata": {},
     "output_type": "execute_result"
    }
   ],
   "source": [
    "# fill NaN with values from neighbor pixels\n",
    "imputer = KNNImputer(n_neighbors=5)\n",
    "pergrid_base_filled = imputer.fit_transform(pergrid_base_df)\n",
    "pergrid_base_df = pd.DataFrame(pergrid_base_filled)\n",
    "pergrid_base_df.head()"
   ]
  },
  {
   "cell_type": "code",
   "execution_count": 8,
   "metadata": {},
   "outputs": [],
   "source": [
    "# standarize predictors\n",
    "ss = MinMaxScaler()\n",
    "xstd = ss.fit_transform(pergrid_base_df)\n",
    "# ystd = ss.fit_transform(y.to_numpy().reshape(-1, 1))"
   ]
  },
  {
   "cell_type": "code",
   "execution_count": 9,
   "metadata": {},
   "outputs": [],
   "source": [
    "X_train, X_test, Y_train, Y_test = train_test_split(xstd, y, test_size=0.1, shuffle=True)"
   ]
  },
  {
   "cell_type": "code",
   "execution_count": null,
   "metadata": {},
   "outputs": [],
   "source": [
    "std_list = arange(0.05, 1, 0.005)\n",
    "score_list = {}\n",
    "for std in std_list:\n",
    "    nw = algorithms.GRNN(std=std, verbose=False)\n",
    "    nw.train(X_train, Y_train)\n",
    "    Y_test_pred = nw.predict(X_test).flatten()\n",
    "    mae = mean_absolute_error(Y_test_pred, Y_test)\n",
    "    score_list.update({std:mae})"
   ]
  },
  {
   "cell_type": "code",
   "execution_count": 359,
   "metadata": {},
   "outputs": [
    {
     "name": "stdout",
     "output_type": "stream",
     "text": [
      "0.107 4.363598602876512\n",
      "0.108 4.363648415523315\n",
      "0.109 4.363843217234224\n"
     ]
    }
   ],
   "source": [
    "sorted_score_list = {k: v for k, v in sorted(score_list.items(), key=lambda item: item[1])}"
   ]
  },
  {
   "cell_type": "code",
   "execution_count": 379,
   "metadata": {},
   "outputs": [],
   "source": [
    "nw = algorithms.GRNN(std=0.115, verbose=False) # 0.108 3.0961740739964703"
   ]
  },
  {
   "cell_type": "code",
   "execution_count": 380,
   "metadata": {},
   "outputs": [],
   "source": [
    "nw.train(X_train, Y_train)"
   ]
  },
  {
   "cell_type": "markdown",
   "metadata": {},
   "source": [
    "### Evaluation Metrics"
   ]
  },
  {
   "cell_type": "code",
   "execution_count": 381,
   "metadata": {},
   "outputs": [],
   "source": [
    "from sklearn.metrics import mean_absolute_error\n",
    "from sklearn.metrics import r2_score"
   ]
  },
  {
   "cell_type": "code",
   "execution_count": 382,
   "metadata": {},
   "outputs": [
    {
     "name": "stdout",
     "output_type": "stream",
     "text": [
      "train MAE 2.195526005601421\n",
      "train r2 0.9311774290082482\n"
     ]
    }
   ],
   "source": [
    "Y_train_pred = nw.predict(X_train).flatten()\n",
    "print('train MAE', mean_absolute_error(Y_train_pred, Y_train))\n",
    "print('train r2', r2_score(Y_train, Y_train_pred))"
   ]
  },
  {
   "cell_type": "code",
   "execution_count": 383,
   "metadata": {},
   "outputs": [
    {
     "name": "stdout",
     "output_type": "stream",
     "text": [
      "test MAE 3.142242743736709\n",
      "test r2 0.8858662888890027\n"
     ]
    }
   ],
   "source": [
    "Y_test_pred = nw.predict(X_test).flatten()\n",
    "print('test MAE', mean_absolute_error(Y_test_pred, Y_test))\n",
    "print('test r2', r2_score(Y_test, Y_test_pred))"
   ]
  },
  {
   "cell_type": "code",
   "execution_count": 384,
   "metadata": {},
   "outputs": [],
   "source": [
    "grnn_y_test = pd.DataFrame(\n",
    "    {'tsr': Y_test,\n",
    "     'tsr_predicted': Y_test_pred})\n",
    "grnn_y_test.to_sql(name='grnn_y_test', con=engine, schema='predictor', if_exists='replace', index=False)"
   ]
  },
  {
   "cell_type": "markdown",
   "metadata": {},
   "source": [
    "### Ingest TSR predictions to PG"
   ]
  },
  {
   "cell_type": "code",
   "execution_count": 385,
   "metadata": {},
   "outputs": [],
   "source": [
    "y_pred = nw.predict(xstd).flatten()"
   ]
  },
  {
   "cell_type": "code",
   "execution_count": 386,
   "metadata": {},
   "outputs": [],
   "source": [
    "pergrid_all_predicted = pd.DataFrame(\n",
    "    {'grid_id': grid_id,\n",
    "     'tsr': y,\n",
    "     'tsr_predicted': y_pred})"
   ]
  },
  {
   "cell_type": "code",
   "execution_count": 387,
   "metadata": {},
   "outputs": [
    {
     "data": {
      "text/html": [
       "<div>\n",
       "<style scoped>\n",
       "    .dataframe tbody tr th:only-of-type {\n",
       "        vertical-align: middle;\n",
       "    }\n",
       "\n",
       "    .dataframe tbody tr th {\n",
       "        vertical-align: top;\n",
       "    }\n",
       "\n",
       "    .dataframe thead th {\n",
       "        text-align: right;\n",
       "    }\n",
       "</style>\n",
       "<table border=\"1\" class=\"dataframe\">\n",
       "  <thead>\n",
       "    <tr style=\"text-align: right;\">\n",
       "      <th></th>\n",
       "      <th>grid_id</th>\n",
       "      <th>tsr</th>\n",
       "      <th>tsr_predicted</th>\n",
       "    </tr>\n",
       "  </thead>\n",
       "  <tbody>\n",
       "    <tr>\n",
       "      <th>0</th>\n",
       "      <td>110</td>\n",
       "      <td>4.0</td>\n",
       "      <td>3.276433</td>\n",
       "    </tr>\n",
       "    <tr>\n",
       "      <th>1</th>\n",
       "      <td>111</td>\n",
       "      <td>2.0</td>\n",
       "      <td>2.000123</td>\n",
       "    </tr>\n",
       "    <tr>\n",
       "      <th>2</th>\n",
       "      <td>195</td>\n",
       "      <td>5.0</td>\n",
       "      <td>4.994345</td>\n",
       "    </tr>\n",
       "    <tr>\n",
       "      <th>3</th>\n",
       "      <td>337</td>\n",
       "      <td>1.0</td>\n",
       "      <td>2.803938</td>\n",
       "    </tr>\n",
       "    <tr>\n",
       "      <th>4</th>\n",
       "      <td>338</td>\n",
       "      <td>1.0</td>\n",
       "      <td>2.795763</td>\n",
       "    </tr>\n",
       "  </tbody>\n",
       "</table>\n",
       "</div>"
      ],
      "text/plain": [
       "   grid_id  tsr  tsr_predicted\n",
       "0      110  4.0       3.276433\n",
       "1      111  2.0       2.000123\n",
       "2      195  5.0       4.994345\n",
       "3      337  1.0       2.803938\n",
       "4      338  1.0       2.795763"
      ]
     },
     "execution_count": 387,
     "metadata": {},
     "output_type": "execute_result"
    }
   ],
   "source": [
    "pergrid_all_predicted.head()"
   ]
  },
  {
   "cell_type": "code",
   "execution_count": 388,
   "metadata": {},
   "outputs": [],
   "source": [
    "pergrid_all_predicted.to_sql(name='grnn', con=engine, schema='predictor', if_exists='replace', index=False)"
   ]
  },
  {
   "cell_type": "code",
   "execution_count": 389,
   "metadata": {},
   "outputs": [],
   "source": [
    "update_geom = \"\"\"\n",
    "alter table predictor.grnn add column if not exists wkb_geometry geometry(Polygon,4269);\n",
    "update predictor.grnn A SET wkb_geometry = B.wkb_geometry\n",
    "FROM predictor.pergrid_base B\n",
    "WHERE A.grid_id = B.grid_id\n",
    "\"\"\""
   ]
  },
  {
   "cell_type": "code",
   "execution_count": 390,
   "metadata": {},
   "outputs": [
    {
     "data": {
      "text/plain": [
       "<sqlalchemy.engine.result.ResultProxy at 0x7fdb21aa49d0>"
      ]
     },
     "execution_count": 390,
     "metadata": {},
     "output_type": "execute_result"
    }
   ],
   "source": [
    "connection = engine.connect()\n",
    "connection.execute(update_geom)"
   ]
  },
  {
   "cell_type": "code",
   "execution_count": 391,
   "metadata": {},
   "outputs": [],
   "source": [
    "update_residual = \"\"\"\n",
    "alter table predictor.grnn add column residual double precision;\n",
    "update predictor.grnn set residual = (tsr_predicted-tsr);\n",
    "\"\"\""
   ]
  },
  {
   "cell_type": "code",
   "execution_count": 392,
   "metadata": {},
   "outputs": [
    {
     "data": {
      "text/plain": [
       "<sqlalchemy.engine.result.ResultProxy at 0x7fda41cc1050>"
      ]
     },
     "execution_count": 392,
     "metadata": {},
     "output_type": "execute_result"
    }
   ],
   "source": [
    "connection = engine.connect()\n",
    "connection.execute(update_residual)"
   ]
  },
  {
   "cell_type": "code",
   "execution_count": null,
   "metadata": {},
   "outputs": [],
   "source": []
  },
  {
   "cell_type": "code",
   "execution_count": null,
   "metadata": {},
   "outputs": [],
   "source": []
  }
 ],
 "metadata": {
  "kernelspec": {
   "display_name": "Python 3",
   "language": "python",
   "name": "python3"
  },
  "language_info": {
   "codemirror_mode": {
    "name": "ipython",
    "version": 3
   },
   "file_extension": ".py",
   "mimetype": "text/x-python",
   "name": "python",
   "nbconvert_exporter": "python",
   "pygments_lexer": "ipython3",
   "version": "3.7.6"
  }
 },
 "nbformat": 4,
 "nbformat_minor": 4
}
