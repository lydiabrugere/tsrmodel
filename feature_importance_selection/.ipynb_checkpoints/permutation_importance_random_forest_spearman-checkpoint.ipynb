{
 "cells": [
  {
   "cell_type": "code",
   "execution_count": 26,
   "metadata": {},
   "outputs": [
    {
     "name": "stdout",
     "output_type": "stream",
     "text": [
      "sys.version_info(major=3, minor=7, micro=6, releaselevel='final', serial=0)\n",
      "3.1.3\n"
     ]
    }
   ],
   "source": [
    "import sys\n",
    "print(sys.version_info)\n",
    "from io import BytesIO\n",
    "\n",
    "import math\n",
    "from sqlalchemy import create_engine\n",
    "import matplotlib\n",
    "import matplotlib.pyplot as plt\n",
    "import pandas as pd\n",
    "import numpy as np\n",
    "\n",
    "from sklearn.model_selection import train_test_split\n",
    "from sklearn.ensemble import RandomForestRegressor\n",
    "\n",
    "print(matplotlib.__version__)\n",
    "\n",
    "from sklearn.preprocessing import StandardScaler"
   ]
  },
  {
   "cell_type": "code",
   "execution_count": 28,
   "metadata": {},
   "outputs": [
    {
     "name": "stdout",
     "output_type": "stream",
     "text": [
      "(15310, 23)\n"
     ]
    }
   ],
   "source": [
    "localhost = {'user': 'postgres', 'password': 'postgres', 'host': 'localhost', 'port': 5432, 'db': 'fiadb'}\n",
    "params = 'postgresql://{0}:{1}@{2}:{3}/{4}'\n",
    "engine = create_engine(params.format(localhost['user'], localhost['password'], localhost['host'], localhost['port'], localhost['db']))\n",
    "# geom_sql = \"\"\"select distinct grid_id, grid_geom from fs_fiadb.pergrid\"\"\"\n",
    "predictor_all = \"\"\"select distinct * from predictor.pergrid_base\"\"\"\n",
    "predictor_all_df = pd.read_sql(predictor_all, engine)\n",
    "print(predictor_all_df.shape)\n",
    "predictor_all_df.columns = map(str.upper, predictor_all_df.columns)"
   ]
  },
  {
   "cell_type": "code",
   "execution_count": 29,
   "metadata": {},
   "outputs": [
    {
     "data": {
      "text/plain": [
       "12.0"
      ]
     },
     "execution_count": 29,
     "metadata": {},
     "output_type": "execute_result"
    }
   ],
   "source": [
    "import statistics\n",
    "import seaborn as sns\n",
    "statistics.median(predictor_all_df['TSR'])"
   ]
  },
  {
   "cell_type": "code",
   "execution_count": 32,
   "metadata": {},
   "outputs": [
    {
     "data": {
      "text/plain": [
       "<matplotlib.legend.Legend at 0x7ff033c6a650>"
      ]
     },
     "execution_count": 32,
     "metadata": {},
     "output_type": "execute_result"
    },
    {
     "data": {
      "image/png": "[encoded data removed]",
      "text/plain": [
       "<Figure size 720x432 with 1 Axes>"
      ]
     },
     "metadata": {},
     "output_type": "display_data"
    }
   ],
   "source": [
    "import seaborn as sns\n",
    "plt.style.use('seaborn-whitegrid')\n",
    "\n",
    "font = {'family' : 'normal',\n",
    "        'weight' : 'bold',\n",
    "        'size'   : 12}\n",
    "\n",
    "matplotlib.rc('font', **font)\n",
    "plt.rc('legend', fontsize=15)  \n",
    "fig = plt.figure(figsize=(10,6))\n",
    "plt.tight_layout()\n",
    "sns.distplot(predictor_all_df['TSR'], hist=True, kde=True, axlabel=False,\n",
    "             hist_kws={\"color\": \"gray\",'edgecolor':'black'},\n",
    "             kde_kws={'linewidth': 1, 'label': 'KDE', \"color\": \"black\"})\n",
    "plt.axvline(x=statistics.median(predictor_all_df['TSR']),linewidth=2, color='black', linestyle = 'dotted', label='Median')\n",
    "plt.axvline(x=statistics.mean(predictor_all_df['TSR']),linewidth=2, color='black', linestyle = 'dashed', label='Mean')\n",
    "plt.legend(bbox_to_anchor=(0.88,0.86), loc=\"upper right\")"
   ]
  },
  {
   "cell_type": "code",
   "execution_count": 7,
   "metadata": {},
   "outputs": [
    {
     "name": "stdout",
     "output_type": "stream",
     "text": [
      "(13503, 23)\n"
     ]
    }
   ],
   "source": [
    "predictor_all_df_na_remove = predictor_all_df.dropna()\n",
    "print(predictor_all_df_na_remove.shape)"
   ]
  },
  {
   "cell_type": "code",
   "execution_count": 8,
   "metadata": {},
   "outputs": [
    {
     "data": {
      "text/plain": [
       "Index(['GRID_ID', 'AET', 'AI', 'ART', 'EWD', 'FA', 'MAP', 'MAT', 'MPDQ',\n",
       "       'MTCQ', 'PET', 'PSN', 'RA', 'RMAP', 'RMAT', 'TSN', 'MFDF', 'ALT', 'SHG',\n",
       "       'MTWQ', 'WKB_GEOMETRY', 'TSR', 'WA'],\n",
       "      dtype='object')"
      ]
     },
     "execution_count": 8,
     "metadata": {},
     "output_type": "execute_result"
    }
   ],
   "source": [
    "predictor_all_df_na_remove.columns"
   ]
  },
  {
   "cell_type": "code",
   "execution_count": 9,
   "metadata": {},
   "outputs": [],
   "source": [
    "PRED_VAR= ['AET', 'AI', 'ART', 'EWD', 'FA', 'MAP', 'MAT', 'MPDQ',\n",
    "       'MTCQ', 'PET', 'PSN', 'RA', 'RMAP', 'RMAT', 'TSN', 'MFDF', 'ALT', 'SHG', 'MTWQ']\n",
    "pred_dat = predictor_all_df_na_remove[PRED_VAR]"
   ]
  },
  {
   "cell_type": "code",
   "execution_count": 10,
   "metadata": {},
   "outputs": [],
   "source": [
    "# group variables by hypothesis\n",
    "var =  ['AET', 'AI', 'ART', 'EWD', 'FA', 'MAP', 'MAT', 'MPDQ',\n",
    "       'MTCQ', 'PET', 'PSN', 'RA', 'RMAP', 'RMAT', 'TSN', 'MFDF', 'ALT', 'SHG',\n",
    "       'MTWQ', 'TSR']\n",
    "dat = predictor_all_df_na_remove[var]"
   ]
  },
  {
   "cell_type": "code",
   "execution_count": 12,
   "metadata": {},
   "outputs": [],
   "source": [
    "# calcualte spearman correlation coefficient\n",
    "from scipy.stats import spearmanr \n",
    "\n",
    "corr = spearmanr(dat).correlation\n",
    "corr_sort_abs = pd.DataFrame(corr, columns=var)['TSR'].abs()\n",
    "corr_sort_abs_df = pd.DataFrame(\n",
    "    {'feature': var,\n",
    "    'correlation': corr_sort_abs.tolist()})\n",
    "corr_sort_abs_df.drop(corr_sort_abs_df.tail(1).index,inplace=True)"
   ]
  },
  {
   "cell_type": "code",
   "execution_count": 13,
   "metadata": {},
   "outputs": [
    {
     "name": "stderr",
     "output_type": "stream",
     "text": [
      "/Users/lianfeng/miniconda3/lib/python3.7/site-packages/pandas/core/indexing.py:966: SettingWithCopyWarning: \n",
      "A value is trying to be set on a copy of a slice from a DataFrame.\n",
      "Try using .loc[row_indexer,col_indexer] = value instead\n",
      "\n",
      "See the caveats in the documentation: https://pandas.pydata.org/pandas-docs/stable/user_guide/indexing.html#returning-a-view-versus-a-copy\n",
      "  self.obj[item] = s\n"
     ]
    }
   ],
   "source": [
    "# pergrid_base_encoded=pd.get_dummies(pergrid_base_df_na_remove, columns=[\"hydrogroup\"])\n",
    "from sklearn.preprocessing import LabelEncoder\n",
    "number = LabelEncoder()\n",
    "predictor_all_df_na_remove.loc[: ,'SHG'] = number.fit_transform(predictor_all_df_na_remove['SHG'])"
   ]
  },
  {
   "cell_type": "code",
   "execution_count": 14,
   "metadata": {},
   "outputs": [],
   "source": [
    "X = predictor_all_df_na_remove[PRED_VAR]\n",
    "\n",
    "# standarize predictors\n",
    "ss = StandardScaler(with_mean=True, with_std=True)\n",
    "X_std = ss.fit_transform(X.values)\n",
    "\n",
    "Xstd=pd.DataFrame(data=X_std[0:,0:],\n",
    "                index=X.index,\n",
    "                columns=PRED_VAR)"
   ]
  },
  {
   "cell_type": "code",
   "execution_count": 15,
   "metadata": {},
   "outputs": [],
   "source": [
    "y_true = predictor_all_df_na_remove['TSR']"
   ]
  },
  {
   "cell_type": "code",
   "execution_count": 16,
   "metadata": {},
   "outputs": [],
   "source": [
    "# X_train, X_test, y_train, y_test = train_test_split(Xstd, y_true, test_size=0.2, random_state=0)\n",
    "X_train, X_test, y_train, y_test = train_test_split(Xstd, y_true, test_size=0.1, random_state=0)"
   ]
  },
  {
   "cell_type": "code",
   "execution_count": 17,
   "metadata": {},
   "outputs": [
    {
     "data": {
      "text/plain": [
       "RandomForestRegressor(bootstrap=False, ccp_alpha=0.0, criterion='mse',\n",
       "                      max_depth=66, max_features='sqrt', max_leaf_nodes=None,\n",
       "                      max_samples=None, min_impurity_decrease=0.0,\n",
       "                      min_impurity_split=None, min_samples_leaf=2,\n",
       "                      min_samples_split=5, min_weight_fraction_leaf=0.0,\n",
       "                      n_estimators=1978, n_jobs=None, oob_score=False,\n",
       "                      random_state=None, verbose=0, warm_start=False)"
      ]
     },
     "execution_count": 17,
     "metadata": {},
     "output_type": "execute_result"
    }
   ],
   "source": [
    "rf_exp = RandomForestRegressor(n_estimators= 1978, \n",
    "                               min_samples_split = 5,\n",
    "                               min_samples_leaf = 2,\n",
    "                               max_features = 'sqrt',\n",
    "                               max_depth = 66,\n",
    "                               bootstrap = False)\n",
    "rf_exp.fit(X_train, y_train)"
   ]
  },
  {
   "cell_type": "code",
   "execution_count": 18,
   "metadata": {},
   "outputs": [],
   "source": [
    "from sklearn.inspection import permutation_importance\n",
    "\n",
    "result = permutation_importance(rf_exp, X_test, y_test, n_repeats=10, random_state=42)\n",
    "perm_sorted_idx = result.importances_mean.argsort()"
   ]
  },
  {
   "cell_type": "code",
   "execution_count": 19,
   "metadata": {},
   "outputs": [],
   "source": [
    "perm_importance = pd.DataFrame(\n",
    "    {'feature': X_train.columns[perm_sorted_idx],\n",
    "    'perm_importance': result.importances_mean[perm_sorted_idx].T})"
   ]
  },
  {
   "cell_type": "code",
   "execution_count": 20,
   "metadata": {},
   "outputs": [
    {
     "data": {
      "text/plain": [
       "(19, 2)"
      ]
     },
     "execution_count": 20,
     "metadata": {},
     "output_type": "execute_result"
    }
   ],
   "source": [
    "corr_sort_abs_df.shape"
   ]
  },
  {
   "cell_type": "code",
   "execution_count": 21,
   "metadata": {},
   "outputs": [],
   "source": [
    "feature_list = list(X_train.columns)\n",
    "# Get numerical feature importances\n",
    "importances = list(rf_exp.feature_importances_)\n",
    "# List of tuples with variable and importance\n",
    "feature_importances = [(feature, round(importance, 6)) for feature, importance in zip(feature_list, importances)]\n",
    "# Sort the feature importances by most important first\n",
    "feature_importances = sorted(feature_importances, key = lambda x: x[1], reverse = True)\n",
    "\n",
    "# List of features sorted from most to least important\n",
    "sorted_importances = [importance[1] for importance in feature_importances]\n",
    "\n",
    "sorted_features = [importance[0].upper() for importance in feature_importances]\n",
    "\n",
    "# Cumulative importances\n",
    "cumulative_importances = np.cumsum(sorted_importances)"
   ]
  },
  {
   "cell_type": "code",
   "execution_count": 22,
   "metadata": {},
   "outputs": [],
   "source": [
    "rf_importance = pd.DataFrame(\n",
    "    {'feature': sorted_features,\n",
    "    'rf_importance': sorted_importances,\n",
    "    'cum_rf_importance': cumulative_importances\n",
    "    })"
   ]
  },
  {
   "cell_type": "code",
   "execution_count": 23,
   "metadata": {},
   "outputs": [],
   "source": [
    "feature_ranked = pd.merge(rf_importance, corr_sort_abs_df, on='feature')"
   ]
  },
  {
   "cell_type": "code",
   "execution_count": 24,
   "metadata": {},
   "outputs": [],
   "source": [
    "feature_ranked_total = pd.merge(feature_ranked, perm_importance, on='feature')"
   ]
  },
  {
   "cell_type": "code",
   "execution_count": 25,
   "metadata": {},
   "outputs": [
    {
     "data": {
      "text/html": [
       "<div>\n",
       "<style scoped>\n",
       "    .dataframe tbody tr th:only-of-type {\n",
       "        vertical-align: middle;\n",
       "    }\n",
       "\n",
       "    .dataframe tbody tr th {\n",
       "        vertical-align: top;\n",
       "    }\n",
       "\n",
       "    .dataframe thead th {\n",
       "        text-align: right;\n",
       "    }\n",
       "</style>\n",
       "<table border=\"1\" class=\"dataframe\">\n",
       "  <thead>\n",
       "    <tr style=\"text-align: right;\">\n",
       "      <th></th>\n",
       "      <th>feature</th>\n",
       "      <th>rf_importance</th>\n",
       "      <th>cum_rf_importance</th>\n",
       "      <th>correlation</th>\n",
       "      <th>perm_importance</th>\n",
       "    </tr>\n",
       "  </thead>\n",
       "  <tbody>\n",
       "    <tr>\n",
       "      <th>0</th>\n",
       "      <td>AI</td>\n",
       "      <td>0.172265</td>\n",
       "      <td>0.172265</td>\n",
       "      <td>0.782097</td>\n",
       "      <td>0.083630</td>\n",
       "    </tr>\n",
       "    <tr>\n",
       "      <th>1</th>\n",
       "      <td>MPDQ</td>\n",
       "      <td>0.152245</td>\n",
       "      <td>0.324510</td>\n",
       "      <td>0.802291</td>\n",
       "      <td>0.069976</td>\n",
       "    </tr>\n",
       "    <tr>\n",
       "      <th>2</th>\n",
       "      <td>FA</td>\n",
       "      <td>0.123518</td>\n",
       "      <td>0.448028</td>\n",
       "      <td>0.678510</td>\n",
       "      <td>0.203273</td>\n",
       "    </tr>\n",
       "    <tr>\n",
       "      <th>3</th>\n",
       "      <td>MAP</td>\n",
       "      <td>0.114510</td>\n",
       "      <td>0.562538</td>\n",
       "      <td>0.771603</td>\n",
       "      <td>0.048067</td>\n",
       "    </tr>\n",
       "    <tr>\n",
       "      <th>4</th>\n",
       "      <td>AET</td>\n",
       "      <td>0.106048</td>\n",
       "      <td>0.668586</td>\n",
       "      <td>0.766400</td>\n",
       "      <td>0.010190</td>\n",
       "    </tr>\n",
       "    <tr>\n",
       "      <th>5</th>\n",
       "      <td>PSN</td>\n",
       "      <td>0.055642</td>\n",
       "      <td>0.724228</td>\n",
       "      <td>0.590021</td>\n",
       "      <td>0.024951</td>\n",
       "    </tr>\n",
       "    <tr>\n",
       "      <th>6</th>\n",
       "      <td>ALT</td>\n",
       "      <td>0.044109</td>\n",
       "      <td>0.768337</td>\n",
       "      <td>0.564743</td>\n",
       "      <td>0.011154</td>\n",
       "    </tr>\n",
       "    <tr>\n",
       "      <th>7</th>\n",
       "      <td>PET</td>\n",
       "      <td>0.040273</td>\n",
       "      <td>0.808610</td>\n",
       "      <td>0.421666</td>\n",
       "      <td>0.015424</td>\n",
       "    </tr>\n",
       "    <tr>\n",
       "      <th>8</th>\n",
       "      <td>RA</td>\n",
       "      <td>0.024188</td>\n",
       "      <td>0.832798</td>\n",
       "      <td>0.273367</td>\n",
       "      <td>0.007064</td>\n",
       "    </tr>\n",
       "    <tr>\n",
       "      <th>9</th>\n",
       "      <td>MTCQ</td>\n",
       "      <td>0.022757</td>\n",
       "      <td>0.855555</td>\n",
       "      <td>0.115045</td>\n",
       "      <td>0.012364</td>\n",
       "    </tr>\n",
       "    <tr>\n",
       "      <th>10</th>\n",
       "      <td>ART</td>\n",
       "      <td>0.021886</td>\n",
       "      <td>0.877441</td>\n",
       "      <td>0.138107</td>\n",
       "      <td>0.008477</td>\n",
       "    </tr>\n",
       "    <tr>\n",
       "      <th>11</th>\n",
       "      <td>EWD</td>\n",
       "      <td>0.021272</td>\n",
       "      <td>0.898713</td>\n",
       "      <td>0.348347</td>\n",
       "      <td>0.004259</td>\n",
       "    </tr>\n",
       "    <tr>\n",
       "      <th>12</th>\n",
       "      <td>TSN</td>\n",
       "      <td>0.020719</td>\n",
       "      <td>0.919432</td>\n",
       "      <td>0.011742</td>\n",
       "      <td>0.008311</td>\n",
       "    </tr>\n",
       "    <tr>\n",
       "      <th>13</th>\n",
       "      <td>MAT</td>\n",
       "      <td>0.019794</td>\n",
       "      <td>0.939226</td>\n",
       "      <td>0.158013</td>\n",
       "      <td>0.015847</td>\n",
       "    </tr>\n",
       "    <tr>\n",
       "      <th>14</th>\n",
       "      <td>MFDF</td>\n",
       "      <td>0.019630</td>\n",
       "      <td>0.958856</td>\n",
       "      <td>0.348446</td>\n",
       "      <td>0.011477</td>\n",
       "    </tr>\n",
       "    <tr>\n",
       "      <th>15</th>\n",
       "      <td>MTWQ</td>\n",
       "      <td>0.018067</td>\n",
       "      <td>0.976923</td>\n",
       "      <td>0.143368</td>\n",
       "      <td>0.006215</td>\n",
       "    </tr>\n",
       "    <tr>\n",
       "      <th>16</th>\n",
       "      <td>RMAT</td>\n",
       "      <td>0.011967</td>\n",
       "      <td>0.988890</td>\n",
       "      <td>0.255314</td>\n",
       "      <td>0.003172</td>\n",
       "    </tr>\n",
       "    <tr>\n",
       "      <th>17</th>\n",
       "      <td>RMAP</td>\n",
       "      <td>0.008754</td>\n",
       "      <td>0.997644</td>\n",
       "      <td>0.127357</td>\n",
       "      <td>0.001770</td>\n",
       "    </tr>\n",
       "    <tr>\n",
       "      <th>18</th>\n",
       "      <td>SHG</td>\n",
       "      <td>0.002356</td>\n",
       "      <td>1.000000</td>\n",
       "      <td>0.136843</td>\n",
       "      <td>0.000371</td>\n",
       "    </tr>\n",
       "  </tbody>\n",
       "</table>\n",
       "</div>"
      ],
      "text/plain": [
       "   feature  rf_importance  cum_rf_importance  correlation  perm_importance\n",
       "0       AI       0.172265           0.172265     0.782097         0.083630\n",
       "1     MPDQ       0.152245           0.324510     0.802291         0.069976\n",
       "2       FA       0.123518           0.448028     0.678510         0.203273\n",
       "3      MAP       0.114510           0.562538     0.771603         0.048067\n",
       "4      AET       0.106048           0.668586     0.766400         0.010190\n",
       "5      PSN       0.055642           0.724228     0.590021         0.024951\n",
       "6      ALT       0.044109           0.768337     0.564743         0.011154\n",
       "7      PET       0.040273           0.808610     0.421666         0.015424\n",
       "8       RA       0.024188           0.832798     0.273367         0.007064\n",
       "9     MTCQ       0.022757           0.855555     0.115045         0.012364\n",
       "10     ART       0.021886           0.877441     0.138107         0.008477\n",
       "11     EWD       0.021272           0.898713     0.348347         0.004259\n",
       "12     TSN       0.020719           0.919432     0.011742         0.008311\n",
       "13     MAT       0.019794           0.939226     0.158013         0.015847\n",
       "14    MFDF       0.019630           0.958856     0.348446         0.011477\n",
       "15    MTWQ       0.018067           0.976923     0.143368         0.006215\n",
       "16    RMAT       0.011967           0.988890     0.255314         0.003172\n",
       "17    RMAP       0.008754           0.997644     0.127357         0.001770\n",
       "18     SHG       0.002356           1.000000     0.136843         0.000371"
      ]
     },
     "execution_count": 25,
     "metadata": {},
     "output_type": "execute_result"
    }
   ],
   "source": [
    "feature_ranked_total"
   ]
  },
  {
   "cell_type": "code",
   "execution_count": 565,
   "metadata": {},
   "outputs": [
    {
     "data": {
      "text/plain": [
       "<matplotlib.legend.Legend at 0x130f07fd0>"
      ]
     },
     "execution_count": 565,
     "metadata": {},
     "output_type": "execute_result"
    },
    {
     "data": {
      "image/png": "[encoded data removed]",
      "text/plain": [
       "<Figure size 720x432 with 1 Axes>"
      ]
     },
     "metadata": {},
     "output_type": "display_data"
    }
   ],
   "source": [
    "# list of x locations for plotting\n",
    "x = np.arange(feature_ranked_total.shape[0]) # the label locations\n",
    "\n",
    "plt.style.use('seaborn-whitegrid')\n",
    "fig = plt.figure(figsize=(10,6))\n",
    "plt.tight_layout()\n",
    "\n",
    "# Make a bar chart\n",
    "w = 0.3\n",
    "plt.bar(x-w/1.5, feature_ranked_total['rf_importance'], width=w/2, orientation = 'vertical', alpha=0.8, edgecolor = 'k', linewidth = 1.2)\n",
    "plt.bar(x+w/1.5, feature_ranked_total['perm_importance'], width=w/2, orientation = 'vertical', alpha=0.8, edgecolor = 'k', linewidth = 1.2)\n",
    "# plt.bar(x, feature_ranked_total['correlation']/5, width=w/2, orientation = 'vertical', alpha=0.8, edgecolor = 'k', linewidth = 1.2)\n",
    "\n",
    "# Make a line graph\n",
    "plt.plot(x, feature_ranked_total['cum_rf_importance']/5, 'r-', linewidth=2)\n",
    "# Draw line at 95% of importance retained\n",
    "plt.hlines(y = 0.95/5, xmin=0, xmax=len(sorted_importances), color = 'g', linestyles = 'dashed')\n",
    "\n",
    "plt.xticks(x, feature_ranked_total['feature'], rotation='vertical')\n",
    "\n",
    "# 'Spearman Correlation Coefficient'  \n",
    "plt.legend(['Cumulative Impurity-based Importance in Random Forest', '95% importance','Impurity-based Importance in Random Forest', 'Permutation Importance',], bbox_to_anchor=(0.6,-0.15), loc=\"upper right\")"
   ]
  },
  {
   "cell_type": "code",
   "execution_count": 575,
   "metadata": {},
   "outputs": [
    {
     "data": {
      "text/html": [
       "<div>\n",
       "<style scoped>\n",
       "    .dataframe tbody tr th:only-of-type {\n",
       "        vertical-align: middle;\n",
       "    }\n",
       "\n",
       "    .dataframe tbody tr th {\n",
       "        vertical-align: top;\n",
       "    }\n",
       "\n",
       "    .dataframe thead th {\n",
       "        text-align: right;\n",
       "    }\n",
       "</style>\n",
       "<table border=\"1\" class=\"dataframe\">\n",
       "  <thead>\n",
       "    <tr style=\"text-align: right;\">\n",
       "      <th></th>\n",
       "      <th>feature</th>\n",
       "      <th>rf_importance</th>\n",
       "      <th>cum_rf_importance</th>\n",
       "      <th>correlation</th>\n",
       "      <th>perm_importance</th>\n",
       "    </tr>\n",
       "  </thead>\n",
       "  <tbody>\n",
       "    <tr>\n",
       "      <th>0</th>\n",
       "      <td>AI</td>\n",
       "      <td>0.179342</td>\n",
       "      <td>0.179342</td>\n",
       "      <td>0.782097</td>\n",
       "      <td>0.089231</td>\n",
       "    </tr>\n",
       "    <tr>\n",
       "      <th>1</th>\n",
       "      <td>MPDQ</td>\n",
       "      <td>0.149735</td>\n",
       "      <td>0.329077</td>\n",
       "      <td>0.802291</td>\n",
       "      <td>0.068386</td>\n",
       "    </tr>\n",
       "    <tr>\n",
       "      <th>2</th>\n",
       "      <td>FA</td>\n",
       "      <td>0.123629</td>\n",
       "      <td>0.452706</td>\n",
       "      <td>0.678510</td>\n",
       "      <td>0.205226</td>\n",
       "    </tr>\n",
       "    <tr>\n",
       "      <th>3</th>\n",
       "      <td>MAP</td>\n",
       "      <td>0.112904</td>\n",
       "      <td>0.565610</td>\n",
       "      <td>0.771603</td>\n",
       "      <td>0.046936</td>\n",
       "    </tr>\n",
       "    <tr>\n",
       "      <th>4</th>\n",
       "      <td>AET</td>\n",
       "      <td>0.104590</td>\n",
       "      <td>0.670200</td>\n",
       "      <td>0.766400</td>\n",
       "      <td>0.009567</td>\n",
       "    </tr>\n",
       "    <tr>\n",
       "      <th>5</th>\n",
       "      <td>PSN</td>\n",
       "      <td>0.054725</td>\n",
       "      <td>0.724925</td>\n",
       "      <td>0.590021</td>\n",
       "      <td>0.026688</td>\n",
       "    </tr>\n",
       "    <tr>\n",
       "      <th>6</th>\n",
       "      <td>ALT</td>\n",
       "      <td>0.044386</td>\n",
       "      <td>0.769311</td>\n",
       "      <td>0.564743</td>\n",
       "      <td>0.011469</td>\n",
       "    </tr>\n",
       "    <tr>\n",
       "      <th>7</th>\n",
       "      <td>PET</td>\n",
       "      <td>0.037851</td>\n",
       "      <td>0.807162</td>\n",
       "      <td>0.421666</td>\n",
       "      <td>0.014213</td>\n",
       "    </tr>\n",
       "    <tr>\n",
       "      <th>8</th>\n",
       "      <td>RA</td>\n",
       "      <td>0.024611</td>\n",
       "      <td>0.831773</td>\n",
       "      <td>0.273367</td>\n",
       "      <td>0.007397</td>\n",
       "    </tr>\n",
       "    <tr>\n",
       "      <th>9</th>\n",
       "      <td>MTCQ</td>\n",
       "      <td>0.023408</td>\n",
       "      <td>0.855181</td>\n",
       "      <td>0.115045</td>\n",
       "      <td>0.012864</td>\n",
       "    </tr>\n",
       "    <tr>\n",
       "      <th>10</th>\n",
       "      <td>EWD</td>\n",
       "      <td>0.021894</td>\n",
       "      <td>0.877075</td>\n",
       "      <td>0.348347</td>\n",
       "      <td>0.004408</td>\n",
       "    </tr>\n",
       "    <tr>\n",
       "      <th>11</th>\n",
       "      <td>TSN</td>\n",
       "      <td>0.021830</td>\n",
       "      <td>0.898905</td>\n",
       "      <td>0.011742</td>\n",
       "      <td>0.009137</td>\n",
       "    </tr>\n",
       "    <tr>\n",
       "      <th>12</th>\n",
       "      <td>ART</td>\n",
       "      <td>0.020862</td>\n",
       "      <td>0.919767</td>\n",
       "      <td>0.138107</td>\n",
       "      <td>0.007762</td>\n",
       "    </tr>\n",
       "    <tr>\n",
       "      <th>13</th>\n",
       "      <td>MFDF</td>\n",
       "      <td>0.019942</td>\n",
       "      <td>0.939709</td>\n",
       "      <td>0.348446</td>\n",
       "      <td>0.011715</td>\n",
       "    </tr>\n",
       "    <tr>\n",
       "      <th>14</th>\n",
       "      <td>MAT</td>\n",
       "      <td>0.019485</td>\n",
       "      <td>0.959194</td>\n",
       "      <td>0.158013</td>\n",
       "      <td>0.015774</td>\n",
       "    </tr>\n",
       "    <tr>\n",
       "      <th>15</th>\n",
       "      <td>MTWQ</td>\n",
       "      <td>0.018402</td>\n",
       "      <td>0.977596</td>\n",
       "      <td>0.143368</td>\n",
       "      <td>0.006083</td>\n",
       "    </tr>\n",
       "    <tr>\n",
       "      <th>16</th>\n",
       "      <td>RMAT</td>\n",
       "      <td>0.011708</td>\n",
       "      <td>0.989304</td>\n",
       "      <td>0.255314</td>\n",
       "      <td>0.002905</td>\n",
       "    </tr>\n",
       "    <tr>\n",
       "      <th>17</th>\n",
       "      <td>RMAP</td>\n",
       "      <td>0.008338</td>\n",
       "      <td>0.997642</td>\n",
       "      <td>0.127357</td>\n",
       "      <td>0.001785</td>\n",
       "    </tr>\n",
       "    <tr>\n",
       "      <th>18</th>\n",
       "      <td>SHG</td>\n",
       "      <td>0.002358</td>\n",
       "      <td>1.000000</td>\n",
       "      <td>0.136843</td>\n",
       "      <td>0.000334</td>\n",
       "    </tr>\n",
       "  </tbody>\n",
       "</table>\n",
       "</div>"
      ],
      "text/plain": [
       "   feature  rf_importance  cum_rf_importance  correlation  perm_importance\n",
       "0       AI       0.179342           0.179342     0.782097         0.089231\n",
       "1     MPDQ       0.149735           0.329077     0.802291         0.068386\n",
       "2       FA       0.123629           0.452706     0.678510         0.205226\n",
       "3      MAP       0.112904           0.565610     0.771603         0.046936\n",
       "4      AET       0.104590           0.670200     0.766400         0.009567\n",
       "5      PSN       0.054725           0.724925     0.590021         0.026688\n",
       "6      ALT       0.044386           0.769311     0.564743         0.011469\n",
       "7      PET       0.037851           0.807162     0.421666         0.014213\n",
       "8       RA       0.024611           0.831773     0.273367         0.007397\n",
       "9     MTCQ       0.023408           0.855181     0.115045         0.012864\n",
       "10     EWD       0.021894           0.877075     0.348347         0.004408\n",
       "11     TSN       0.021830           0.898905     0.011742         0.009137\n",
       "12     ART       0.020862           0.919767     0.138107         0.007762\n",
       "13    MFDF       0.019942           0.939709     0.348446         0.011715\n",
       "14     MAT       0.019485           0.959194     0.158013         0.015774\n",
       "15    MTWQ       0.018402           0.977596     0.143368         0.006083\n",
       "16    RMAT       0.011708           0.989304     0.255314         0.002905\n",
       "17    RMAP       0.008338           0.997642     0.127357         0.001785\n",
       "18     SHG       0.002358           1.000000     0.136843         0.000334"
      ]
     },
     "execution_count": 575,
     "metadata": {},
     "output_type": "execute_result"
    }
   ],
   "source": [
    "feature_ranked_total"
   ]
  },
  {
   "cell_type": "code",
   "execution_count": null,
   "metadata": {},
   "outputs": [],
   "source": [
    "# calcualte spearman correlation coefficient\n",
    "corr = spearmanr(dat).correlation\n",
    "corr_sort_abs = pd.DataFrame(corr, columns=var)['TSR'].abs()\n",
    "corr_sort_abs_df = pd.DataFrame(\n",
    "    {'feature': var,\n",
    "    'correlation': corr_sort_abs.tolist()})\n",
    "corr_sort_abs_df.drop(corr_sort_abs_df.tail(1).index,inplace=True)"
   ]
  },
  {
   "cell_type": "code",
   "execution_count": 577,
   "metadata": {},
   "outputs": [
    {
     "data": {
      "text/plain": [
       "Index(['AET', 'AI', 'ART', 'EWD', 'FA', 'MAP', 'MAT', 'MPDQ', 'MTCQ', 'PET',\n",
       "       'PSN', 'RA', 'RMAP', 'RMAT', 'TSN', 'MFDF', 'ALT', 'SHG', 'MTWQ'],\n",
       "      dtype='object')"
      ]
     },
     "execution_count": 577,
     "metadata": {},
     "output_type": "execute_result"
    }
   ],
   "source": [
    "pred_dat.columns"
   ]
  },
  {
   "cell_type": "code",
   "execution_count": 605,
   "metadata": {},
   "outputs": [
    {
     "data": {
      "text/plain": [
       "Text(0, 0.5, 'Euclidean Distance')"
      ]
     },
     "execution_count": 605,
     "metadata": {},
     "output_type": "execute_result"
    },
    {
     "data": {
      "image/png": "[encoded data removed]",
      "text/plain": [
       "<Figure size 1440x576 with 3 Axes>"
      ]
     },
     "metadata": {},
     "output_type": "display_data"
    }
   ],
   "source": [
    "# list of x locations for plotting\n",
    "x = np.arange(feature_ranked_total.shape[0]) # the label locations\n",
    "plt.style.use('seaborn-whitegrid')\n",
    "plt.figure(figsize=(20, 8))\n",
    "ax1 = plt.subplot(121)\n",
    "# plt.tight_layout()\n",
    "\n",
    "colors = ['#1155cc', '#a4c2f4','green', 'green']\n",
    "# Make a bar chart\n",
    "w = 0.5\n",
    "ax1.bar(x-w/2, feature_ranked_total['rf_importance'], color=colors[0], width=w/2, orientation = 'vertical', edgecolor = '#E6E6E6', linewidth = 1.2)\n",
    "ax1.bar(x, feature_ranked_total['perm_importance'], color=colors[1], width=w/2, orientation = 'vertical', edgecolor = '#E6E6E6', linewidth = 1.2)\n",
    "\n",
    "ax1.legend(['Impurity-based Importance', 'Permutation Importance',], bbox_to_anchor=(0.75,-0.150), loc=\"upper right\")\n",
    "ax1.set_ylabel('Individual\\nVariable\\nImportance',fontweight='bold', color=colors[0], rotation='0', ha='right', fontsize=12)\n",
    "ax1.yaxis.set_label_coords(0.05,1.01)\n",
    "plt.xticks(x, feature_ranked_total['feature'], rotation=45, fontsize=12)\n",
    "\n",
    "ax3 = ax1.twinx()\n",
    "# ax2.bar(x+w/3, feature_ranked_total['correlation'], width=w/3, color=colors[2], orientation = 'vertical',edgecolor = 'k', linewidth = 1.2)\n",
    "ax3.plot(x, feature_ranked_total['cum_rf_importance'], 'r-', linewidth=2, color=colors[2])\n",
    "ax3.hlines(y = 0.95, xmin=0, xmax=len(sorted_importances), color = colors[3], linestyles = 'dashed', linewidth=2)\n",
    "ax3.legend(['Accumulated Impurity-based Importance','95% Accumulated importance'], bbox_to_anchor=(0.944,-0.25), loc=\"upper right\")\n",
    "ax3.set_ylabel('Accumulated\\nImpurity-based\\nImportance',fontweight='bold', color=colors[2], rotation=0, ha='left', fontsize=12)\n",
    "ax3.yaxis.set_label_coords(0.94,1.08)\n",
    "\n",
    "ax2 = plt.subplot(122)\n",
    "corr = spearmanr(pred_dat).correlation\n",
    "corr_linkage = hierarchy.ward(corr)\n",
    "dendro = hierarchy.dendrogram(corr_linkage, color_threshold=1, labels=PRED_VAR, ax=ax2, leaf_rotation=90, above_threshold_color='#bcbddc')\n",
    "plt.xticks(rotation=45, fontsize=12)\n",
    "ax2.set_ylabel('Euclidean Distance',fontweight='bold')"
   ]
  },
  {
   "cell_type": "code",
   "execution_count": 597,
   "metadata": {},
   "outputs": [],
   "source": [
    "selected_features=['AI', 'EWD', 'FA', 'MAT', 'MPDQ', 'MTCQ', 'PET', 'PSN', 'RA', 'TSN', 'MFDF', 'ALT', 'SHG']"
   ]
  },
  {
   "cell_type": "code",
   "execution_count": 600,
   "metadata": {},
   "outputs": [
    {
     "data": {
      "text/html": [
       "<div>\n",
       "<style scoped>\n",
       "    .dataframe tbody tr th:only-of-type {\n",
       "        vertical-align: middle;\n",
       "    }\n",
       "\n",
       "    .dataframe tbody tr th {\n",
       "        vertical-align: top;\n",
       "    }\n",
       "\n",
       "    .dataframe thead th {\n",
       "        text-align: right;\n",
       "    }\n",
       "</style>\n",
       "<table border=\"1\" class=\"dataframe\">\n",
       "  <thead>\n",
       "    <tr style=\"text-align: right;\">\n",
       "      <th></th>\n",
       "      <th>AI</th>\n",
       "      <th>EWD</th>\n",
       "      <th>FA</th>\n",
       "      <th>MAT</th>\n",
       "      <th>MPDQ</th>\n",
       "      <th>MTCQ</th>\n",
       "      <th>PET</th>\n",
       "      <th>PSN</th>\n",
       "      <th>RA</th>\n",
       "      <th>TSN</th>\n",
       "      <th>MFDF</th>\n",
       "      <th>ALT</th>\n",
       "      <th>SHG</th>\n",
       "    </tr>\n",
       "  </thead>\n",
       "  <tbody>\n",
       "    <tr>\n",
       "      <th>11071</th>\n",
       "      <td>-0.767615</td>\n",
       "      <td>0.800513</td>\n",
       "      <td>0.281149</td>\n",
       "      <td>-1.606004</td>\n",
       "      <td>-0.414559</td>\n",
       "      <td>-1.404332</td>\n",
       "      <td>-0.673128</td>\n",
       "      <td>-1.133790</td>\n",
       "      <td>0.921434</td>\n",
       "      <td>-0.182151</td>\n",
       "      <td>1.326169</td>\n",
       "      <td>2.157645</td>\n",
       "      <td>0.216003</td>\n",
       "    </tr>\n",
       "    <tr>\n",
       "      <th>3741</th>\n",
       "      <td>-1.302805</td>\n",
       "      <td>-0.504883</td>\n",
       "      <td>-1.017102</td>\n",
       "      <td>0.188858</td>\n",
       "      <td>-1.268790</td>\n",
       "      <td>1.062103</td>\n",
       "      <td>1.624330</td>\n",
       "      <td>1.463338</td>\n",
       "      <td>2.332304</td>\n",
       "      <td>-1.345494</td>\n",
       "      <td>-0.417095</td>\n",
       "      <td>0.595000</td>\n",
       "      <td>1.225240</td>\n",
       "    </tr>\n",
       "    <tr>\n",
       "      <th>5760</th>\n",
       "      <td>0.606217</td>\n",
       "      <td>0.616363</td>\n",
       "      <td>0.672756</td>\n",
       "      <td>0.059667</td>\n",
       "      <td>1.120893</td>\n",
       "      <td>0.206044</td>\n",
       "      <td>-0.573925</td>\n",
       "      <td>-1.096472</td>\n",
       "      <td>0.527864</td>\n",
       "      <td>-0.405447</td>\n",
       "      <td>0.056299</td>\n",
       "      <td>-0.127758</td>\n",
       "      <td>0.216003</td>\n",
       "    </tr>\n",
       "    <tr>\n",
       "      <th>1666</th>\n",
       "      <td>-1.344818</td>\n",
       "      <td>-2.846203</td>\n",
       "      <td>-1.187555</td>\n",
       "      <td>1.165780</td>\n",
       "      <td>-1.068748</td>\n",
       "      <td>0.995064</td>\n",
       "      <td>2.444753</td>\n",
       "      <td>1.035843</td>\n",
       "      <td>-0.678165</td>\n",
       "      <td>-0.091870</td>\n",
       "      <td>-0.377358</td>\n",
       "      <td>0.245634</td>\n",
       "      <td>-0.793233</td>\n",
       "    </tr>\n",
       "    <tr>\n",
       "      <th>13717</th>\n",
       "      <td>-0.661113</td>\n",
       "      <td>0.579299</td>\n",
       "      <td>-0.311741</td>\n",
       "      <td>-1.322193</td>\n",
       "      <td>-0.884927</td>\n",
       "      <td>-0.950444</td>\n",
       "      <td>-0.525846</td>\n",
       "      <td>0.520185</td>\n",
       "      <td>0.787943</td>\n",
       "      <td>-0.190839</td>\n",
       "      <td>1.103294</td>\n",
       "      <td>1.666380</td>\n",
       "      <td>-0.793233</td>\n",
       "    </tr>\n",
       "    <tr>\n",
       "      <th>...</th>\n",
       "      <td>...</td>\n",
       "      <td>...</td>\n",
       "      <td>...</td>\n",
       "      <td>...</td>\n",
       "      <td>...</td>\n",
       "      <td>...</td>\n",
       "      <td>...</td>\n",
       "      <td>...</td>\n",
       "      <td>...</td>\n",
       "      <td>...</td>\n",
       "      <td>...</td>\n",
       "      <td>...</td>\n",
       "      <td>...</td>\n",
       "    </tr>\n",
       "    <tr>\n",
       "      <th>14802</th>\n",
       "      <td>-0.591806</td>\n",
       "      <td>0.868432</td>\n",
       "      <td>0.238938</td>\n",
       "      <td>-1.081271</td>\n",
       "      <td>-0.414559</td>\n",
       "      <td>-0.780386</td>\n",
       "      <td>-0.824893</td>\n",
       "      <td>-0.599926</td>\n",
       "      <td>2.014686</td>\n",
       "      <td>-0.521869</td>\n",
       "      <td>1.125754</td>\n",
       "      <td>0.742007</td>\n",
       "      <td>-0.793233</td>\n",
       "    </tr>\n",
       "    <tr>\n",
       "      <th>3503</th>\n",
       "      <td>-1.164994</td>\n",
       "      <td>-2.150576</td>\n",
       "      <td>-1.179644</td>\n",
       "      <td>0.940974</td>\n",
       "      <td>-1.005672</td>\n",
       "      <td>0.672171</td>\n",
       "      <td>1.943351</td>\n",
       "      <td>1.088065</td>\n",
       "      <td>-0.540070</td>\n",
       "      <td>0.269679</td>\n",
       "      <td>-0.337620</td>\n",
       "      <td>-0.065761</td>\n",
       "      <td>-0.793233</td>\n",
       "    </tr>\n",
       "    <tr>\n",
       "      <th>10813</th>\n",
       "      <td>-1.233766</td>\n",
       "      <td>-0.207942</td>\n",
       "      <td>-1.105856</td>\n",
       "      <td>-0.693402</td>\n",
       "      <td>-1.209318</td>\n",
       "      <td>-0.678502</td>\n",
       "      <td>0.233316</td>\n",
       "      <td>1.320714</td>\n",
       "      <td>-0.415784</td>\n",
       "      <td>0.553472</td>\n",
       "      <td>1.079106</td>\n",
       "      <td>1.280502</td>\n",
       "      <td>0.216003</td>\n",
       "    </tr>\n",
       "    <tr>\n",
       "      <th>11871</th>\n",
       "      <td>-1.067054</td>\n",
       "      <td>0.396684</td>\n",
       "      <td>-0.500178</td>\n",
       "      <td>-1.244419</td>\n",
       "      <td>-0.944398</td>\n",
       "      <td>-1.149625</td>\n",
       "      <td>-0.223528</td>\n",
       "      <td>0.225880</td>\n",
       "      <td>2.571668</td>\n",
       "      <td>0.217562</td>\n",
       "      <td>1.360724</td>\n",
       "      <td>1.728669</td>\n",
       "      <td>-1.802470</td>\n",
       "    </tr>\n",
       "    <tr>\n",
       "      <th>2912</th>\n",
       "      <td>0.737339</td>\n",
       "      <td>0.259287</td>\n",
       "      <td>1.123325</td>\n",
       "      <td>0.720682</td>\n",
       "      <td>1.239836</td>\n",
       "      <td>0.955699</td>\n",
       "      <td>-0.011714</td>\n",
       "      <td>-0.729116</td>\n",
       "      <td>-0.659752</td>\n",
       "      <td>-0.672155</td>\n",
       "      <td>-1.014884</td>\n",
       "      <td>-0.623939</td>\n",
       "      <td>-0.288615</td>\n",
       "    </tr>\n",
       "  </tbody>\n",
       "</table>\n",
       "<p>12152 rows × 13 columns</p>\n",
       "</div>"
      ],
      "text/plain": [
       "             AI       EWD        FA       MAT      MPDQ      MTCQ       PET  \\\n",
       "11071 -0.767615  0.800513  0.281149 -1.606004 -0.414559 -1.404332 -0.673128   \n",
       "3741  -1.302805 -0.504883 -1.017102  0.188858 -1.268790  1.062103  1.624330   \n",
       "5760   0.606217  0.616363  0.672756  0.059667  1.120893  0.206044 -0.573925   \n",
       "1666  -1.344818 -2.846203 -1.187555  1.165780 -1.068748  0.995064  2.444753   \n",
       "13717 -0.661113  0.579299 -0.311741 -1.322193 -0.884927 -0.950444 -0.525846   \n",
       "...         ...       ...       ...       ...       ...       ...       ...   \n",
       "14802 -0.591806  0.868432  0.238938 -1.081271 -0.414559 -0.780386 -0.824893   \n",
       "3503  -1.164994 -2.150576 -1.179644  0.940974 -1.005672  0.672171  1.943351   \n",
       "10813 -1.233766 -0.207942 -1.105856 -0.693402 -1.209318 -0.678502  0.233316   \n",
       "11871 -1.067054  0.396684 -0.500178 -1.244419 -0.944398 -1.149625 -0.223528   \n",
       "2912   0.737339  0.259287  1.123325  0.720682  1.239836  0.955699 -0.011714   \n",
       "\n",
       "            PSN        RA       TSN      MFDF       ALT       SHG  \n",
       "11071 -1.133790  0.921434 -0.182151  1.326169  2.157645  0.216003  \n",
       "3741   1.463338  2.332304 -1.345494 -0.417095  0.595000  1.225240  \n",
       "5760  -1.096472  0.527864 -0.405447  0.056299 -0.127758  0.216003  \n",
       "1666   1.035843 -0.678165 -0.091870 -0.377358  0.245634 -0.793233  \n",
       "13717  0.520185  0.787943 -0.190839  1.103294  1.666380 -0.793233  \n",
       "...         ...       ...       ...       ...       ...       ...  \n",
       "14802 -0.599926  2.014686 -0.521869  1.125754  0.742007 -0.793233  \n",
       "3503   1.088065 -0.540070  0.269679 -0.337620 -0.065761 -0.793233  \n",
       "10813  1.320714 -0.415784  0.553472  1.079106  1.280502  0.216003  \n",
       "11871  0.225880  2.571668  0.217562  1.360724  1.728669 -1.802470  \n",
       "2912  -0.729116 -0.659752 -0.672155 -1.014884 -0.623939 -0.288615  \n",
       "\n",
       "[12152 rows x 13 columns]"
      ]
     },
     "execution_count": 600,
     "metadata": {},
     "output_type": "execute_result"
    }
   ],
   "source": [
    "X_train[selected_features]"
   ]
  },
  {
   "cell_type": "code",
   "execution_count": 603,
   "metadata": {},
   "outputs": [
    {
     "data": {
      "text/plain": [
       "RandomForestRegressor(bootstrap=False, ccp_alpha=0.0, criterion='mse',\n",
       "                      max_depth=66, max_features='sqrt', max_leaf_nodes=None,\n",
       "                      max_samples=None, min_impurity_decrease=0.0,\n",
       "                      min_impurity_split=None, min_samples_leaf=2,\n",
       "                      min_samples_split=5, min_weight_fraction_leaf=0.0,\n",
       "                      n_estimators=1978, n_jobs=None, oob_score=False,\n",
       "                      random_state=None, verbose=0, warm_start=False)"
      ]
     },
     "execution_count": 603,
     "metadata": {},
     "output_type": "execute_result"
    }
   ],
   "source": [
    "X_train_sel = X_train[selected_features]\n",
    "X_test_sel = X_test[selected_features]\n",
    "\n",
    "rf_exp = RandomForestRegressor(n_estimators= 1978, \n",
    "                               min_samples_split = 5,\n",
    "                               min_samples_leaf = 2,\n",
    "                               max_features = 'sqrt',\n",
    "                               max_depth = 66,\n",
    "                               bootstrap = False)\n",
    "rf_exp.fit(X_train_sel, y_train)"
   ]
  },
  {
   "cell_type": "code",
   "execution_count": 604,
   "metadata": {},
   "outputs": [
    {
     "name": "stdout",
     "output_type": "stream",
     "text": [
      "Accuracy on test data with features removed: 0.91\n"
     ]
    }
   ],
   "source": [
    "print(\"Accuracy on test data with features removed: {:.2f}\".format(\n",
    "      rf_exp.score(X_test_sel, y_test)))"
   ]
  },
  {
   "cell_type": "code",
   "execution_count": 78,
   "metadata": {},
   "outputs": [
    {
     "data": {
      "image/png": "[encoded data removed]",
      "text/plain": [
       "<Figure size 432x288 with 1 Axes>"
      ]
     },
     "metadata": {},
     "output_type": "display_data"
    }
   ],
   "source": [
    "# Import matplotlib for plotting and use magic command for Jupyter Notebooks\n",
    "import matplotlib.pyplot as plt\n",
    "plt.rc('font', size=12)          # controls default text sizes\n",
    "%matplotlib inline\n",
    "# Set the style\n",
    "plt.style.use('fivethirtyeight')\n",
    "# list of x locations for plotting\n",
    "# x_values = list(range(len(importances)))\n",
    "# Make a bar chart\n",
    "plt.bar(x_values, importances, orientation = 'vertical')\n",
    "# Tick labels for x axis\n",
    "plt.xticks(x_values, PRED_VAR, rotation='vertical')\n",
    "# Axis labels and title\n",
    "plt.ylabel('Importance'); \n",
    "# plt.xlabel('Variable'); \n",
    "plt.title('Random Forest Feature Importances');"
   ]
  },
  {
   "cell_type": "code",
   "execution_count": null,
   "metadata": {},
   "outputs": [],
   "source": []
  }
 ],
 "metadata": {
  "kernelspec": {
   "display_name": "Python 3",
   "language": "python",
   "name": "python3"
  },
  "language_info": {
   "codemirror_mode": {
    "name": "ipython",
    "version": 3
   },
   "file_extension": ".py",
   "mimetype": "text/x-python",
   "name": "python",
   "nbconvert_exporter": "python",
   "pygments_lexer": "ipython3",
   "version": "3.7.6"
  }
 },
 "nbformat": 4,
 "nbformat_minor": 4
}
