{
 "cells": [
  {
   "cell_type": "code",
   "execution_count": 1,
   "metadata": {},
   "outputs": [],
   "source": [
    "# Jupyter setup to expand cell display to 100% width on your screen (optional)\n",
    "# Import relevant modules and setup for calling glmnet\n",
    "%reset -f\n",
    "%matplotlib inline\n",
    "\n",
    "from sqlalchemy import create_engine\n",
    "import sys\n",
    "import pandas as pd\n",
    "import numpy as np\n",
    "import scipy, importlib, pprint, matplotlib.pyplot as plt, warnings\n",
    "from sklearn.model_selection import train_test_split\n",
    "from sklearn.preprocessing import StandardScaler\n",
    "\n",
    "from sklearn.impute import KNNImputer\n",
    "\n",
    "import statsmodels.api as sm\n",
    "import statsmodels.genmod as genmod\n",
    "from statsmodels.stats.outliers_influence import variance_inflation_factor\n",
    "from sklearn.metrics import mean_absolute_error\n",
    "\n",
    "from sklearn.base import BaseEstimator, RegressorMixin\n",
    "from sklearn.model_selection import cross_val_score\n",
    "import sklearn.model_selection as ms\n",
    "\n",
    "import warnings\n",
    "warnings.filterwarnings('ignore')"
   ]
  },
  {
   "cell_type": "markdown",
   "metadata": {},
   "source": [
    "## Load TSR and attributes data from DB"
   ]
  },
  {
   "cell_type": "code",
   "execution_count": 2,
   "metadata": {},
   "outputs": [],
   "source": [
    "localhost = {'user': 'postgres', 'password': 'postgres', 'host': 'localhost', 'port': 5432, 'db': 'fiadb'}\n",
    "params = 'postgresql://{0}:{1}@{2}:{3}/{4}'\n",
    "engine = create_engine(params.format(localhost['user'], localhost['password'], localhost['host'], localhost['port'], localhost['db']))\n",
    "# geom_sql = \"\"\"select distinct grid_id, grid_geom from fs_fiadb.pergrid\"\"\"\n",
    "pergrid_base = \"\"\"select distinct * from predictor.pergrid_base_eus\"\"\"\n",
    "pergrid_base_df = pd.read_sql(pergrid_base, engine)"
   ]
  },
  {
   "cell_type": "code",
   "execution_count": 3,
   "metadata": {},
   "outputs": [
    {
     "data": {
      "text/plain": [
       "Index(['grid_id', 'aet', 'ai', 'art', 'ewd', 'fa', 'map', 'mat', 'mpdq',\n",
       "       'mtcq', 'pet', 'psn', 'ra', 'rmap', 'rmat', 'tsn', 'mfdf', 'alt', 'shg',\n",
       "       'mtwq', 'wkb_geometry', 'tsr', 'wa'],\n",
       "      dtype='object')"
      ]
     },
     "execution_count": 3,
     "metadata": {},
     "output_type": "execute_result"
    }
   ],
   "source": [
    "pergrid_base_df.columns"
   ]
  },
  {
   "cell_type": "markdown",
   "metadata": {},
   "source": [
    "## Process TSR predictor and outcome varaibles"
   ]
  },
  {
   "cell_type": "markdown",
   "metadata": {},
   "source": [
    "### only use lasso-selected variables "
   ]
  },
  {
   "cell_type": "code",
   "execution_count": 4,
   "metadata": {},
   "outputs": [],
   "source": [
    "y = pergrid_base_df['tsr']\n",
    "grid_id = pergrid_base_df['grid_id']\n",
    "lasso_var= ['aet', 'ai', 'art', 'ewd', 'fa', 'map', 'mat', 'mpdq',\n",
    "       'mtcq', 'pet', 'psn', 'ra', 'rmap', 'rmat', 'tsn', 'mfdf', 'alt', 'shg',\n",
    "       'mtwq', 'wa']\n",
    "pergrid_base_selected_df = pergrid_base_df[lasso_var]"
   ]
  },
  {
   "cell_type": "markdown",
   "metadata": {},
   "source": [
    "### fill in no-data grid with value from neighboring grids"
   ]
  },
  {
   "cell_type": "code",
   "execution_count": 5,
   "metadata": {},
   "outputs": [],
   "source": [
    "imputer = KNNImputer(n_neighbors=5)\n",
    "pergrid_base_selected_filled = imputer.fit_transform(pergrid_base_selected_df)\n",
    "pergrid_base_df = pd.DataFrame(pergrid_base_selected_filled)"
   ]
  },
  {
   "cell_type": "code",
   "execution_count": 6,
   "metadata": {},
   "outputs": [
    {
     "data": {
      "text/html": [
       "<div>\n",
       "<style scoped>\n",
       "    .dataframe tbody tr th:only-of-type {\n",
       "        vertical-align: middle;\n",
       "    }\n",
       "\n",
       "    .dataframe tbody tr th {\n",
       "        vertical-align: top;\n",
       "    }\n",
       "\n",
       "    .dataframe thead th {\n",
       "        text-align: right;\n",
       "    }\n",
       "</style>\n",
       "<table border=\"1\" class=\"dataframe\">\n",
       "  <thead>\n",
       "    <tr style=\"text-align: right;\">\n",
       "      <th></th>\n",
       "      <th>0</th>\n",
       "      <th>1</th>\n",
       "      <th>2</th>\n",
       "      <th>3</th>\n",
       "      <th>4</th>\n",
       "      <th>5</th>\n",
       "      <th>6</th>\n",
       "      <th>7</th>\n",
       "      <th>8</th>\n",
       "      <th>9</th>\n",
       "      <th>10</th>\n",
       "      <th>11</th>\n",
       "      <th>12</th>\n",
       "      <th>13</th>\n",
       "      <th>14</th>\n",
       "      <th>15</th>\n",
       "      <th>16</th>\n",
       "      <th>17</th>\n",
       "      <th>18</th>\n",
       "      <th>19</th>\n",
       "    </tr>\n",
       "  </thead>\n",
       "  <tbody>\n",
       "    <tr>\n",
       "      <th>0</th>\n",
       "      <td>65535.0</td>\n",
       "      <td>1.07484</td>\n",
       "      <td>0.164286</td>\n",
       "      <td>-524.708793</td>\n",
       "      <td>0.0711</td>\n",
       "      <td>1148.5</td>\n",
       "      <td>0.309987</td>\n",
       "      <td>131.5</td>\n",
       "      <td>21.304167</td>\n",
       "      <td>1918.111111</td>\n",
       "      <td>0.713689</td>\n",
       "      <td>1.0</td>\n",
       "      <td>1.833333</td>\n",
       "      <td>0.241667</td>\n",
       "      <td>3.698817</td>\n",
       "      <td>8.088</td>\n",
       "      <td>0.011696</td>\n",
       "      <td>1.2</td>\n",
       "      <td>28.626191</td>\n",
       "      <td>302.9049</td>\n",
       "    </tr>\n",
       "    <tr>\n",
       "      <th>1</th>\n",
       "      <td>13144.0</td>\n",
       "      <td>0.65770</td>\n",
       "      <td>8.822390</td>\n",
       "      <td>-894732.416005</td>\n",
       "      <td>0.1062</td>\n",
       "      <td>1208.0</td>\n",
       "      <td>12.476780</td>\n",
       "      <td>128.0</td>\n",
       "      <td>19.837514</td>\n",
       "      <td>1833.026596</td>\n",
       "      <td>32.850457</td>\n",
       "      <td>1.0</td>\n",
       "      <td>4.333333</td>\n",
       "      <td>0.679166</td>\n",
       "      <td>169.350913</td>\n",
       "      <td>3.520</td>\n",
       "      <td>0.774757</td>\n",
       "      <td>4.4</td>\n",
       "      <td>27.766178</td>\n",
       "      <td>149.0013</td>\n",
       "    </tr>\n",
       "    <tr>\n",
       "      <th>2</th>\n",
       "      <td>13867.0</td>\n",
       "      <td>0.66700</td>\n",
       "      <td>7.376786</td>\n",
       "      <td>-656234.650346</td>\n",
       "      <td>0.0549</td>\n",
       "      <td>1245.0</td>\n",
       "      <td>10.635709</td>\n",
       "      <td>130.0</td>\n",
       "      <td>19.966610</td>\n",
       "      <td>1850.611285</td>\n",
       "      <td>27.834838</td>\n",
       "      <td>1.0</td>\n",
       "      <td>7.833333</td>\n",
       "      <td>0.945833</td>\n",
       "      <td>143.805179</td>\n",
       "      <td>3.260</td>\n",
       "      <td>0.628627</td>\n",
       "      <td>4.2</td>\n",
       "      <td>27.982256</td>\n",
       "      <td>164.0862</td>\n",
       "    </tr>\n",
       "    <tr>\n",
       "      <th>3</th>\n",
       "      <td>65535.0</td>\n",
       "      <td>0.94772</td>\n",
       "      <td>1.734753</td>\n",
       "      <td>-48762.101679</td>\n",
       "      <td>0.0342</td>\n",
       "      <td>1223.0</td>\n",
       "      <td>2.873174</td>\n",
       "      <td>130.5</td>\n",
       "      <td>20.691381</td>\n",
       "      <td>1898.352941</td>\n",
       "      <td>7.071733</td>\n",
       "      <td>2.0</td>\n",
       "      <td>10.083333</td>\n",
       "      <td>0.637500</td>\n",
       "      <td>36.816597</td>\n",
       "      <td>4.760</td>\n",
       "      <td>0.172147</td>\n",
       "      <td>2.0</td>\n",
       "      <td>28.239400</td>\n",
       "      <td>353.2644</td>\n",
       "    </tr>\n",
       "    <tr>\n",
       "      <th>4</th>\n",
       "      <td>65535.0</td>\n",
       "      <td>1.07484</td>\n",
       "      <td>0.631731</td>\n",
       "      <td>-6380.557906</td>\n",
       "      <td>0.0027</td>\n",
       "      <td>1183.6</td>\n",
       "      <td>1.045456</td>\n",
       "      <td>249.4</td>\n",
       "      <td>3.757151</td>\n",
       "      <td>1895.387097</td>\n",
       "      <td>2.569308</td>\n",
       "      <td>2.0</td>\n",
       "      <td>4.000000</td>\n",
       "      <td>0.212500</td>\n",
       "      <td>13.451322</td>\n",
       "      <td>4.760</td>\n",
       "      <td>0.068093</td>\n",
       "      <td>1.2</td>\n",
       "      <td>22.364209</td>\n",
       "      <td>121.9797</td>\n",
       "    </tr>\n",
       "  </tbody>\n",
       "</table>\n",
       "</div>"
      ],
      "text/plain": [
       "         0        1         2              3       4       5          6  \\\n",
       "0  65535.0  1.07484  0.164286    -524.708793  0.0711  1148.5   0.309987   \n",
       "1  13144.0  0.65770  8.822390 -894732.416005  0.1062  1208.0  12.476780   \n",
       "2  13867.0  0.66700  7.376786 -656234.650346  0.0549  1245.0  10.635709   \n",
       "3  65535.0  0.94772  1.734753  -48762.101679  0.0342  1223.0   2.873174   \n",
       "4  65535.0  1.07484  0.631731   -6380.557906  0.0027  1183.6   1.045456   \n",
       "\n",
       "       7          8            9         10   11         12        13  \\\n",
       "0  131.5  21.304167  1918.111111   0.713689  1.0   1.833333  0.241667   \n",
       "1  128.0  19.837514  1833.026596  32.850457  1.0   4.333333  0.679166   \n",
       "2  130.0  19.966610  1850.611285  27.834838  1.0   7.833333  0.945833   \n",
       "3  130.5  20.691381  1898.352941   7.071733  2.0  10.083333  0.637500   \n",
       "4  249.4   3.757151  1895.387097   2.569308  2.0   4.000000  0.212500   \n",
       "\n",
       "           14     15        16   17         18        19  \n",
       "0    3.698817  8.088  0.011696  1.2  28.626191  302.9049  \n",
       "1  169.350913  3.520  0.774757  4.4  27.766178  149.0013  \n",
       "2  143.805179  3.260  0.628627  4.2  27.982256  164.0862  \n",
       "3   36.816597  4.760  0.172147  2.0  28.239400  353.2644  \n",
       "4   13.451322  4.760  0.068093  1.2  22.364209  121.9797  "
      ]
     },
     "execution_count": 6,
     "metadata": {},
     "output_type": "execute_result"
    }
   ],
   "source": [
    "pergrid_base_df.head()"
   ]
  },
  {
   "cell_type": "code",
   "execution_count": 7,
   "metadata": {},
   "outputs": [],
   "source": [
    "from sklearn.preprocessing import MinMaxScaler\n",
    "\n",
    "ss = MinMaxScaler()\n",
    "X_std = ss.fit_transform(pergrid_base_df)\n",
    "\n",
    "Xstd=pd.DataFrame(data=X_std[0:,0:],\n",
    "                index=pergrid_base_df.index,\n",
    "                columns=lasso_var)"
   ]
  },
  {
   "cell_type": "code",
   "execution_count": 8,
   "metadata": {},
   "outputs": [],
   "source": [
    "x_train, x_test, y_train, y_test = train_test_split(Xstd, y, test_size=0.2, random_state=12345)"
   ]
  },
  {
   "cell_type": "markdown",
   "metadata": {},
   "source": [
    "## Calculate VIF"
   ]
  },
  {
   "cell_type": "code",
   "execution_count": 18,
   "metadata": {},
   "outputs": [],
   "source": [
    "# var_sel = [\"aet\", \"shg\", \"rmap\", \"rmat\", \"fa\", \"alt\"] # lowest overall VIF scores \n",
    "# Xstd = Xstd[var_sel]\n",
    "# Xstd.head()"
   ]
  },
  {
   "cell_type": "code",
   "execution_count": 19,
   "metadata": {},
   "outputs": [
    {
     "data": {
      "text/plain": [
       "aet        2.099093\n",
       "ai        48.545420\n",
       "art     1543.590152\n",
       "ewd      240.599854\n",
       "fa         5.583221\n",
       "map       92.286433\n",
       "mat      425.471442\n",
       "mpdq      47.314070\n",
       "mtcq     655.984657\n",
       "pet      182.075913\n",
       "psn       21.420803\n",
       "ra        39.271648\n",
       "rmap       5.040411\n",
       "rmat      28.442990\n",
       "tsn     1254.755912\n",
       "mfdf      87.922182\n",
       "alt       28.171383\n",
       "shg        4.822418\n",
       "mtwq     517.123907\n",
       "wa         2.254314\n",
       "dtype: float64"
      ]
     },
     "execution_count": 19,
     "metadata": {},
     "output_type": "execute_result"
    }
   ],
   "source": [
    "# if the VIF is between 5-10, multicolinearity is likely present and you should consider dropping the variable.\n",
    "pd.Series([variance_inflation_factor(Xstd.values, i) \n",
    "               for i in range(Xstd.shape[1])], \n",
    "              index=Xstd.columns)"
   ]
  },
  {
   "cell_type": "markdown",
   "metadata": {},
   "source": [
    "## Only select factors with low VIF"
   ]
  },
  {
   "cell_type": "code",
   "execution_count": 20,
   "metadata": {},
   "outputs": [],
   "source": [
    "# var_sel = [\"mpdq\", \"fa\", \"tsn\", \"alt\", \"ra\", \"pet\"]\n",
    "# Xstd = Xstd[var_sel]"
   ]
  },
  {
   "cell_type": "markdown",
   "metadata": {},
   "source": [
    "## Build GLM Model"
   ]
  },
  {
   "cell_type": "code",
   "execution_count": 9,
   "metadata": {},
   "outputs": [],
   "source": [
    "poisson_model = sm.GLM(y_train, x_train, family=sm.families.Poisson())"
   ]
  },
  {
   "cell_type": "code",
   "execution_count": 10,
   "metadata": {},
   "outputs": [],
   "source": [
    "poisson_results = poisson_model.fit()"
   ]
  },
  {
   "cell_type": "code",
   "execution_count": 11,
   "metadata": {},
   "outputs": [
    {
     "name": "stdout",
     "output_type": "stream",
     "text": [
      "                 Generalized Linear Model Regression Results                  \n",
      "==============================================================================\n",
      "Dep. Variable:                    tsr   No. Observations:                 6098\n",
      "Model:                            GLM   Df Residuals:                     6078\n",
      "Model Family:                 Poisson   Df Model:                           19\n",
      "Link Function:                    log   Scale:                          1.0000\n",
      "Method:                          IRLS   Log-Likelihood:                -21385.\n",
      "Date:                Sat, 08 Aug 2020   Deviance:                       12553.\n",
      "Time:                        08:37:19   Pearson chi2:                 1.16e+04\n",
      "No. Iterations:                     5                                         \n",
      "Covariance Type:            nonrobust                                         \n",
      "==============================================================================\n",
      "                 coef    std err          z      P>|z|      [0.025      0.975]\n",
      "------------------------------------------------------------------------------\n",
      "aet           -0.0328      0.016     -2.021      0.043      -0.065      -0.001\n",
      "ai            -0.8815      0.105     -8.393      0.000      -1.087      -0.676\n",
      "art            9.2558      0.265     34.964      0.000       8.737       9.775\n",
      "ewd            1.9806      0.078     25.428      0.000       1.828       2.133\n",
      "fa             0.8902      0.016     54.765      0.000       0.858       0.922\n",
      "map            0.9450      0.123      7.714      0.000       0.705       1.185\n",
      "mat            1.3881      0.156      8.924      0.000       1.083       1.693\n",
      "mpdq          -0.2747      0.081     -3.375      0.001      -0.434      -0.115\n",
      "mtcq          -0.4672      0.230     -2.035      0.042      -0.917      -0.017\n",
      "pet           -0.0597      0.129     -0.464      0.643      -0.312       0.193\n",
      "psn           -0.7495      0.061    -12.192      0.000      -0.870      -0.629\n",
      "ra            -0.0714      0.109     -0.656      0.512      -0.285       0.142\n",
      "rmap          -0.4278      0.090     -4.731      0.000      -0.605      -0.251\n",
      "rmat           0.4438      0.092      4.846      0.000       0.264       0.623\n",
      "tsn           -7.2479      0.290    -24.997      0.000      -7.816      -6.680\n",
      "mfdf          -0.0162      0.051     -0.316      0.752      -0.117       0.085\n",
      "alt           -0.5108      0.040    -12.656      0.000      -0.590      -0.432\n",
      "shg           -0.0300      0.008     -3.553      0.000      -0.047      -0.013\n",
      "mtwq          -0.2321      0.104     -2.240      0.025      -0.435      -0.029\n",
      "wa             0.2838      0.038      7.383      0.000       0.208       0.359\n",
      "==============================================================================\n"
     ]
    }
   ],
   "source": [
    "print(poisson_results.summary())"
   ]
  },
  {
   "cell_type": "code",
   "execution_count": 12,
   "metadata": {},
   "outputs": [
    {
     "name": "stdout",
     "output_type": "stream",
     "text": [
      "P values of predictors: \n",
      "fa       0.000000e+00\n",
      "art     7.958485e-268\n",
      "ewd     1.239393e-142\n",
      "tsn     6.578290e-138\n",
      "alt      1.031806e-36\n",
      "psn      3.440150e-34\n",
      "mat      4.496786e-19\n",
      "ai       4.752147e-17\n",
      "map      1.215376e-14\n",
      "wa       1.551797e-13\n",
      "rmat     1.256971e-06\n",
      "rmap     2.235561e-06\n",
      "shg      3.809509e-04\n",
      "mpdq     7.378883e-04\n",
      "mtwq     2.512024e-02\n",
      "mtcq     4.189041e-02\n",
      "aet      4.322905e-02\n",
      "ra       5.115956e-01\n",
      "pet      6.429225e-01\n",
      "mfdf     7.519936e-01\n",
      "dtype: float64\n"
     ]
    }
   ],
   "source": [
    "# null hypothesis: predictors have no effect; A low p-value (< 0.05) indicates that the null hypothesis can be rejected\n",
    "print(\"P values of predictors: \")\n",
    "print(poisson_results.pvalues.sort_values(ascending=True))"
   ]
  },
  {
   "cell_type": "code",
   "execution_count": 13,
   "metadata": {},
   "outputs": [
    {
     "name": "stdout",
     "output_type": "stream",
     "text": [
      "Predictors which are not statistically significant:\n",
      "pet     0.642923\n",
      "ra      0.511596\n",
      "mfdf    0.751994\n",
      "dtype: float64\n"
     ]
    }
   ],
   "source": [
    "print(\"Predictors which are not statistically significant:\")\n",
    "print(poisson_results.pvalues[poisson_results.pvalues > 0.05])"
   ]
  },
  {
   "cell_type": "markdown",
   "metadata": {},
   "source": [
    "## Build Cross-validation GLM Model"
   ]
  },
  {
   "cell_type": "code",
   "execution_count": 14,
   "metadata": {},
   "outputs": [],
   "source": [
    "class SMWrapper(BaseEstimator, RegressorMixin):\n",
    "    \"\"\" A universal sklearn-style wrapper for statsmodels GLM w/ Possion \"\"\"\n",
    "    def __init__(self, model_class, fit_intercept=True):\n",
    "        self.model_class = model_class\n",
    "        self.fit_intercept = fit_intercept\n",
    "    def fit(self, X, y):\n",
    "        if self.fit_intercept:\n",
    "            X = sm.add_constant(X)\n",
    "        self.model_ = self.model_class(y, X, sm.families.Poisson())\n",
    "        self.results_ = self.model_.fit()\n",
    "    def predict(self, X):\n",
    "        if self.fit_intercept:\n",
    "            X = sm.add_constant(X)\n",
    "        return self.results_.predict(X)"
   ]
  },
  {
   "cell_type": "code",
   "execution_count": 15,
   "metadata": {},
   "outputs": [],
   "source": [
    "wrapped_possion_glm = SMWrapper(sm.GLM)"
   ]
  },
  {
   "cell_type": "code",
   "execution_count": 16,
   "metadata": {},
   "outputs": [],
   "source": [
    "wrapped_possion_glm.fit(Xstd,y)"
   ]
  },
  {
   "cell_type": "markdown",
   "metadata": {},
   "source": [
    "## Model Evaluation"
   ]
  },
  {
   "cell_type": "code",
   "execution_count": 17,
   "metadata": {},
   "outputs": [],
   "source": [
    "import statistics\n",
    "from sklearn.metrics import mean_absolute_error\n",
    "from sklearn.metrics import r2_score"
   ]
  },
  {
   "cell_type": "code",
   "execution_count": 18,
   "metadata": {},
   "outputs": [
    {
     "name": "stdout",
     "output_type": "stream",
     "text": [
      "Cross-validated R2: \n"
     ]
    },
    {
     "data": {
      "text/plain": [
       "0.6420685852384757"
      ]
     },
     "execution_count": 18,
     "metadata": {},
     "output_type": "execute_result"
    }
   ],
   "source": [
    "r2_cross_val = cross_val_score(wrapped_possion_glm, Xstd, y, scoring='r2', cv = ms.StratifiedKFold(shuffle = True))\n",
    "print(\"Cross-validated R2: \",)\n",
    "statistics.mean(r2_cross_val.tolist())"
   ]
  },
  {
   "cell_type": "code",
   "execution_count": 19,
   "metadata": {},
   "outputs": [
    {
     "name": "stdout",
     "output_type": "stream",
     "text": [
      "Cross-validated MAE: \n"
     ]
    },
    {
     "data": {
      "text/plain": [
       "5.313459795003992"
      ]
     },
     "execution_count": 19,
     "metadata": {},
     "output_type": "execute_result"
    }
   ],
   "source": [
    "mae_cross_val = cross_val_score(wrapped_possion_glm, Xstd, y, scoring='neg_mean_absolute_error', cv = ms.StratifiedKFold(shuffle = True))\n",
    "print(\"Cross-validated MAE: \",)\n",
    "statistics.mean(mae_cross_val.tolist())* -1"
   ]
  },
  {
   "cell_type": "code",
   "execution_count": 20,
   "metadata": {},
   "outputs": [
    {
     "name": "stdout",
     "output_type": "stream",
     "text": [
      "train MAE 5.283613637971665\n",
      "train r2 0.6449113511045662\n"
     ]
    }
   ],
   "source": [
    "y_train_pred = wrapped_possion_glm.predict(x_train)\n",
    "print('train MAE', mean_absolute_error(y_train_pred, y_train))\n",
    "print('train r2', r2_score(y_train, y_train_pred))"
   ]
  },
  {
   "cell_type": "code",
   "execution_count": 21,
   "metadata": {},
   "outputs": [
    {
     "name": "stdout",
     "output_type": "stream",
     "text": [
      "test MAE 5.363486183821899\n",
      "test r2 0.6422938589035194\n"
     ]
    }
   ],
   "source": [
    "y_test_pred = wrapped_possion_glm.predict(x_test)\n",
    "print('test MAE', mean_absolute_error(y_test_pred, y_test))\n",
    "print('test r2', r2_score(y_test, y_test_pred))"
   ]
  },
  {
   "cell_type": "code",
   "execution_count": 23,
   "metadata": {},
   "outputs": [],
   "source": [
    "glm_y_test_eus = pd.DataFrame(\n",
    "    {'tsr': y_test,\n",
    "     'tsr_predicted': y_test_pred})\n",
    "glm_y_test_eus.to_sql(name='glm_y_test_eus', con=engine, schema='predictor', if_exists='replace', index=False)"
   ]
  },
  {
   "cell_type": "code",
   "execution_count": 24,
   "metadata": {},
   "outputs": [
    {
     "data": {
      "text/plain": [
       "(1525, 2)"
      ]
     },
     "execution_count": 24,
     "metadata": {},
     "output_type": "execute_result"
    }
   ],
   "source": [
    "glm_y_test.shape"
   ]
  },
  {
   "cell_type": "markdown",
   "metadata": {},
   "source": [
    "## Model Prediction"
   ]
  },
  {
   "cell_type": "code",
   "execution_count": 25,
   "metadata": {},
   "outputs": [],
   "source": [
    "Y_pred = wrapped_possion_glm.predict(Xstd)"
   ]
  },
  {
   "cell_type": "code",
   "execution_count": 26,
   "metadata": {},
   "outputs": [],
   "source": [
    "pergrid_all_predicted = pd.DataFrame(\n",
    "    {'grid_id': grid_id,\n",
    "     'tsr': y,\n",
    "     'tsr_predicted': Y_pred.tolist()})"
   ]
  },
  {
   "cell_type": "code",
   "execution_count": 27,
   "metadata": {},
   "outputs": [
    {
     "data": {
      "text/html": [
       "<div>\n",
       "<style scoped>\n",
       "    .dataframe tbody tr th:only-of-type {\n",
       "        vertical-align: middle;\n",
       "    }\n",
       "\n",
       "    .dataframe tbody tr th {\n",
       "        vertical-align: top;\n",
       "    }\n",
       "\n",
       "    .dataframe thead th {\n",
       "        text-align: right;\n",
       "    }\n",
       "</style>\n",
       "<table border=\"1\" class=\"dataframe\">\n",
       "  <thead>\n",
       "    <tr style=\"text-align: right;\">\n",
       "      <th></th>\n",
       "      <th>grid_id</th>\n",
       "      <th>tsr</th>\n",
       "      <th>tsr_predicted</th>\n",
       "    </tr>\n",
       "  </thead>\n",
       "  <tbody>\n",
       "    <tr>\n",
       "      <th>0</th>\n",
       "      <td>195</td>\n",
       "      <td>5.0</td>\n",
       "      <td>3.954440</td>\n",
       "    </tr>\n",
       "    <tr>\n",
       "      <th>1</th>\n",
       "      <td>656</td>\n",
       "      <td>1.0</td>\n",
       "      <td>8.827576</td>\n",
       "    </tr>\n",
       "    <tr>\n",
       "      <th>2</th>\n",
       "      <td>657</td>\n",
       "      <td>6.0</td>\n",
       "      <td>8.895190</td>\n",
       "    </tr>\n",
       "    <tr>\n",
       "      <th>3</th>\n",
       "      <td>659</td>\n",
       "      <td>10.0</td>\n",
       "      <td>5.697991</td>\n",
       "    </tr>\n",
       "    <tr>\n",
       "      <th>4</th>\n",
       "      <td>660</td>\n",
       "      <td>3.0</td>\n",
       "      <td>5.126189</td>\n",
       "    </tr>\n",
       "  </tbody>\n",
       "</table>\n",
       "</div>"
      ],
      "text/plain": [
       "   grid_id   tsr  tsr_predicted\n",
       "0      195   5.0       3.954440\n",
       "1      656   1.0       8.827576\n",
       "2      657   6.0       8.895190\n",
       "3      659  10.0       5.697991\n",
       "4      660   3.0       5.126189"
      ]
     },
     "execution_count": 27,
     "metadata": {},
     "output_type": "execute_result"
    }
   ],
   "source": [
    "pergrid_all_predicted.head()"
   ]
  },
  {
   "cell_type": "code",
   "execution_count": 28,
   "metadata": {},
   "outputs": [],
   "source": [
    "pergrid_all_predicted.to_sql(name='lasso_glm_eus', con=engine, schema='predictor', if_exists='replace', index=False)"
   ]
  },
  {
   "cell_type": "code",
   "execution_count": 29,
   "metadata": {},
   "outputs": [],
   "source": [
    "update_geom = \"\"\"\n",
    "alter table predictor.lasso_glm_eus add column if not exists wkb_geometry geometry(Polygon,4269);\n",
    "update predictor.lasso_glm_eus A SET wkb_geometry = B.wkb_geometry\n",
    "FROM predictor.pergrid_base B\n",
    "WHERE A.grid_id = B.grid_id\n",
    "\"\"\""
   ]
  },
  {
   "cell_type": "code",
   "execution_count": 30,
   "metadata": {},
   "outputs": [
    {
     "data": {
      "text/plain": [
       "<sqlalchemy.engine.result.ResultProxy at 0x7fcd6e6eb1d0>"
      ]
     },
     "execution_count": 30,
     "metadata": {},
     "output_type": "execute_result"
    }
   ],
   "source": [
    "connection = engine.connect()\n",
    "connection.execute(update_geom)"
   ]
  },
  {
   "cell_type": "code",
   "execution_count": 31,
   "metadata": {},
   "outputs": [],
   "source": [
    "update_residual = \"\"\"\n",
    "alter table predictor.lasso_glm_eus add column residual double precision;\n",
    "update predictor.lasso_glm_eus set residual = (tsr_predicted-tsr);\n",
    "\"\"\""
   ]
  },
  {
   "cell_type": "code",
   "execution_count": 32,
   "metadata": {},
   "outputs": [
    {
     "data": {
      "text/plain": [
       "<sqlalchemy.engine.result.ResultProxy at 0x7fcd89988690>"
      ]
     },
     "execution_count": 32,
     "metadata": {},
     "output_type": "execute_result"
    }
   ],
   "source": [
    "connection = engine.connect()\n",
    "connection.execute(update_residual)"
   ]
  },
  {
   "cell_type": "code",
   "execution_count": null,
   "metadata": {},
   "outputs": [],
   "source": []
  },
  {
   "cell_type": "code",
   "execution_count": null,
   "metadata": {},
   "outputs": [],
   "source": []
  },
  {
   "cell_type": "code",
   "execution_count": null,
   "metadata": {},
   "outputs": [],
   "source": []
  }
 ],
 "metadata": {
  "kernelspec": {
   "display_name": "Python 3",
   "language": "python",
   "name": "python3"
  },
  "language_info": {
   "codemirror_mode": {
    "name": "ipython",
    "version": 3
   },
   "file_extension": ".py",
   "mimetype": "text/x-python",
   "name": "python",
   "nbconvert_exporter": "python",
   "pygments_lexer": "ipython3",
   "version": "3.7.6"
  }
 },
 "nbformat": 4,
 "nbformat_minor": 2
}
