{
 "cells": [
  {
   "cell_type": "code",
   "execution_count": 1,
   "metadata": {},
   "outputs": [],
   "source": [
    "# Jupyter setup to expand cell display to 100% width on your screen (optional)\n",
    "# Import relevant modules and setup for calling glmnet\n",
    "%reset -f\n",
    "%matplotlib inline\n",
    "\n",
    "from sqlalchemy import create_engine\n",
    "import sys\n",
    "import pandas as pd\n",
    "import numpy as np\n",
    "import scipy, importlib, pprint, matplotlib.pyplot as plt, warnings\n",
    "from sklearn.model_selection import train_test_split\n",
    "from sklearn.preprocessing import StandardScaler\n",
    "from sklearn.impute import KNNImputer\n",
    "\n",
    "import statsmodels.api as sm\n",
    "import statsmodels.genmod as genmod\n",
    "from sklearn.metrics import r2_score\n",
    "from sklearn.metrics import mean_absolute_error"
   ]
  },
  {
   "cell_type": "code",
   "execution_count": 2,
   "metadata": {},
   "outputs": [],
   "source": [
    "# Machine learning \n",
    "from sklearn.ensemble import RandomForestRegressor"
   ]
  },
  {
   "cell_type": "code",
   "execution_count": 3,
   "metadata": {},
   "outputs": [],
   "source": [
    "localhost = {'user': 'postgres', 'password': 'postgres', 'host': 'localhost', 'port': 5432, 'db': 'fiadb'}\n",
    "params = 'postgresql://{0}:{1}@{2}:{3}/{4}'\n",
    "engine = create_engine(params.format(localhost['user'], localhost['password'], localhost['host'], localhost['port'], localhost['db']))\n",
    "pergrid_base = \"\"\"select distinct * from predictor.pergrid_base_eus\"\"\"\n",
    "pergrid_base_df = pd.read_sql(pergrid_base, engine)"
   ]
  },
  {
   "cell_type": "code",
   "execution_count": 4,
   "metadata": {},
   "outputs": [],
   "source": [
    "y_true = pergrid_base_df['tsr']\n",
    "grid_id = pergrid_base_df['grid_id']"
   ]
  },
  {
   "cell_type": "code",
   "execution_count": 5,
   "metadata": {},
   "outputs": [],
   "source": [
    "pred_var= ['aet', 'ai', 'art', 'ewd', 'fa', 'map', 'mat', 'mpdq',\n",
    "       'mtcq', 'pet', 'psn', 'ra', 'rmap', 'rmat', 'tsn', 'mfdf', 'alt','shg', 'mtwq', 'wa']\n",
    "\n",
    "PRED_VAR= ['AET', 'AI', 'ART', 'EWD', 'FA', 'MAP', 'MAT', 'MPDQ',\n",
    "       'MTCQ', 'PET', 'PSN', 'RA', 'RMAP', 'RMAT', 'TSN', 'MFDF', 'ALT','SHG', 'MTWQ', 'WA']"
   ]
  },
  {
   "cell_type": "code",
   "execution_count": 6,
   "metadata": {},
   "outputs": [],
   "source": [
    "pergrid_base_pred_df = pergrid_base_df[pred_var]"
   ]
  },
  {
   "cell_type": "code",
   "execution_count": 7,
   "metadata": {},
   "outputs": [
    {
     "data": {
      "text/html": [
       "<div>\n",
       "<style scoped>\n",
       "    .dataframe tbody tr th:only-of-type {\n",
       "        vertical-align: middle;\n",
       "    }\n",
       "\n",
       "    .dataframe tbody tr th {\n",
       "        vertical-align: top;\n",
       "    }\n",
       "\n",
       "    .dataframe thead th {\n",
       "        text-align: right;\n",
       "    }\n",
       "</style>\n",
       "<table border=\"1\" class=\"dataframe\">\n",
       "  <thead>\n",
       "    <tr style=\"text-align: right;\">\n",
       "      <th></th>\n",
       "      <th>aet</th>\n",
       "      <th>ai</th>\n",
       "      <th>art</th>\n",
       "      <th>ewd</th>\n",
       "      <th>fa</th>\n",
       "      <th>map</th>\n",
       "      <th>mat</th>\n",
       "      <th>mpdq</th>\n",
       "      <th>mtcq</th>\n",
       "      <th>pet</th>\n",
       "      <th>psn</th>\n",
       "      <th>ra</th>\n",
       "      <th>rmap</th>\n",
       "      <th>rmat</th>\n",
       "      <th>tsn</th>\n",
       "      <th>mfdf</th>\n",
       "      <th>alt</th>\n",
       "      <th>shg</th>\n",
       "      <th>mtwq</th>\n",
       "      <th>wa</th>\n",
       "    </tr>\n",
       "  </thead>\n",
       "  <tbody>\n",
       "    <tr>\n",
       "      <th>0</th>\n",
       "      <td>65535.0</td>\n",
       "      <td>NaN</td>\n",
       "      <td>0.164286</td>\n",
       "      <td>-524.708793</td>\n",
       "      <td>0.0711</td>\n",
       "      <td>1148.5</td>\n",
       "      <td>0.309987</td>\n",
       "      <td>131.5</td>\n",
       "      <td>21.304167</td>\n",
       "      <td>1918.111111</td>\n",
       "      <td>0.713689</td>\n",
       "      <td>1.0</td>\n",
       "      <td>1.833333</td>\n",
       "      <td>0.241667</td>\n",
       "      <td>3.698817</td>\n",
       "      <td>NaN</td>\n",
       "      <td>0.011696</td>\n",
       "      <td>None</td>\n",
       "      <td>28.626191</td>\n",
       "      <td>302.9049</td>\n",
       "    </tr>\n",
       "    <tr>\n",
       "      <th>1</th>\n",
       "      <td>13144.0</td>\n",
       "      <td>0.6577</td>\n",
       "      <td>8.822390</td>\n",
       "      <td>-894732.416005</td>\n",
       "      <td>0.1062</td>\n",
       "      <td>1208.0</td>\n",
       "      <td>12.476780</td>\n",
       "      <td>128.0</td>\n",
       "      <td>19.837514</td>\n",
       "      <td>1833.026596</td>\n",
       "      <td>32.850457</td>\n",
       "      <td>1.0</td>\n",
       "      <td>4.333333</td>\n",
       "      <td>0.679166</td>\n",
       "      <td>169.350913</td>\n",
       "      <td>3.52</td>\n",
       "      <td>0.774757</td>\n",
       "      <td>None</td>\n",
       "      <td>27.766178</td>\n",
       "      <td>149.0013</td>\n",
       "    </tr>\n",
       "    <tr>\n",
       "      <th>2</th>\n",
       "      <td>13867.0</td>\n",
       "      <td>0.6670</td>\n",
       "      <td>7.376786</td>\n",
       "      <td>-656234.650346</td>\n",
       "      <td>0.0549</td>\n",
       "      <td>1245.0</td>\n",
       "      <td>10.635709</td>\n",
       "      <td>130.0</td>\n",
       "      <td>19.966610</td>\n",
       "      <td>1850.611285</td>\n",
       "      <td>27.834838</td>\n",
       "      <td>1.0</td>\n",
       "      <td>7.833333</td>\n",
       "      <td>0.945833</td>\n",
       "      <td>143.805179</td>\n",
       "      <td>3.26</td>\n",
       "      <td>0.628627</td>\n",
       "      <td>None</td>\n",
       "      <td>27.982256</td>\n",
       "      <td>164.0862</td>\n",
       "    </tr>\n",
       "    <tr>\n",
       "      <th>3</th>\n",
       "      <td>65535.0</td>\n",
       "      <td>NaN</td>\n",
       "      <td>1.734753</td>\n",
       "      <td>-48762.101679</td>\n",
       "      <td>0.0342</td>\n",
       "      <td>1223.0</td>\n",
       "      <td>2.873174</td>\n",
       "      <td>130.5</td>\n",
       "      <td>20.691381</td>\n",
       "      <td>1898.352941</td>\n",
       "      <td>7.071733</td>\n",
       "      <td>2.0</td>\n",
       "      <td>10.083333</td>\n",
       "      <td>0.637500</td>\n",
       "      <td>36.816597</td>\n",
       "      <td>4.76</td>\n",
       "      <td>0.172147</td>\n",
       "      <td>None</td>\n",
       "      <td>28.239400</td>\n",
       "      <td>353.2644</td>\n",
       "    </tr>\n",
       "    <tr>\n",
       "      <th>4</th>\n",
       "      <td>65535.0</td>\n",
       "      <td>NaN</td>\n",
       "      <td>0.631731</td>\n",
       "      <td>-6380.557906</td>\n",
       "      <td>0.0027</td>\n",
       "      <td>NaN</td>\n",
       "      <td>1.045456</td>\n",
       "      <td>NaN</td>\n",
       "      <td>NaN</td>\n",
       "      <td>1895.387097</td>\n",
       "      <td>2.569308</td>\n",
       "      <td>2.0</td>\n",
       "      <td>4.000000</td>\n",
       "      <td>0.212500</td>\n",
       "      <td>13.451322</td>\n",
       "      <td>4.76</td>\n",
       "      <td>0.068093</td>\n",
       "      <td>None</td>\n",
       "      <td>NaN</td>\n",
       "      <td>121.9797</td>\n",
       "    </tr>\n",
       "  </tbody>\n",
       "</table>\n",
       "</div>"
      ],
      "text/plain": [
       "       aet      ai       art            ewd      fa     map        mat   mpdq  \\\n",
       "0  65535.0     NaN  0.164286    -524.708793  0.0711  1148.5   0.309987  131.5   \n",
       "1  13144.0  0.6577  8.822390 -894732.416005  0.1062  1208.0  12.476780  128.0   \n",
       "2  13867.0  0.6670  7.376786 -656234.650346  0.0549  1245.0  10.635709  130.0   \n",
       "3  65535.0     NaN  1.734753  -48762.101679  0.0342  1223.0   2.873174  130.5   \n",
       "4  65535.0     NaN  0.631731   -6380.557906  0.0027     NaN   1.045456    NaN   \n",
       "\n",
       "        mtcq          pet        psn   ra       rmap      rmat         tsn  \\\n",
       "0  21.304167  1918.111111   0.713689  1.0   1.833333  0.241667    3.698817   \n",
       "1  19.837514  1833.026596  32.850457  1.0   4.333333  0.679166  169.350913   \n",
       "2  19.966610  1850.611285  27.834838  1.0   7.833333  0.945833  143.805179   \n",
       "3  20.691381  1898.352941   7.071733  2.0  10.083333  0.637500   36.816597   \n",
       "4        NaN  1895.387097   2.569308  2.0   4.000000  0.212500   13.451322   \n",
       "\n",
       "   mfdf       alt   shg       mtwq        wa  \n",
       "0   NaN  0.011696  None  28.626191  302.9049  \n",
       "1  3.52  0.774757  None  27.766178  149.0013  \n",
       "2  3.26  0.628627  None  27.982256  164.0862  \n",
       "3  4.76  0.172147  None  28.239400  353.2644  \n",
       "4  4.76  0.068093  None        NaN  121.9797  "
      ]
     },
     "execution_count": 7,
     "metadata": {},
     "output_type": "execute_result"
    }
   ],
   "source": [
    "pergrid_base_pred_df.head()"
   ]
  },
  {
   "cell_type": "code",
   "execution_count": 8,
   "metadata": {},
   "outputs": [],
   "source": [
    "imputer = KNNImputer(n_neighbors=5)\n",
    "pergrid_base_pred_filled = imputer.fit_transform(pergrid_base_pred_df)\n",
    "pergrid_base_df = pd.DataFrame(pergrid_base_pred_filled)\n",
    "\n",
    "# standarize predictors\n",
    "ss = StandardScaler(with_mean=False, with_std=False)\n",
    "X_std = ss.fit_transform(pergrid_base_df)\n",
    "\n",
    "Xstd=pd.DataFrame(data=X_std[0:,0:],\n",
    "                index=pergrid_base_pred_df.index,\n",
    "                columns=pred_var)"
   ]
  },
  {
   "cell_type": "code",
   "execution_count": 24,
   "metadata": {},
   "outputs": [],
   "source": [
    "X_train, X_test, y_train, y_test = train_test_split(Xstd, y_true, test_size=0.1, random_state=0)"
   ]
  },
  {
   "cell_type": "code",
   "execution_count": 25,
   "metadata": {},
   "outputs": [
    {
     "name": "stdout",
     "output_type": "stream",
     "text": [
      "Training Random Forest Regressor...\n"
     ]
    },
    {
     "data": {
      "text/plain": [
       "RandomForestRegressor(bootstrap=True, ccp_alpha=0.0, criterion='mse',\n",
       "                      max_depth=None, max_features='auto', max_leaf_nodes=None,\n",
       "                      max_samples=None, min_impurity_decrease=0.0,\n",
       "                      min_impurity_split=None, min_samples_leaf=1,\n",
       "                      min_samples_split=2, min_weight_fraction_leaf=0.0,\n",
       "                      n_estimators=10, n_jobs=None, oob_score=False,\n",
       "                      random_state=42, verbose=0, warm_start=False)"
      ]
     },
     "execution_count": 25,
     "metadata": {},
     "output_type": "execute_result"
    }
   ],
   "source": [
    "print(\"Training Random Forest Regressor...\")\n",
    "rf = RandomForestRegressor(n_estimators = 10, random_state = 42, bootstrap=True)\n",
    "rf.fit(X_train, y_train)"
   ]
  },
  {
   "cell_type": "code",
   "execution_count": 26,
   "metadata": {},
   "outputs": [],
   "source": [
    "y_pred = rf.predict(X_test)"
   ]
  },
  {
   "cell_type": "code",
   "execution_count": 27,
   "metadata": {},
   "outputs": [
    {
     "name": "stdout",
     "output_type": "stream",
     "text": [
      "Test score:  0.7478659108715474\n"
     ]
    }
   ],
   "source": [
    "test_score_cv=rf.score(X_test,y_test)\n",
    "print(\"Test score: \", test_score_cv)"
   ]
  },
  {
   "cell_type": "code",
   "execution_count": 28,
   "metadata": {},
   "outputs": [],
   "source": [
    "# Grid and Random Search best hyperparameters\n",
    "import time\n",
    "import scipy.stats as st\n",
    "from scipy.stats import randint as sp_randint\n",
    "from sklearn.model_selection import RandomizedSearchCV"
   ]
  },
  {
   "cell_type": "markdown",
   "metadata": {},
   "source": [
    "Reducing computational expense using RandomizedSearchCV\n",
    "- Searching many different parameters at once may be computationally infeasible\n",
    "- RandomizedSearchCV searches a subset of the parameters, and you control the computational \"budget\""
   ]
  },
  {
   "cell_type": "code",
   "execution_count": 29,
   "metadata": {},
   "outputs": [],
   "source": [
    "# Specify parameters and distributions to sample from\n",
    "# Number of trees in random forest\n",
    "n_estimators = [int(x) for x in np.linspace(start = 10, stop = 200, num = 20)]\n",
    "# max number of features considered for splitting a node\n",
    "max_features = ['auto', 'sqrt']\n",
    "# max number of levels in each decision tree\n",
    "max_depth = [int(x) for x in np.linspace(30, 80, num = 10)]\n",
    "max_depth.append(None)\n",
    "# min number of data points placed in a node before the node is split\n",
    "min_samples_split = [5, 10]\n",
    "# min number of data points allowed in a leaf node\n",
    "min_samples_leaf = [5, 10]\n",
    "# Method of selecting samples for training each tree\n",
    "bootstrap = [True]\n",
    "criterion = [\"mse\"]"
   ]
  },
  {
   "cell_type": "code",
   "execution_count": 30,
   "metadata": {},
   "outputs": [
    {
     "name": "stdout",
     "output_type": "stream",
     "text": [
      "RandomizedSearchCV took 1188.28 seconds for 100 candidates parameter settings.\n"
     ]
    }
   ],
   "source": [
    "param_dist = {'n_estimators': n_estimators,\n",
    "               'max_features': max_features,\n",
    "               'max_depth': max_depth,\n",
    "               'min_samples_split': min_samples_split,\n",
    "               'min_samples_leaf': min_samples_leaf,\n",
    "               'bootstrap': bootstrap,\n",
    "               'criterion': criterion}\n",
    "\n",
    "# Run Randomized Search\n",
    "n_iter_search = 100 # Number of parameter settings that are sampled \n",
    "rfr = RandomForestRegressor()\n",
    "random_search = RandomizedSearchCV(estimator = rfr, \n",
    "                                   param_distributions=param_dist, \n",
    "                                   n_iter=n_iter_search,\n",
    "                                   n_jobs = -1, # using all processors\n",
    "                                   cv = 10)\n",
    "\n",
    "start = time.time()\n",
    "random_search.fit(X_train, y_train)\n",
    "print(\"RandomizedSearchCV took %.2f seconds for %d candidates\"\n",
    "      \" parameter settings.\" % ((time.time() - start), n_iter_search))"
   ]
  },
  {
   "cell_type": "code",
   "execution_count": 31,
   "metadata": {},
   "outputs": [
    {
     "data": {
      "text/plain": [
       "{'n_estimators': 130,\n",
       " 'min_samples_split': 5,\n",
       " 'min_samples_leaf': 5,\n",
       " 'max_features': 'sqrt',\n",
       " 'max_depth': 30,\n",
       " 'criterion': 'mse',\n",
       " 'bootstrap': True}"
      ]
     },
     "execution_count": 31,
     "metadata": {},
     "output_type": "execute_result"
    }
   ],
   "source": [
    "random_search.best_params_"
   ]
  },
  {
   "cell_type": "code",
   "execution_count": 32,
   "metadata": {},
   "outputs": [
    {
     "data": {
      "text/plain": [
       "RandomForestRegressor(bootstrap=True, ccp_alpha=0.0, criterion='mse',\n",
       "                      max_depth=30, max_features='sqrt', max_leaf_nodes=None,\n",
       "                      max_samples=None, min_impurity_decrease=0.0,\n",
       "                      min_impurity_split=None, min_samples_leaf=5,\n",
       "                      min_samples_split=5, min_weight_fraction_leaf=0.0,\n",
       "                      n_estimators=130, n_jobs=None, oob_score=False,\n",
       "                      random_state=None, verbose=0, warm_start=False)"
      ]
     },
     "execution_count": 32,
     "metadata": {},
     "output_type": "execute_result"
    }
   ],
   "source": [
    "random_search.best_estimator_"
   ]
  },
  {
   "cell_type": "markdown",
   "metadata": {},
   "source": [
    "### Evaluation Metrics"
   ]
  },
  {
   "cell_type": "code",
   "execution_count": 33,
   "metadata": {},
   "outputs": [],
   "source": [
    "from sklearn.metrics import mean_absolute_error\n",
    "from sklearn.metrics import r2_score"
   ]
  },
  {
   "cell_type": "code",
   "execution_count": 34,
   "metadata": {},
   "outputs": [
    {
     "name": "stdout",
     "output_type": "stream",
     "text": [
      "train MAE 2.7228022878337956\n",
      "train r2 0.8982411090964104\n"
     ]
    }
   ],
   "source": [
    "Y_train_pred = random_search.predict(X_train)\n",
    "print('train MAE', mean_absolute_error(Y_train_pred, y_train))\n",
    "print('train r2', r2_score(y_train, Y_train_pred))"
   ]
  },
  {
   "cell_type": "code",
   "execution_count": 35,
   "metadata": {},
   "outputs": [
    {
     "name": "stdout",
     "output_type": "stream",
     "text": [
      "train RMSE 3.527067097589713\n",
      "train r2 0.8982411090964104\n"
     ]
    }
   ],
   "source": [
    "from sklearn.metrics import mean_squared_error\n",
    "import math\n",
    "\n",
    "Y_train_pred = random_search.predict(X_train)\n",
    "rmse = math.sqrt(mean_squared_error(Y_train_pred, y_train))\n",
    "\n",
    "print('train RMSE', rmse)\n",
    "print('train r2', r2_score(y_train, Y_train_pred))"
   ]
  },
  {
   "cell_type": "code",
   "execution_count": 36,
   "metadata": {},
   "outputs": [
    {
     "name": "stdout",
     "output_type": "stream",
     "text": [
      "test MAE 4.164872962546351\n",
      "test r2 0.7769482213265861\n"
     ]
    }
   ],
   "source": [
    "Y_test_pred = random_search.predict(X_test)\n",
    "print('test MAE', mean_absolute_error(Y_test_pred, y_test))\n",
    "print('test r2', r2_score(y_test, Y_test_pred))"
   ]
  },
  {
   "cell_type": "code",
   "execution_count": 37,
   "metadata": {},
   "outputs": [
    {
     "name": "stdout",
     "output_type": "stream",
     "text": [
      "test RMSE 5.282661995820411\n",
      "test r2 0.7769482213265861\n"
     ]
    }
   ],
   "source": [
    "Y_test_pred = random_search.predict(X_test)\n",
    "rmse = math.sqrt(mean_squared_error(Y_test_pred, y_test))\n",
    "\n",
    "print('test RMSE', rmse)\n",
    "print('test r2', r2_score(y_test, Y_test_pred))"
   ]
  },
  {
   "cell_type": "code",
   "execution_count": 38,
   "metadata": {},
   "outputs": [],
   "source": [
    "rf_y_test_eus = pd.DataFrame(\n",
    "    {'tsr': y_test,\n",
    "     'tsr_predicted': Y_test_pred})\n",
    "rf_y_test_eus.to_sql(name='rf_y_test_eus', con=engine, schema='predictor', if_exists='replace', index=False)"
   ]
  },
  {
   "cell_type": "markdown",
   "metadata": {},
   "source": [
    "### Feature Importance"
   ]
  },
  {
   "cell_type": "code",
   "execution_count": 39,
   "metadata": {},
   "outputs": [
    {
     "name": "stdout",
     "output_type": "stream",
     "text": [
      "Features sorted by their score:\n",
      "[(0.2807, 'fa'), (0.0866, 'mpdq'), (0.0753, 'ra'), (0.0638, 'mtcq'), (0.0539, 'psn'), (0.0521, 'aet'), (0.0429, 'tsn'), (0.0412, 'art'), (0.0409, 'mat'), (0.0357, 'pet'), (0.0344, 'mfdf'), (0.0313, 'ewd'), (0.0309, 'map'), (0.0301, 'mtwq'), (0.0283, 'alt'), (0.0261, 'ai'), (0.0171, 'wa'), (0.0163, 'rmat'), (0.0082, 'rmap'), (0.0043, 'shg')]\n"
     ]
    }
   ],
   "source": [
    "print(\"Features sorted by their score:\")\n",
    "print(sorted(zip(map(lambda x: round(x, 4), random_search.best_estimator_.feature_importances_), pred_var), \n",
    "             reverse=True))"
   ]
  },
  {
   "cell_type": "code",
   "execution_count": 40,
   "metadata": {},
   "outputs": [
    {
     "data": {
      "text/plain": [
       "<Figure size 720x720 with 0 Axes>"
      ]
     },
     "metadata": {},
     "output_type": "display_data"
    }
   ],
   "source": [
    "import matplotlib.pyplot as plt\n",
    "\n",
    "plt.rcParams.update({'font.size': 20})\n",
    "plt.style.use('seaborn-whitegrid')\n",
    "fig = plt.figure(figsize=(10,10))\n",
    "plt.tight_layout()"
   ]
  },
  {
   "cell_type": "code",
   "execution_count": 41,
   "metadata": {},
   "outputs": [
    {
     "data": {
      "image/png": "[encoded data removed]",
      "text/plain": [
       "<Figure size 1440x720 with 1 Axes>"
      ]
     },
     "metadata": {},
     "output_type": "display_data"
    }
   ],
   "source": [
    "importance = random_search.best_estimator_.feature_importances_\n",
    "importance = pd.DataFrame(importance, index=PRED_VAR, columns=[\"Importance\"])\n",
    "importance.sort_values(by='Importance', ascending=True).plot(kind='barh', figsize=(20,len(importance)/2));"
   ]
  },
  {
   "cell_type": "markdown",
   "metadata": {},
   "source": [
    "### Make TSR predictions using the full dataset"
   ]
  },
  {
   "cell_type": "code",
   "execution_count": 42,
   "metadata": {},
   "outputs": [],
   "source": [
    "y_pred_all = random_search.predict(Xstd)"
   ]
  },
  {
   "cell_type": "code",
   "execution_count": 43,
   "metadata": {},
   "outputs": [],
   "source": [
    "pergrid_all_predicted = pd.DataFrame(\n",
    "    {'grid_id': grid_id,\n",
    "     'tsr': y_true,\n",
    "     'tsr_predicted': y_pred_all.tolist()})"
   ]
  },
  {
   "cell_type": "code",
   "execution_count": 44,
   "metadata": {},
   "outputs": [
    {
     "data": {
      "text/html": [
       "<div>\n",
       "<style scoped>\n",
       "    .dataframe tbody tr th:only-of-type {\n",
       "        vertical-align: middle;\n",
       "    }\n",
       "\n",
       "    .dataframe tbody tr th {\n",
       "        vertical-align: top;\n",
       "    }\n",
       "\n",
       "    .dataframe thead th {\n",
       "        text-align: right;\n",
       "    }\n",
       "</style>\n",
       "<table border=\"1\" class=\"dataframe\">\n",
       "  <thead>\n",
       "    <tr style=\"text-align: right;\">\n",
       "      <th></th>\n",
       "      <th>grid_id</th>\n",
       "      <th>tsr</th>\n",
       "      <th>tsr_predicted</th>\n",
       "    </tr>\n",
       "  </thead>\n",
       "  <tbody>\n",
       "    <tr>\n",
       "      <th>0</th>\n",
       "      <td>195</td>\n",
       "      <td>5.0</td>\n",
       "      <td>4.424165</td>\n",
       "    </tr>\n",
       "    <tr>\n",
       "      <th>1</th>\n",
       "      <td>656</td>\n",
       "      <td>1.0</td>\n",
       "      <td>4.669140</td>\n",
       "    </tr>\n",
       "    <tr>\n",
       "      <th>2</th>\n",
       "      <td>657</td>\n",
       "      <td>6.0</td>\n",
       "      <td>5.088662</td>\n",
       "    </tr>\n",
       "    <tr>\n",
       "      <th>3</th>\n",
       "      <td>659</td>\n",
       "      <td>10.0</td>\n",
       "      <td>4.810145</td>\n",
       "    </tr>\n",
       "    <tr>\n",
       "      <th>4</th>\n",
       "      <td>660</td>\n",
       "      <td>3.0</td>\n",
       "      <td>4.983717</td>\n",
       "    </tr>\n",
       "    <tr>\n",
       "      <th>5</th>\n",
       "      <td>888</td>\n",
       "      <td>2.0</td>\n",
       "      <td>4.036598</td>\n",
       "    </tr>\n",
       "    <tr>\n",
       "      <th>6</th>\n",
       "      <td>889</td>\n",
       "      <td>6.0</td>\n",
       "      <td>5.816840</td>\n",
       "    </tr>\n",
       "    <tr>\n",
       "      <th>7</th>\n",
       "      <td>890</td>\n",
       "      <td>8.0</td>\n",
       "      <td>5.763748</td>\n",
       "    </tr>\n",
       "    <tr>\n",
       "      <th>8</th>\n",
       "      <td>891</td>\n",
       "      <td>1.0</td>\n",
       "      <td>4.201635</td>\n",
       "    </tr>\n",
       "    <tr>\n",
       "      <th>9</th>\n",
       "      <td>1121</td>\n",
       "      <td>4.0</td>\n",
       "      <td>4.983085</td>\n",
       "    </tr>\n",
       "  </tbody>\n",
       "</table>\n",
       "</div>"
      ],
      "text/plain": [
       "   grid_id   tsr  tsr_predicted\n",
       "0      195   5.0       4.424165\n",
       "1      656   1.0       4.669140\n",
       "2      657   6.0       5.088662\n",
       "3      659  10.0       4.810145\n",
       "4      660   3.0       4.983717\n",
       "5      888   2.0       4.036598\n",
       "6      889   6.0       5.816840\n",
       "7      890   8.0       5.763748\n",
       "8      891   1.0       4.201635\n",
       "9     1121   4.0       4.983085"
      ]
     },
     "execution_count": 44,
     "metadata": {},
     "output_type": "execute_result"
    }
   ],
   "source": [
    "pergrid_all_predicted.head(10)"
   ]
  },
  {
   "cell_type": "code",
   "execution_count": 53,
   "metadata": {},
   "outputs": [
    {
     "name": "stderr",
     "output_type": "stream",
     "text": [
      "/Users/lianfeng/miniconda3/lib/python3.7/site-packages/sqlalchemy/dialects/postgresql/base.py:3028: SAWarning: Did not recognize type 'geometry' of column 'wkb_geometry'\n",
      "  \"Did not recognize type '%s' of column '%s'\" % (attype, name)\n"
     ]
    }
   ],
   "source": [
    "pergrid_all_predicted.to_sql(name='random_forest_eus', con=engine, schema='predictor', if_exists='replace', index=False)"
   ]
  },
  {
   "cell_type": "code",
   "execution_count": 54,
   "metadata": {},
   "outputs": [],
   "source": [
    "update_geom = \"\"\"\n",
    "alter table predictor.random_forest_eus add column if not exists wkb_geometry geometry(Polygon,4269);\n",
    "update predictor.random_forest_eus A SET wkb_geometry = B.wkb_geometry\n",
    "FROM predictor.pergrid_base B\n",
    "WHERE A.grid_id = B.grid_id\n",
    "\"\"\""
   ]
  },
  {
   "cell_type": "code",
   "execution_count": 55,
   "metadata": {},
   "outputs": [
    {
     "data": {
      "text/plain": [
       "<sqlalchemy.engine.result.ResultProxy at 0x7fc783944b50>"
      ]
     },
     "execution_count": 55,
     "metadata": {},
     "output_type": "execute_result"
    }
   ],
   "source": [
    "connection = engine.connect()\n",
    "connection.execute(update_geom)"
   ]
  },
  {
   "cell_type": "code",
   "execution_count": 56,
   "metadata": {},
   "outputs": [],
   "source": [
    "update_residual = \"\"\"\n",
    "alter table predictor.random_forest_eus add column residual double precision;\n",
    "update predictor.random_forest_eus set residual = (tsr_predicted-tsr);\n",
    "\"\"\""
   ]
  },
  {
   "cell_type": "code",
   "execution_count": 57,
   "metadata": {},
   "outputs": [
    {
     "data": {
      "text/plain": [
       "<sqlalchemy.engine.result.ResultProxy at 0x7fc78394c2d0>"
      ]
     },
     "execution_count": 57,
     "metadata": {},
     "output_type": "execute_result"
    }
   ],
   "source": [
    "connection = engine.connect()\n",
    "connection.execute(update_residual)"
   ]
  },
  {
   "cell_type": "code",
   "execution_count": null,
   "metadata": {},
   "outputs": [],
   "source": []
  },
  {
   "cell_type": "code",
   "execution_count": null,
   "metadata": {},
   "outputs": [],
   "source": []
  }
 ],
 "metadata": {
  "kernelspec": {
   "display_name": "Python 3",
   "language": "python",
   "name": "python3"
  },
  "language_info": {
   "codemirror_mode": {
    "name": "ipython",
    "version": 3
   },
   "file_extension": ".py",
   "mimetype": "text/x-python",
   "name": "python",
   "nbconvert_exporter": "python",
   "pygments_lexer": "ipython3",
   "version": "3.7.6"
  }
 },
 "nbformat": 4,
 "nbformat_minor": 2
}
