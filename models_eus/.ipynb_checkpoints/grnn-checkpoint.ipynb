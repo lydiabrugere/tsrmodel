{
 "cells": [
  {
   "cell_type": "code",
   "execution_count": 1,
   "metadata": {},
   "outputs": [
    {
     "name": "stderr",
     "output_type": "stream",
     "text": [
      "/Users/lianfeng/miniconda3/lib/python3.7/site-packages/tensorflow/python/framework/dtypes.py:526: FutureWarning: Passing (type, 1) or '1type' as a synonym of type is deprecated; in a future version of numpy, it will be understood as (type, (1,)) / '(1,)type'.\n",
      "  _np_qint8 = np.dtype([(\"qint8\", np.int8, 1)])\n",
      "/Users/lianfeng/miniconda3/lib/python3.7/site-packages/tensorflow/python/framework/dtypes.py:527: FutureWarning: Passing (type, 1) or '1type' as a synonym of type is deprecated; in a future version of numpy, it will be understood as (type, (1,)) / '(1,)type'.\n",
      "  _np_quint8 = np.dtype([(\"quint8\", np.uint8, 1)])\n",
      "/Users/lianfeng/miniconda3/lib/python3.7/site-packages/tensorflow/python/framework/dtypes.py:528: FutureWarning: Passing (type, 1) or '1type' as a synonym of type is deprecated; in a future version of numpy, it will be understood as (type, (1,)) / '(1,)type'.\n",
      "  _np_qint16 = np.dtype([(\"qint16\", np.int16, 1)])\n",
      "/Users/lianfeng/miniconda3/lib/python3.7/site-packages/tensorflow/python/framework/dtypes.py:529: FutureWarning: Passing (type, 1) or '1type' as a synonym of type is deprecated; in a future version of numpy, it will be understood as (type, (1,)) / '(1,)type'.\n",
      "  _np_quint16 = np.dtype([(\"quint16\", np.uint16, 1)])\n",
      "/Users/lianfeng/miniconda3/lib/python3.7/site-packages/tensorflow/python/framework/dtypes.py:530: FutureWarning: Passing (type, 1) or '1type' as a synonym of type is deprecated; in a future version of numpy, it will be understood as (type, (1,)) / '(1,)type'.\n",
      "  _np_qint32 = np.dtype([(\"qint32\", np.int32, 1)])\n",
      "/Users/lianfeng/miniconda3/lib/python3.7/site-packages/tensorflow/python/framework/dtypes.py:535: FutureWarning: Passing (type, 1) or '1type' as a synonym of type is deprecated; in a future version of numpy, it will be understood as (type, (1,)) / '(1,)type'.\n",
      "  np_resource = np.dtype([(\"resource\", np.ubyte, 1)])\n"
     ]
    },
    {
     "data": {
      "text/plain": [
       "'/Users/lianfeng/miniconda3/bin/python'"
      ]
     },
     "execution_count": 1,
     "metadata": {},
     "output_type": "execute_result"
    }
   ],
   "source": [
    "from sqlalchemy import create_engine\n",
    "from numpy import arange\n",
    "import pandas as pd\n",
    "import numpy as np\n",
    "from sklearn.model_selection import train_test_split\n",
    "from sklearn.metrics import r2_score\n",
    "from sklearn.preprocessing import MinMaxScaler\n",
    "from sklearn.impute import KNNImputer\n",
    "\n",
    "from neupy import algorithms\n",
    "\n",
    "import warnings\n",
    "warnings.filterwarnings('ignore')\n",
    "\n",
    "import sys\n",
    "sys.executable"
   ]
  },
  {
   "cell_type": "code",
   "execution_count": 53,
   "metadata": {},
   "outputs": [],
   "source": [
    "localhost = {'user': 'postgres', 'password': 'postgres', 'host': 'localhost', 'port': 5432, 'db': 'fiadb'}\n",
    "params = 'postgresql://{0}:{1}@{2}:{3}/{4}'\n",
    "engine = create_engine(params.format(localhost['user'], localhost['password'], localhost['host'], localhost['port'], localhost['db']))\n",
    "pergrid_base = \"\"\"select distinct * from predictor.pergrid_base_eus\"\"\"\n",
    "pergrid_base_df = pd.read_sql(pergrid_base, engine)"
   ]
  },
  {
   "cell_type": "code",
   "execution_count": 54,
   "metadata": {},
   "outputs": [],
   "source": [
    "frames = [pergrid_base_df, pergrid_base_df]\n",
    "pergrid_base_df2 = pd.concat(frames)"
   ]
  },
  {
   "cell_type": "code",
   "execution_count": 55,
   "metadata": {},
   "outputs": [
    {
     "data": {
      "text/plain": [
       "(15246, 23)"
      ]
     },
     "execution_count": 55,
     "metadata": {},
     "output_type": "execute_result"
    }
   ],
   "source": [
    "pergrid_base_df2.shape"
   ]
  },
  {
   "cell_type": "code",
   "execution_count": 58,
   "metadata": {},
   "outputs": [],
   "source": [
    "# separate predictor variables from outcome varaible\n",
    "y = pergrid_base_df2['tsr']\n",
    "grid_id = pergrid_base_df2['grid_id']\n",
    "var= ['aet', 'ai', 'art', 'ewd', 'fa', 'map', 'mat', 'mpdq',\n",
    "       'mtcq', 'pet', 'psn', 'ra', 'rmap', 'rmat', 'tsn', 'mfdf', 'alt','shg','mtwq', 'wa']\n",
    "pergrid_base_df2 = pergrid_base_df2[var]"
   ]
  },
  {
   "cell_type": "code",
   "execution_count": 59,
   "metadata": {},
   "outputs": [],
   "source": [
    "# encode categorical variable\n",
    "# pergrid_base_df_encoded=pd.get_dummies(pergrid_base_df, columns=[\"shg\"])"
   ]
  },
  {
   "cell_type": "code",
   "execution_count": 60,
   "metadata": {},
   "outputs": [
    {
     "data": {
      "text/html": [
       "<div>\n",
       "<style scoped>\n",
       "    .dataframe tbody tr th:only-of-type {\n",
       "        vertical-align: middle;\n",
       "    }\n",
       "\n",
       "    .dataframe tbody tr th {\n",
       "        vertical-align: top;\n",
       "    }\n",
       "\n",
       "    .dataframe thead th {\n",
       "        text-align: right;\n",
       "    }\n",
       "</style>\n",
       "<table border=\"1\" class=\"dataframe\">\n",
       "  <thead>\n",
       "    <tr style=\"text-align: right;\">\n",
       "      <th></th>\n",
       "      <th>0</th>\n",
       "      <th>1</th>\n",
       "      <th>2</th>\n",
       "      <th>3</th>\n",
       "      <th>4</th>\n",
       "      <th>5</th>\n",
       "      <th>6</th>\n",
       "      <th>7</th>\n",
       "      <th>8</th>\n",
       "      <th>9</th>\n",
       "      <th>10</th>\n",
       "      <th>11</th>\n",
       "      <th>12</th>\n",
       "      <th>13</th>\n",
       "      <th>14</th>\n",
       "      <th>15</th>\n",
       "      <th>16</th>\n",
       "      <th>17</th>\n",
       "      <th>18</th>\n",
       "      <th>19</th>\n",
       "    </tr>\n",
       "  </thead>\n",
       "  <tbody>\n",
       "    <tr>\n",
       "      <th>0</th>\n",
       "      <td>65535.0</td>\n",
       "      <td>1.02566</td>\n",
       "      <td>0.164286</td>\n",
       "      <td>-524.708793</td>\n",
       "      <td>0.0711</td>\n",
       "      <td>1148.5</td>\n",
       "      <td>0.309987</td>\n",
       "      <td>131.5</td>\n",
       "      <td>21.304167</td>\n",
       "      <td>1918.111111</td>\n",
       "      <td>0.713689</td>\n",
       "      <td>1.0</td>\n",
       "      <td>1.833333</td>\n",
       "      <td>0.241667</td>\n",
       "      <td>3.698817</td>\n",
       "      <td>5.65</td>\n",
       "      <td>0.011696</td>\n",
       "      <td>1.4</td>\n",
       "      <td>28.626191</td>\n",
       "      <td>302.9049</td>\n",
       "    </tr>\n",
       "    <tr>\n",
       "      <th>1</th>\n",
       "      <td>13144.0</td>\n",
       "      <td>0.65770</td>\n",
       "      <td>8.822390</td>\n",
       "      <td>-894732.416005</td>\n",
       "      <td>0.1062</td>\n",
       "      <td>1208.0</td>\n",
       "      <td>12.476780</td>\n",
       "      <td>128.0</td>\n",
       "      <td>19.837514</td>\n",
       "      <td>1833.026596</td>\n",
       "      <td>32.850457</td>\n",
       "      <td>1.0</td>\n",
       "      <td>4.333333</td>\n",
       "      <td>0.679166</td>\n",
       "      <td>169.350913</td>\n",
       "      <td>3.52</td>\n",
       "      <td>0.774757</td>\n",
       "      <td>3.2</td>\n",
       "      <td>27.766178</td>\n",
       "      <td>149.0013</td>\n",
       "    </tr>\n",
       "    <tr>\n",
       "      <th>2</th>\n",
       "      <td>13867.0</td>\n",
       "      <td>0.66700</td>\n",
       "      <td>7.376786</td>\n",
       "      <td>-656234.650346</td>\n",
       "      <td>0.0549</td>\n",
       "      <td>1245.0</td>\n",
       "      <td>10.635709</td>\n",
       "      <td>130.0</td>\n",
       "      <td>19.966610</td>\n",
       "      <td>1850.611285</td>\n",
       "      <td>27.834838</td>\n",
       "      <td>1.0</td>\n",
       "      <td>7.833333</td>\n",
       "      <td>0.945833</td>\n",
       "      <td>143.805179</td>\n",
       "      <td>3.26</td>\n",
       "      <td>0.628627</td>\n",
       "      <td>5.6</td>\n",
       "      <td>27.982256</td>\n",
       "      <td>164.0862</td>\n",
       "    </tr>\n",
       "    <tr>\n",
       "      <th>3</th>\n",
       "      <td>65535.0</td>\n",
       "      <td>0.92404</td>\n",
       "      <td>1.734753</td>\n",
       "      <td>-48762.101679</td>\n",
       "      <td>0.0342</td>\n",
       "      <td>1223.0</td>\n",
       "      <td>2.873174</td>\n",
       "      <td>130.5</td>\n",
       "      <td>20.691381</td>\n",
       "      <td>1898.352941</td>\n",
       "      <td>7.071733</td>\n",
       "      <td>2.0</td>\n",
       "      <td>10.083333</td>\n",
       "      <td>0.637500</td>\n",
       "      <td>36.816597</td>\n",
       "      <td>4.76</td>\n",
       "      <td>0.172147</td>\n",
       "      <td>2.2</td>\n",
       "      <td>28.239400</td>\n",
       "      <td>353.2644</td>\n",
       "    </tr>\n",
       "    <tr>\n",
       "      <th>4</th>\n",
       "      <td>65535.0</td>\n",
       "      <td>1.02330</td>\n",
       "      <td>0.631731</td>\n",
       "      <td>-6380.557906</td>\n",
       "      <td>0.0027</td>\n",
       "      <td>1259.2</td>\n",
       "      <td>1.045456</td>\n",
       "      <td>258.4</td>\n",
       "      <td>5.844905</td>\n",
       "      <td>1895.387097</td>\n",
       "      <td>2.569308</td>\n",
       "      <td>2.0</td>\n",
       "      <td>4.000000</td>\n",
       "      <td>0.212500</td>\n",
       "      <td>13.451322</td>\n",
       "      <td>4.76</td>\n",
       "      <td>0.068093</td>\n",
       "      <td>1.4</td>\n",
       "      <td>23.520496</td>\n",
       "      <td>121.9797</td>\n",
       "    </tr>\n",
       "  </tbody>\n",
       "</table>\n",
       "</div>"
      ],
      "text/plain": [
       "         0        1         2              3       4       5          6  \\\n",
       "0  65535.0  1.02566  0.164286    -524.708793  0.0711  1148.5   0.309987   \n",
       "1  13144.0  0.65770  8.822390 -894732.416005  0.1062  1208.0  12.476780   \n",
       "2  13867.0  0.66700  7.376786 -656234.650346  0.0549  1245.0  10.635709   \n",
       "3  65535.0  0.92404  1.734753  -48762.101679  0.0342  1223.0   2.873174   \n",
       "4  65535.0  1.02330  0.631731   -6380.557906  0.0027  1259.2   1.045456   \n",
       "\n",
       "       7          8            9         10   11         12        13  \\\n",
       "0  131.5  21.304167  1918.111111   0.713689  1.0   1.833333  0.241667   \n",
       "1  128.0  19.837514  1833.026596  32.850457  1.0   4.333333  0.679166   \n",
       "2  130.0  19.966610  1850.611285  27.834838  1.0   7.833333  0.945833   \n",
       "3  130.5  20.691381  1898.352941   7.071733  2.0  10.083333  0.637500   \n",
       "4  258.4   5.844905  1895.387097   2.569308  2.0   4.000000  0.212500   \n",
       "\n",
       "           14    15        16   17         18        19  \n",
       "0    3.698817  5.65  0.011696  1.4  28.626191  302.9049  \n",
       "1  169.350913  3.52  0.774757  3.2  27.766178  149.0013  \n",
       "2  143.805179  3.26  0.628627  5.6  27.982256  164.0862  \n",
       "3   36.816597  4.76  0.172147  2.2  28.239400  353.2644  \n",
       "4   13.451322  4.76  0.068093  1.4  23.520496  121.9797  "
      ]
     },
     "execution_count": 60,
     "metadata": {},
     "output_type": "execute_result"
    }
   ],
   "source": [
    "# fill NaN with values from neighbor pixels\n",
    "imputer = KNNImputer(n_neighbors=5)\n",
    "pergrid_base_filled = imputer.fit_transform(pergrid_base_df2)\n",
    "pergrid_base_df = pd.DataFrame(pergrid_base_filled)\n",
    "pergrid_base_df.head()"
   ]
  },
  {
   "cell_type": "code",
   "execution_count": 61,
   "metadata": {},
   "outputs": [],
   "source": [
    "# standarize predictors\n",
    "ss = MinMaxScaler()\n",
    "xstd = ss.fit_transform(pergrid_base_df)"
   ]
  },
  {
   "cell_type": "code",
   "execution_count": 62,
   "metadata": {},
   "outputs": [],
   "source": [
    "X_train, X_test, Y_train, Y_test = train_test_split(xstd, y, test_size=0.2, shuffle=True)"
   ]
  },
  {
   "cell_type": "code",
   "execution_count": 69,
   "metadata": {},
   "outputs": [
    {
     "name": "stdout",
     "output_type": "stream",
     "text": [
      "0.05 1.5531803674178601\n",
      "0.060000000000000005 1.8826688839718047\n",
      "0.07 2.209261938179978\n",
      "0.08000000000000002 2.507850011392867\n",
      "0.09000000000000001 2.771643393307554\n"
     ]
    }
   ],
   "source": [
    "from sklearn.metrics import mean_squared_error\n",
    "\n",
    "std_list = arange(0.05, 0.10, 0.010)\n",
    "for std in std_list:\n",
    "    nw = algorithms.GRNN(std=std, verbose=False)\n",
    "    nw.train(X_train, Y_train)\n",
    "    Y_test_pred = nw.predict(X_test).flatten()\n",
    "    mae = mean_absolute_error(Y_test_pred, Y_test)\n",
    "    r2=r2_score(Y_test, Y_test_pred)\n",
    "    print(std, mae)"
   ]
  },
  {
   "cell_type": "code",
   "execution_count": 70,
   "metadata": {},
   "outputs": [],
   "source": [
    "nw = algorithms.GRNN(std=0.05, verbose=False) # 0.108 3.0961740739964703"
   ]
  },
  {
   "cell_type": "code",
   "execution_count": 71,
   "metadata": {},
   "outputs": [],
   "source": [
    "nw.train(X_train, Y_train)"
   ]
  },
  {
   "cell_type": "markdown",
   "metadata": {},
   "source": [
    "### Evaluation Metrics"
   ]
  },
  {
   "cell_type": "code",
   "execution_count": 72,
   "metadata": {},
   "outputs": [],
   "source": [
    "from sklearn.metrics import mean_absolute_error\n",
    "from sklearn.metrics import r2_score"
   ]
  },
  {
   "cell_type": "code",
   "execution_count": null,
   "metadata": {},
   "outputs": [],
   "source": [
    "Y_train_pred = nw.predict(X_train).flatten()\n",
    "print('train MAE', mean_absolute_error(Y_train_pred, Y_train))\n",
    "print('train r2', r2_score(Y_train, Y_train_pred))"
   ]
  },
  {
   "cell_type": "code",
   "execution_count": null,
   "metadata": {},
   "outputs": [],
   "source": [
    "Y_test_pred = nw.predict(X_test).flatten()\n",
    "print('test MAE', mean_absolute_error(Y_test_pred, Y_test))\n",
    "print('test r2', r2_score(Y_test, Y_test_pred))"
   ]
  },
  {
   "cell_type": "code",
   "execution_count": 24,
   "metadata": {},
   "outputs": [],
   "source": [
    "grnn_y_test_eus = pd.DataFrame(\n",
    "    {'tsr': Y_test,\n",
    "     'tsr_predicted': Y_test_pred})\n",
    "grnn_y_test_eus.to_sql(name='grnn_y_test_eus', con=engine, schema='predictor', if_exists='replace', index=False)"
   ]
  },
  {
   "cell_type": "markdown",
   "metadata": {},
   "source": [
    "### Ingest TSR predictions to PG"
   ]
  },
  {
   "cell_type": "code",
   "execution_count": 385,
   "metadata": {},
   "outputs": [],
   "source": [
    "y_pred = nw.predict(xstd).flatten()"
   ]
  },
  {
   "cell_type": "code",
   "execution_count": 386,
   "metadata": {},
   "outputs": [],
   "source": [
    "pergrid_all_predicted = pd.DataFrame(\n",
    "    {'grid_id': grid_id,\n",
    "     'tsr': y,\n",
    "     'tsr_predicted': y_pred})"
   ]
  },
  {
   "cell_type": "code",
   "execution_count": 387,
   "metadata": {},
   "outputs": [
    {
     "data": {
      "text/html": [
       "<div>\n",
       "<style scoped>\n",
       "    .dataframe tbody tr th:only-of-type {\n",
       "        vertical-align: middle;\n",
       "    }\n",
       "\n",
       "    .dataframe tbody tr th {\n",
       "        vertical-align: top;\n",
       "    }\n",
       "\n",
       "    .dataframe thead th {\n",
       "        text-align: right;\n",
       "    }\n",
       "</style>\n",
       "<table border=\"1\" class=\"dataframe\">\n",
       "  <thead>\n",
       "    <tr style=\"text-align: right;\">\n",
       "      <th></th>\n",
       "      <th>grid_id</th>\n",
       "      <th>tsr</th>\n",
       "      <th>tsr_predicted</th>\n",
       "    </tr>\n",
       "  </thead>\n",
       "  <tbody>\n",
       "    <tr>\n",
       "      <th>0</th>\n",
       "      <td>110</td>\n",
       "      <td>4.0</td>\n",
       "      <td>3.276433</td>\n",
       "    </tr>\n",
       "    <tr>\n",
       "      <th>1</th>\n",
       "      <td>111</td>\n",
       "      <td>2.0</td>\n",
       "      <td>2.000123</td>\n",
       "    </tr>\n",
       "    <tr>\n",
       "      <th>2</th>\n",
       "      <td>195</td>\n",
       "      <td>5.0</td>\n",
       "      <td>4.994345</td>\n",
       "    </tr>\n",
       "    <tr>\n",
       "      <th>3</th>\n",
       "      <td>337</td>\n",
       "      <td>1.0</td>\n",
       "      <td>2.803938</td>\n",
       "    </tr>\n",
       "    <tr>\n",
       "      <th>4</th>\n",
       "      <td>338</td>\n",
       "      <td>1.0</td>\n",
       "      <td>2.795763</td>\n",
       "    </tr>\n",
       "  </tbody>\n",
       "</table>\n",
       "</div>"
      ],
      "text/plain": [
       "   grid_id  tsr  tsr_predicted\n",
       "0      110  4.0       3.276433\n",
       "1      111  2.0       2.000123\n",
       "2      195  5.0       4.994345\n",
       "3      337  1.0       2.803938\n",
       "4      338  1.0       2.795763"
      ]
     },
     "execution_count": 387,
     "metadata": {},
     "output_type": "execute_result"
    }
   ],
   "source": [
    "pergrid_all_predicted.head()"
   ]
  },
  {
   "cell_type": "code",
   "execution_count": 388,
   "metadata": {},
   "outputs": [],
   "source": [
    "pergrid_all_predicted.to_sql(name='grnn', con=engine, schema='predictor', if_exists='replace', index=False)"
   ]
  },
  {
   "cell_type": "code",
   "execution_count": 389,
   "metadata": {},
   "outputs": [],
   "source": [
    "update_geom = \"\"\"\n",
    "alter table predictor.grnn add column if not exists wkb_geometry geometry(Polygon,4269);\n",
    "update predictor.grnn A SET wkb_geometry = B.wkb_geometry\n",
    "FROM predictor.pergrid_base B\n",
    "WHERE A.grid_id = B.grid_id\n",
    "\"\"\""
   ]
  },
  {
   "cell_type": "code",
   "execution_count": 390,
   "metadata": {},
   "outputs": [
    {
     "data": {
      "text/plain": [
       "<sqlalchemy.engine.result.ResultProxy at 0x7fdb21aa49d0>"
      ]
     },
     "execution_count": 390,
     "metadata": {},
     "output_type": "execute_result"
    }
   ],
   "source": [
    "connection = engine.connect()\n",
    "connection.execute(update_geom)"
   ]
  },
  {
   "cell_type": "code",
   "execution_count": 391,
   "metadata": {},
   "outputs": [],
   "source": [
    "update_residual = \"\"\"\n",
    "alter table predictor.grnn add column residual double precision;\n",
    "update predictor.grnn set residual = (tsr_predicted-tsr);\n",
    "\"\"\""
   ]
  },
  {
   "cell_type": "code",
   "execution_count": 392,
   "metadata": {},
   "outputs": [
    {
     "data": {
      "text/plain": [
       "<sqlalchemy.engine.result.ResultProxy at 0x7fda41cc1050>"
      ]
     },
     "execution_count": 392,
     "metadata": {},
     "output_type": "execute_result"
    }
   ],
   "source": [
    "connection = engine.connect()\n",
    "connection.execute(update_residual)"
   ]
  },
  {
   "cell_type": "code",
   "execution_count": null,
   "metadata": {},
   "outputs": [],
   "source": []
  },
  {
   "cell_type": "code",
   "execution_count": null,
   "metadata": {},
   "outputs": [],
   "source": []
  }
 ],
 "metadata": {
  "kernelspec": {
   "display_name": "Python 3",
   "language": "python",
   "name": "python3"
  },
  "language_info": {
   "codemirror_mode": {
    "name": "ipython",
    "version": 3
   },
   "file_extension": ".py",
   "mimetype": "text/x-python",
   "name": "python",
   "nbconvert_exporter": "python",
   "pygments_lexer": "ipython3",
   "version": "3.7.6"
  }
 },
 "nbformat": 4,
 "nbformat_minor": 4
}
