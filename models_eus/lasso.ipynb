{
 "cells": [
  {
   "cell_type": "code",
   "execution_count": 1,
   "metadata": {},
   "outputs": [],
   "source": [
    "from sqlalchemy import create_engine\n",
    "\n",
    "import pandas as pd\n",
    "import numpy as np\n",
    "from sklearn.model_selection import train_test_split\n",
    "from sklearn.metrics import r2_score\n",
    "from sklearn.preprocessing import StandardScaler\n",
    "\n",
    "from sklearn.linear_model import Lasso\n",
    "from sklearn.linear_model import LassoCV\n",
    "from sklearn.impute import KNNImputer\n",
    "\n",
    "from warnings import simplefilter\n",
    "# ignore all future warnings\n",
    "simplefilter(action='ignore', category=FutureWarning)"
   ]
  },
  {
   "cell_type": "code",
   "execution_count": 2,
   "metadata": {},
   "outputs": [],
   "source": [
    "localhost = {'user': 'postgres', 'password': 'postgres', 'host': 'localhost', 'port': 5432, 'db': 'fiadb'}\n",
    "params = 'postgresql://{0}:{1}@{2}:{3}/{4}'\n",
    "engine = create_engine(params.format(localhost['user'], localhost['password'], localhost['host'], localhost['port'], localhost['db']))\n",
    "# geom_sql = \"\"\"select distinct grid_id, grid_geom from fs_fiadb.pergrid\"\"\"\n",
    "pergrid_base = \"\"\"select distinct * from predictor.pergrid_base_eus\"\"\"\n",
    "pergrid_base_df = pd.read_sql(pergrid_base, engine)"
   ]
  },
  {
   "cell_type": "code",
   "execution_count": 3,
   "metadata": {},
   "outputs": [
    {
     "data": {
      "text/plain": [
       "Index(['grid_id', 'aet', 'ai', 'art', 'ewd', 'fa', 'map', 'mat', 'mpdq',\n",
       "       'mtcq', 'pet', 'psn', 'ra', 'rmap', 'rmat', 'tsn', 'mfdf', 'alt', 'shg',\n",
       "       'mtwq', 'wkb_geometry', 'tsr', 'wa'],\n",
       "      dtype='object')"
      ]
     },
     "execution_count": 3,
     "metadata": {},
     "output_type": "execute_result"
    }
   ],
   "source": [
    "pergrid_base_df.columns"
   ]
  },
  {
   "cell_type": "code",
   "execution_count": 4,
   "metadata": {},
   "outputs": [],
   "source": [
    "# separate predictor variables from outcome varaible\n",
    "y = pergrid_base_df['tsr']\n",
    "grid_id = pergrid_base_df['grid_id']\n",
    "pred_var= ['aet', 'ai', 'art', 'ewd', 'fa', 'map', 'mat', 'mpdq',\n",
    "       'mtcq', 'pet', 'psn', 'ra', 'rmap', 'rmat', 'tsn', 'mfdf', 'alt','shg','mtwq','wa']\n",
    "pergrid_base_pred_df = pergrid_base_df[pred_var]"
   ]
  },
  {
   "cell_type": "code",
   "execution_count": 5,
   "metadata": {},
   "outputs": [
    {
     "data": {
      "text/html": [
       "<div>\n",
       "<style scoped>\n",
       "    .dataframe tbody tr th:only-of-type {\n",
       "        vertical-align: middle;\n",
       "    }\n",
       "\n",
       "    .dataframe tbody tr th {\n",
       "        vertical-align: top;\n",
       "    }\n",
       "\n",
       "    .dataframe thead th {\n",
       "        text-align: right;\n",
       "    }\n",
       "</style>\n",
       "<table border=\"1\" class=\"dataframe\">\n",
       "  <thead>\n",
       "    <tr style=\"text-align: right;\">\n",
       "      <th></th>\n",
       "      <th>0</th>\n",
       "      <th>1</th>\n",
       "      <th>2</th>\n",
       "      <th>3</th>\n",
       "      <th>4</th>\n",
       "      <th>5</th>\n",
       "      <th>6</th>\n",
       "      <th>7</th>\n",
       "      <th>8</th>\n",
       "      <th>9</th>\n",
       "      <th>10</th>\n",
       "      <th>11</th>\n",
       "      <th>12</th>\n",
       "      <th>13</th>\n",
       "      <th>14</th>\n",
       "      <th>15</th>\n",
       "      <th>16</th>\n",
       "      <th>17</th>\n",
       "      <th>18</th>\n",
       "      <th>19</th>\n",
       "    </tr>\n",
       "  </thead>\n",
       "  <tbody>\n",
       "    <tr>\n",
       "      <th>0</th>\n",
       "      <td>65535.0</td>\n",
       "      <td>1.07484</td>\n",
       "      <td>0.164286</td>\n",
       "      <td>-524.708793</td>\n",
       "      <td>0.0711</td>\n",
       "      <td>1148.5</td>\n",
       "      <td>0.309987</td>\n",
       "      <td>131.5</td>\n",
       "      <td>21.304167</td>\n",
       "      <td>1918.111111</td>\n",
       "      <td>0.713689</td>\n",
       "      <td>1.0</td>\n",
       "      <td>1.833333</td>\n",
       "      <td>0.241667</td>\n",
       "      <td>3.698817</td>\n",
       "      <td>8.088</td>\n",
       "      <td>0.011696</td>\n",
       "      <td>1.2</td>\n",
       "      <td>28.626191</td>\n",
       "      <td>302.9049</td>\n",
       "    </tr>\n",
       "    <tr>\n",
       "      <th>1</th>\n",
       "      <td>13144.0</td>\n",
       "      <td>0.65770</td>\n",
       "      <td>8.822390</td>\n",
       "      <td>-894732.416005</td>\n",
       "      <td>0.1062</td>\n",
       "      <td>1208.0</td>\n",
       "      <td>12.476780</td>\n",
       "      <td>128.0</td>\n",
       "      <td>19.837514</td>\n",
       "      <td>1833.026596</td>\n",
       "      <td>32.850457</td>\n",
       "      <td>1.0</td>\n",
       "      <td>4.333333</td>\n",
       "      <td>0.679166</td>\n",
       "      <td>169.350913</td>\n",
       "      <td>3.520</td>\n",
       "      <td>0.774757</td>\n",
       "      <td>4.4</td>\n",
       "      <td>27.766178</td>\n",
       "      <td>149.0013</td>\n",
       "    </tr>\n",
       "    <tr>\n",
       "      <th>2</th>\n",
       "      <td>13867.0</td>\n",
       "      <td>0.66700</td>\n",
       "      <td>7.376786</td>\n",
       "      <td>-656234.650346</td>\n",
       "      <td>0.0549</td>\n",
       "      <td>1245.0</td>\n",
       "      <td>10.635709</td>\n",
       "      <td>130.0</td>\n",
       "      <td>19.966610</td>\n",
       "      <td>1850.611285</td>\n",
       "      <td>27.834838</td>\n",
       "      <td>1.0</td>\n",
       "      <td>7.833333</td>\n",
       "      <td>0.945833</td>\n",
       "      <td>143.805179</td>\n",
       "      <td>3.260</td>\n",
       "      <td>0.628627</td>\n",
       "      <td>4.2</td>\n",
       "      <td>27.982256</td>\n",
       "      <td>164.0862</td>\n",
       "    </tr>\n",
       "    <tr>\n",
       "      <th>3</th>\n",
       "      <td>65535.0</td>\n",
       "      <td>0.94772</td>\n",
       "      <td>1.734753</td>\n",
       "      <td>-48762.101679</td>\n",
       "      <td>0.0342</td>\n",
       "      <td>1223.0</td>\n",
       "      <td>2.873174</td>\n",
       "      <td>130.5</td>\n",
       "      <td>20.691381</td>\n",
       "      <td>1898.352941</td>\n",
       "      <td>7.071733</td>\n",
       "      <td>2.0</td>\n",
       "      <td>10.083333</td>\n",
       "      <td>0.637500</td>\n",
       "      <td>36.816597</td>\n",
       "      <td>4.760</td>\n",
       "      <td>0.172147</td>\n",
       "      <td>2.0</td>\n",
       "      <td>28.239400</td>\n",
       "      <td>353.2644</td>\n",
       "    </tr>\n",
       "    <tr>\n",
       "      <th>4</th>\n",
       "      <td>65535.0</td>\n",
       "      <td>1.07484</td>\n",
       "      <td>0.631731</td>\n",
       "      <td>-6380.557906</td>\n",
       "      <td>0.0027</td>\n",
       "      <td>1183.6</td>\n",
       "      <td>1.045456</td>\n",
       "      <td>249.4</td>\n",
       "      <td>3.757151</td>\n",
       "      <td>1895.387097</td>\n",
       "      <td>2.569308</td>\n",
       "      <td>2.0</td>\n",
       "      <td>4.000000</td>\n",
       "      <td>0.212500</td>\n",
       "      <td>13.451322</td>\n",
       "      <td>4.760</td>\n",
       "      <td>0.068093</td>\n",
       "      <td>1.2</td>\n",
       "      <td>22.364209</td>\n",
       "      <td>121.9797</td>\n",
       "    </tr>\n",
       "  </tbody>\n",
       "</table>\n",
       "</div>"
      ],
      "text/plain": [
       "         0        1         2              3       4       5          6  \\\n",
       "0  65535.0  1.07484  0.164286    -524.708793  0.0711  1148.5   0.309987   \n",
       "1  13144.0  0.65770  8.822390 -894732.416005  0.1062  1208.0  12.476780   \n",
       "2  13867.0  0.66700  7.376786 -656234.650346  0.0549  1245.0  10.635709   \n",
       "3  65535.0  0.94772  1.734753  -48762.101679  0.0342  1223.0   2.873174   \n",
       "4  65535.0  1.07484  0.631731   -6380.557906  0.0027  1183.6   1.045456   \n",
       "\n",
       "       7          8            9         10   11         12        13  \\\n",
       "0  131.5  21.304167  1918.111111   0.713689  1.0   1.833333  0.241667   \n",
       "1  128.0  19.837514  1833.026596  32.850457  1.0   4.333333  0.679166   \n",
       "2  130.0  19.966610  1850.611285  27.834838  1.0   7.833333  0.945833   \n",
       "3  130.5  20.691381  1898.352941   7.071733  2.0  10.083333  0.637500   \n",
       "4  249.4   3.757151  1895.387097   2.569308  2.0   4.000000  0.212500   \n",
       "\n",
       "           14     15        16   17         18        19  \n",
       "0    3.698817  8.088  0.011696  1.2  28.626191  302.9049  \n",
       "1  169.350913  3.520  0.774757  4.4  27.766178  149.0013  \n",
       "2  143.805179  3.260  0.628627  4.2  27.982256  164.0862  \n",
       "3   36.816597  4.760  0.172147  2.0  28.239400  353.2644  \n",
       "4   13.451322  4.760  0.068093  1.2  22.364209  121.9797  "
      ]
     },
     "execution_count": 5,
     "metadata": {},
     "output_type": "execute_result"
    }
   ],
   "source": [
    "# fill NaN with values from neighbor pixels\n",
    "imputer = KNNImputer(n_neighbors=5)\n",
    "pergrid_base_filled = imputer.fit_transform(pergrid_base_pred_df)\n",
    "pergrid_base_df = pd.DataFrame(pergrid_base_filled)\n",
    "pergrid_base_df.head()"
   ]
  },
  {
   "cell_type": "code",
   "execution_count": 6,
   "metadata": {},
   "outputs": [],
   "source": [
    "from sklearn.preprocessing import MinMaxScaler\n",
    "\n",
    "ss = MinMaxScaler()\n",
    "X_std = ss.fit_transform(pergrid_base_df)\n",
    "\n",
    "Xstd=pd.DataFrame(data=X_std[0:,0:],\n",
    "                index=pergrid_base_pred_df.index,\n",
    "                columns=pred_var)"
   ]
  },
  {
   "cell_type": "code",
   "execution_count": 7,
   "metadata": {},
   "outputs": [],
   "source": [
    "x_train, x_test, y_train, y_test = train_test_split(Xstd, y, test_size=0.2, random_state=12345)"
   ]
  },
  {
   "cell_type": "code",
   "execution_count": 8,
   "metadata": {},
   "outputs": [
    {
     "name": "stdout",
     "output_type": "stream",
     "text": [
      "Test score for alpha =0.0001:  0.6740403950040608\n"
     ]
    }
   ],
   "source": [
    "\"\"\"Lasso modeling with alpha=0.000001\"\"\"\n",
    "lasso00001 = Lasso(alpha=0.0001, max_iter=10e5)\n",
    "lasso00001.fit(Xstd, y)\n",
    "\n",
    "test_score=lasso00001.score(x_test,y_test)\n",
    "print(\"Test score for alpha =0.0001: \", test_score)"
   ]
  },
  {
   "cell_type": "code",
   "execution_count": 9,
   "metadata": {},
   "outputs": [
    {
     "data": {
      "text/plain": [
       "LassoCV(alphas=None, copy_X=True, cv=10, eps=1e-06, fit_intercept=True,\n",
       "        max_iter=10000000.0, n_alphas=1000, n_jobs=None, normalize=False,\n",
       "        positive=False, precompute='auto', random_state=None,\n",
       "        selection='cyclic', tol=0.0001, verbose=False)"
      ]
     },
     "execution_count": 9,
     "metadata": {},
     "output_type": "execute_result"
    }
   ],
   "source": [
    "\"\"\"Lasso Cross-validation modeling with eps=0.000001\"\"\"\n",
    "lassocv = LassoCV(eps=0.000001, max_iter=10e6, n_alphas=1000, cv=10, random_state=None)\n",
    "lassocv.fit(x_train, y_train)"
   ]
  },
  {
   "cell_type": "code",
   "execution_count": 10,
   "metadata": {},
   "outputs": [
    {
     "data": {
      "text/html": [
       "<div>\n",
       "<style scoped>\n",
       "    .dataframe tbody tr th:only-of-type {\n",
       "        vertical-align: middle;\n",
       "    }\n",
       "\n",
       "    .dataframe tbody tr th {\n",
       "        vertical-align: top;\n",
       "    }\n",
       "\n",
       "    .dataframe thead th {\n",
       "        text-align: right;\n",
       "    }\n",
       "</style>\n",
       "<table border=\"1\" class=\"dataframe\">\n",
       "  <thead>\n",
       "    <tr style=\"text-align: right;\">\n",
       "      <th></th>\n",
       "      <th>Features</th>\n",
       "      <th>Lasso Coefficents</th>\n",
       "    </tr>\n",
       "  </thead>\n",
       "  <tbody>\n",
       "    <tr>\n",
       "      <th>7</th>\n",
       "      <td>mpdq</td>\n",
       "      <td>0.0</td>\n",
       "    </tr>\n",
       "  </tbody>\n",
       "</table>\n",
       "</div>"
      ],
      "text/plain": [
       "  Features  Lasso Coefficents\n",
       "7     mpdq                0.0"
      ]
     },
     "execution_count": 10,
     "metadata": {},
     "output_type": "execute_result"
    }
   ],
   "source": [
    "df = pd.DataFrame(list(zip(pred_var, lassocv.coef_.tolist())), columns =['Features', 'Lasso Coefficents'])\n",
    "df.loc[df['Lasso Coefficents']==0]"
   ]
  },
  {
   "cell_type": "code",
   "execution_count": 11,
   "metadata": {},
   "outputs": [],
   "source": [
    "df_lasso = df.loc[df['Lasso Coefficents']!=0]\n",
    "df_lasso_sort = df_lasso.iloc[df_lasso['Lasso Coefficents'].abs().argsort()]"
   ]
  },
  {
   "cell_type": "code",
   "execution_count": 12,
   "metadata": {},
   "outputs": [
    {
     "data": {
      "text/plain": [
       "['aet',\n",
       " 'mat',\n",
       " 'shg',\n",
       " 'ra',\n",
       " 'mfdf',\n",
       " 'wa',\n",
       " 'rmat',\n",
       " 'alt',\n",
       " 'psn',\n",
       " 'rmap',\n",
       " 'mtcq',\n",
       " 'mtwq',\n",
       " 'map',\n",
       " 'ai',\n",
       " 'fa',\n",
       " 'ewd',\n",
       " 'pet',\n",
       " 'tsn',\n",
       " 'art']"
      ]
     },
     "execution_count": 12,
     "metadata": {},
     "output_type": "execute_result"
    }
   ],
   "source": [
    "df_lasso_sort.Features.to_list()"
   ]
  },
  {
   "cell_type": "code",
   "execution_count": 13,
   "metadata": {},
   "outputs": [
    {
     "name": "stdout",
     "output_type": "stream",
     "text": [
      "Test score for 10-fold Cross-validation Lasso:  0.6769795523244915\n"
     ]
    }
   ],
   "source": [
    "model = LassoCV(eps=0.000001, max_iter=10e6, n_alphas=1000, cv=10, random_state=None).fit(x_test, y_test)\n",
    "\n",
    "test_score_cv=model.score(x_test,y_test)\n",
    "print(\"Test score for 10-fold Cross-validation Lasso: \", test_score_cv)"
   ]
  },
  {
   "cell_type": "code",
   "execution_count": 14,
   "metadata": {},
   "outputs": [
    {
     "data": {
      "text/html": [
       "<div>\n",
       "<style scoped>\n",
       "    .dataframe tbody tr th:only-of-type {\n",
       "        vertical-align: middle;\n",
       "    }\n",
       "\n",
       "    .dataframe tbody tr th {\n",
       "        vertical-align: top;\n",
       "    }\n",
       "\n",
       "    .dataframe thead th {\n",
       "        text-align: right;\n",
       "    }\n",
       "</style>\n",
       "<table border=\"1\" class=\"dataframe\">\n",
       "  <thead>\n",
       "    <tr style=\"text-align: right;\">\n",
       "      <th></th>\n",
       "      <th>Features</th>\n",
       "      <th>Lasso Coefficents</th>\n",
       "    </tr>\n",
       "  </thead>\n",
       "  <tbody>\n",
       "    <tr>\n",
       "      <th>0</th>\n",
       "      <td>aet</td>\n",
       "      <td>-0.108983</td>\n",
       "    </tr>\n",
       "    <tr>\n",
       "      <th>1</th>\n",
       "      <td>ai</td>\n",
       "      <td>-22.443652</td>\n",
       "    </tr>\n",
       "    <tr>\n",
       "      <th>2</th>\n",
       "      <td>art</td>\n",
       "      <td>210.753630</td>\n",
       "    </tr>\n",
       "    <tr>\n",
       "      <th>3</th>\n",
       "      <td>ewd</td>\n",
       "      <td>25.223920</td>\n",
       "    </tr>\n",
       "    <tr>\n",
       "      <th>4</th>\n",
       "      <td>fa</td>\n",
       "      <td>23.414913</td>\n",
       "    </tr>\n",
       "    <tr>\n",
       "      <th>5</th>\n",
       "      <td>map</td>\n",
       "      <td>19.195628</td>\n",
       "    </tr>\n",
       "    <tr>\n",
       "      <th>6</th>\n",
       "      <td>mat</td>\n",
       "      <td>-0.627271</td>\n",
       "    </tr>\n",
       "    <tr>\n",
       "      <th>8</th>\n",
       "      <td>mtcq</td>\n",
       "      <td>17.603188</td>\n",
       "    </tr>\n",
       "    <tr>\n",
       "      <th>9</th>\n",
       "      <td>pet</td>\n",
       "      <td>-27.251972</td>\n",
       "    </tr>\n",
       "    <tr>\n",
       "      <th>10</th>\n",
       "      <td>psn</td>\n",
       "      <td>-9.234998</td>\n",
       "    </tr>\n",
       "    <tr>\n",
       "      <th>11</th>\n",
       "      <td>ra</td>\n",
       "      <td>1.791882</td>\n",
       "    </tr>\n",
       "    <tr>\n",
       "      <th>12</th>\n",
       "      <td>rmap</td>\n",
       "      <td>-13.295084</td>\n",
       "    </tr>\n",
       "    <tr>\n",
       "      <th>13</th>\n",
       "      <td>rmat</td>\n",
       "      <td>8.423412</td>\n",
       "    </tr>\n",
       "    <tr>\n",
       "      <th>14</th>\n",
       "      <td>tsn</td>\n",
       "      <td>-170.002040</td>\n",
       "    </tr>\n",
       "    <tr>\n",
       "      <th>15</th>\n",
       "      <td>mfdf</td>\n",
       "      <td>4.404913</td>\n",
       "    </tr>\n",
       "    <tr>\n",
       "      <th>16</th>\n",
       "      <td>alt</td>\n",
       "      <td>-8.733527</td>\n",
       "    </tr>\n",
       "    <tr>\n",
       "      <th>17</th>\n",
       "      <td>shg</td>\n",
       "      <td>-0.738344</td>\n",
       "    </tr>\n",
       "    <tr>\n",
       "      <th>18</th>\n",
       "      <td>mtwq</td>\n",
       "      <td>17.695056</td>\n",
       "    </tr>\n",
       "    <tr>\n",
       "      <th>19</th>\n",
       "      <td>wa</td>\n",
       "      <td>7.701304</td>\n",
       "    </tr>\n",
       "  </tbody>\n",
       "</table>\n",
       "</div>"
      ],
      "text/plain": [
       "   Features  Lasso Coefficents\n",
       "0       aet          -0.108983\n",
       "1        ai         -22.443652\n",
       "2       art         210.753630\n",
       "3       ewd          25.223920\n",
       "4        fa          23.414913\n",
       "5       map          19.195628\n",
       "6       mat          -0.627271\n",
       "8      mtcq          17.603188\n",
       "9       pet         -27.251972\n",
       "10      psn          -9.234998\n",
       "11       ra           1.791882\n",
       "12     rmap         -13.295084\n",
       "13     rmat           8.423412\n",
       "14      tsn        -170.002040\n",
       "15     mfdf           4.404913\n",
       "16      alt          -8.733527\n",
       "17      shg          -0.738344\n",
       "18     mtwq          17.695056\n",
       "19       wa           7.701304"
      ]
     },
     "execution_count": 14,
     "metadata": {},
     "output_type": "execute_result"
    }
   ],
   "source": [
    "df_lasso"
   ]
  },
  {
   "cell_type": "code",
   "execution_count": 15,
   "metadata": {},
   "outputs": [
    {
     "name": "stdout",
     "output_type": "stream",
     "text": [
      "test MAE 5.04382679777225\n",
      "test r2 0.6769795523244915\n"
     ]
    }
   ],
   "source": [
    "from sklearn.metrics import mean_absolute_error\n",
    "from sklearn.metrics import r2_score\n",
    "\n",
    "y_test_pred = model.predict(x_test)\n",
    "print('test MAE', mean_absolute_error(y_test_pred, y_test))\n",
    "print('test r2', r2_score(y_test, y_test_pred))"
   ]
  },
  {
   "cell_type": "code",
   "execution_count": 16,
   "metadata": {},
   "outputs": [],
   "source": [
    "lasso_y_test_eus = pd.DataFrame(\n",
    "    {'tsr': y_test,\n",
    "     'tsr_predicted': y_test_pred})\n",
    "lasso_y_test_eus.to_sql(name='lasso_y_test_eus', con=engine, schema='predictor', if_exists='replace', index=False)"
   ]
  },
  {
   "cell_type": "code",
   "execution_count": null,
   "metadata": {},
   "outputs": [],
   "source": []
  }
 ],
 "metadata": {
  "kernelspec": {
   "display_name": "base",
   "language": "python",
   "name": "base"
  },
  "language_info": {
   "codemirror_mode": {
    "name": "ipython",
    "version": 3
   },
   "file_extension": ".py",
   "mimetype": "text/x-python",
   "name": "python",
   "nbconvert_exporter": "python",
   "pygments_lexer": "ipython3",
   "version": "3.7.6"
  }
 },
 "nbformat": 4,
 "nbformat_minor": 2
}
